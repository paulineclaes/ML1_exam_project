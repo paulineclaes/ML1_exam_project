{
 "cells": [
  {
   "cell_type": "markdown",
   "metadata": {},
   "source": [
    "# Sentiment mining: corona tweets\n",
    "\n",
    "In this Machine Learning 1 Project, we will build six different models to analyze and predict tweets regarding the coronavirus. This dataset was collected from [Kaggle](https://www.kaggle.com/datatattle/covid-19-nlp-text-classification) and contains 5 input features and 1 output label. The input features are: UserName, ScreenName, Location, TweetAt, OriginalTweet and Sentiment. UserName is an integer that functions as an index, ScreenName is a number that represents the unique and anonymized \"IDs\" of the tweets. TweetAt is the date of when the tweet was posted. OriginalTweet is the actual content of the tweet and the text that we will be analyzing. Sentiment is a column containing five classes: Extremely Negative, Negative, Neutral, Positive and Extremely Positive. For this project, we are going to select the OriginalTweet column as our only input feature and Sentiment as our output label. After having examined the dataset in more detail, it became clear that there was not really a meticulous distinction between Extremely Negative and Negative, and between Extremely Positive and Positive. That is why these classes will be merged together into respectively Negative and Positive, leaving us with three output labels in which the tweets can be classified: Negative, Neutral and Positive.\n",
    "\n",
    "The original datset contains 41,158 instances. First, we will drop the rows containing missing values, which leaves us with 32,492 instances. Secondly, we merge the categories Extremely Negative with Negative and Extremely Positive with Positive. Furthermore, the dataset was not balanced and the classes didn't have the same number of instances. That is why we set all the classes to the same amount of instances, the amount of the least populated class. Lastly, we divided the dataset in half for more computational efficiency. This way, each class contains 3,047 instances, creating a total of 9,141 instances for the remainder of the dataset that we will be using. \n",
    "\n",
    "To finalize the preprocessing, we divide the data into train (80%) and test splits (20%), where the data is being shuffled, stratified and rendered reproducible because of the random_state.\n",
    "\n",
    "The aim of this project is to compare different Machine Learning algorithms for text classification, and come to the best performing one. We will build pipelines and GridSearch by combining 2 vectorizers: CountVectorizer and TF-IDF Vectorizer, and 3 classifiers: SGDClassifier, Support Vector Machine and Naive Bayes Classifier."
   ]
  },
  {
   "cell_type": "markdown",
   "metadata": {},
   "source": [
    "## Preprocessing"
   ]
  },
  {
   "cell_type": "code",
   "execution_count": 15,
   "metadata": {},
   "outputs": [],
   "source": [
    "# import packages\n",
    "import pandas as pd\n",
    "import numpy as np"
   ]
  },
  {
   "cell_type": "code",
   "execution_count": 1,
   "metadata": {},
   "outputs": [],
   "source": [
    "# import modules\n",
    "from sklearn.feature_extraction.text import CountVectorizer, TfidfVectorizer\n",
    "from sklearn import naive_bayes\n",
    "from sklearn.svm import SVC\n",
    "from sklearn.model_selection import GridSearchCV, RandomizedSearchCV\n",
    "from sklearn.pipeline import make_pipeline\n",
    "from sklearn.linear_model import SGDClassifier\n",
    "from sklearn.metrics import classification_report, confusion_matrix, plot_confusion_matrix\n",
    "from nltk.tokenize import word_tokenize \n",
    "import matplotlib.pyplot as plt\n",
    "nltk__word_tokenizer = word_tokenize"
   ]
  },
  {
   "cell_type": "code",
   "execution_count": 17,
   "metadata": {},
   "outputs": [],
   "source": [
    "# read in the data\n",
    "df = pd.read_csv(\"corona-tweets.csv\", sep=\",\")"
   ]
  },
  {
   "cell_type": "code",
   "execution_count": 18,
   "metadata": {},
   "outputs": [
    {
     "data": {
      "text/html": [
       "<div>\n",
       "<style scoped>\n",
       "    .dataframe tbody tr th:only-of-type {\n",
       "        vertical-align: middle;\n",
       "    }\n",
       "\n",
       "    .dataframe tbody tr th {\n",
       "        vertical-align: top;\n",
       "    }\n",
       "\n",
       "    .dataframe thead th {\n",
       "        text-align: right;\n",
       "    }\n",
       "</style>\n",
       "<table border=\"1\" class=\"dataframe\">\n",
       "  <thead>\n",
       "    <tr style=\"text-align: right;\">\n",
       "      <th></th>\n",
       "      <th>UserName</th>\n",
       "      <th>ScreenName</th>\n",
       "      <th>Location</th>\n",
       "      <th>TweetAt</th>\n",
       "      <th>OriginalTweet</th>\n",
       "      <th>Sentiment</th>\n",
       "    </tr>\n",
       "  </thead>\n",
       "  <tbody>\n",
       "    <tr>\n",
       "      <th>0</th>\n",
       "      <td>1</td>\n",
       "      <td>44953</td>\n",
       "      <td>NYC</td>\n",
       "      <td>02-03-2020</td>\n",
       "      <td>TRENDING: New Yorkers encounter empty supermar...</td>\n",
       "      <td>Extremely Negative</td>\n",
       "    </tr>\n",
       "    <tr>\n",
       "      <th>1</th>\n",
       "      <td>2</td>\n",
       "      <td>44954</td>\n",
       "      <td>Seattle, WA</td>\n",
       "      <td>02-03-2020</td>\n",
       "      <td>When I couldn't find hand sanitizer at Fred Me...</td>\n",
       "      <td>Positive</td>\n",
       "    </tr>\n",
       "    <tr>\n",
       "      <th>2</th>\n",
       "      <td>3</td>\n",
       "      <td>44955</td>\n",
       "      <td>NaN</td>\n",
       "      <td>02-03-2020</td>\n",
       "      <td>Find out how you can protect yourself and love...</td>\n",
       "      <td>Extremely Positive</td>\n",
       "    </tr>\n",
       "    <tr>\n",
       "      <th>3</th>\n",
       "      <td>4</td>\n",
       "      <td>44956</td>\n",
       "      <td>Chicagoland</td>\n",
       "      <td>02-03-2020</td>\n",
       "      <td>#Panic buying hits #NewYork City as anxious sh...</td>\n",
       "      <td>Negative</td>\n",
       "    </tr>\n",
       "    <tr>\n",
       "      <th>4</th>\n",
       "      <td>5</td>\n",
       "      <td>44957</td>\n",
       "      <td>Melbourne, Victoria</td>\n",
       "      <td>03-03-2020</td>\n",
       "      <td>#toiletpaper #dunnypaper #coronavirus #coronav...</td>\n",
       "      <td>Neutral</td>\n",
       "    </tr>\n",
       "  </tbody>\n",
       "</table>\n",
       "</div>"
      ],
      "text/plain": [
       "   UserName  ScreenName             Location     TweetAt  \\\n",
       "0         1       44953                  NYC  02-03-2020   \n",
       "1         2       44954          Seattle, WA  02-03-2020   \n",
       "2         3       44955                  NaN  02-03-2020   \n",
       "3         4       44956          Chicagoland  02-03-2020   \n",
       "4         5       44957  Melbourne, Victoria  03-03-2020   \n",
       "\n",
       "                                       OriginalTweet           Sentiment  \n",
       "0  TRENDING: New Yorkers encounter empty supermar...  Extremely Negative  \n",
       "1  When I couldn't find hand sanitizer at Fred Me...            Positive  \n",
       "2  Find out how you can protect yourself and love...  Extremely Positive  \n",
       "3  #Panic buying hits #NewYork City as anxious sh...            Negative  \n",
       "4  #toiletpaper #dunnypaper #coronavirus #coronav...             Neutral  "
      ]
     },
     "execution_count": 18,
     "metadata": {},
     "output_type": "execute_result"
    }
   ],
   "source": [
    "# inspect\n",
    "df.head()"
   ]
  },
  {
   "cell_type": "code",
   "execution_count": 19,
   "metadata": {},
   "outputs": [
    {
     "data": {
      "text/html": [
       "<div>\n",
       "<style scoped>\n",
       "    .dataframe tbody tr th:only-of-type {\n",
       "        vertical-align: middle;\n",
       "    }\n",
       "\n",
       "    .dataframe tbody tr th {\n",
       "        vertical-align: top;\n",
       "    }\n",
       "\n",
       "    .dataframe thead th {\n",
       "        text-align: right;\n",
       "    }\n",
       "</style>\n",
       "<table border=\"1\" class=\"dataframe\">\n",
       "  <thead>\n",
       "    <tr style=\"text-align: right;\">\n",
       "      <th></th>\n",
       "      <th>UserName</th>\n",
       "      <th>ScreenName</th>\n",
       "      <th>Location</th>\n",
       "      <th>TweetAt</th>\n",
       "      <th>OriginalTweet</th>\n",
       "      <th>Sentiment</th>\n",
       "    </tr>\n",
       "  </thead>\n",
       "  <tbody>\n",
       "    <tr>\n",
       "      <th>41153</th>\n",
       "      <td>44951</td>\n",
       "      <td>89903</td>\n",
       "      <td>Wellington City, New Zealand</td>\n",
       "      <td>14-04-2020</td>\n",
       "      <td>Airline pilots offering to stock supermarket s...</td>\n",
       "      <td>Neutral</td>\n",
       "    </tr>\n",
       "    <tr>\n",
       "      <th>41154</th>\n",
       "      <td>44952</td>\n",
       "      <td>89904</td>\n",
       "      <td>NaN</td>\n",
       "      <td>14-04-2020</td>\n",
       "      <td>Response to complaint not provided citing COVI...</td>\n",
       "      <td>Extremely Negative</td>\n",
       "    </tr>\n",
       "    <tr>\n",
       "      <th>41155</th>\n",
       "      <td>44953</td>\n",
       "      <td>89905</td>\n",
       "      <td>NaN</td>\n",
       "      <td>14-04-2020</td>\n",
       "      <td>You know its getting tough when @KameronWilds...</td>\n",
       "      <td>Positive</td>\n",
       "    </tr>\n",
       "    <tr>\n",
       "      <th>41156</th>\n",
       "      <td>44954</td>\n",
       "      <td>89906</td>\n",
       "      <td>NaN</td>\n",
       "      <td>14-04-2020</td>\n",
       "      <td>Is it wrong that the smell of hand sanitizer i...</td>\n",
       "      <td>Neutral</td>\n",
       "    </tr>\n",
       "    <tr>\n",
       "      <th>41157</th>\n",
       "      <td>44955</td>\n",
       "      <td>89907</td>\n",
       "      <td>i love you so much || he/him</td>\n",
       "      <td>14-04-2020</td>\n",
       "      <td>@TartiiCat Well new/used Rift S are going for ...</td>\n",
       "      <td>Negative</td>\n",
       "    </tr>\n",
       "  </tbody>\n",
       "</table>\n",
       "</div>"
      ],
      "text/plain": [
       "       UserName  ScreenName                      Location     TweetAt  \\\n",
       "41153     44951       89903  Wellington City, New Zealand  14-04-2020   \n",
       "41154     44952       89904                           NaN  14-04-2020   \n",
       "41155     44953       89905                           NaN  14-04-2020   \n",
       "41156     44954       89906                           NaN  14-04-2020   \n",
       "41157     44955       89907  i love you so much || he/him  14-04-2020   \n",
       "\n",
       "                                           OriginalTweet           Sentiment  \n",
       "41153  Airline pilots offering to stock supermarket s...             Neutral  \n",
       "41154  Response to complaint not provided citing COVI...  Extremely Negative  \n",
       "41155  You know its getting tough when @KameronWilds...            Positive  \n",
       "41156  Is it wrong that the smell of hand sanitizer i...             Neutral  \n",
       "41157  @TartiiCat Well new/used Rift S are going for ...            Negative  "
      ]
     },
     "execution_count": 19,
     "metadata": {},
     "output_type": "execute_result"
    }
   ],
   "source": [
    "# inspect\n",
    "df.tail()"
   ]
  },
  {
   "cell_type": "code",
   "execution_count": 20,
   "metadata": {},
   "outputs": [
    {
     "name": "stdout",
     "output_type": "stream",
     "text": [
      "<class 'pandas.core.frame.DataFrame'>\n",
      "RangeIndex: 41158 entries, 0 to 41157\n",
      "Data columns (total 6 columns):\n",
      " #   Column         Non-Null Count  Dtype \n",
      "---  ------         --------------  ----- \n",
      " 0   UserName       41158 non-null  int64 \n",
      " 1   ScreenName     41158 non-null  int64 \n",
      " 2   Location       32492 non-null  object\n",
      " 3   TweetAt        41158 non-null  object\n",
      " 4   OriginalTweet  41158 non-null  object\n",
      " 5   Sentiment      41158 non-null  object\n",
      "dtypes: int64(2), object(4)\n",
      "memory usage: 1.9+ MB\n"
     ]
    }
   ],
   "source": [
    "# inspect\n",
    "df.info()"
   ]
  },
  {
   "cell_type": "code",
   "execution_count": 21,
   "metadata": {},
   "outputs": [
    {
     "data": {
      "text/plain": [
       "UserName            0\n",
       "ScreenName          0\n",
       "Location         8666\n",
       "TweetAt             0\n",
       "OriginalTweet       0\n",
       "Sentiment           0\n",
       "dtype: int64"
      ]
     },
     "execution_count": 21,
     "metadata": {},
     "output_type": "execute_result"
    }
   ],
   "source": [
    "# check to see if there are any missing values\n",
    "df.isnull().sum()"
   ]
  },
  {
   "cell_type": "code",
   "execution_count": 22,
   "metadata": {},
   "outputs": [
    {
     "data": {
      "text/plain": [
       "UserName         0\n",
       "ScreenName       0\n",
       "Location         0\n",
       "TweetAt          0\n",
       "OriginalTweet    0\n",
       "Sentiment        0\n",
       "dtype: int64"
      ]
     },
     "execution_count": 22,
     "metadata": {},
     "output_type": "execute_result"
    }
   ],
   "source": [
    "# drop rows containing missing values\n",
    "df = df.dropna()\n",
    "# check to see if it worked\n",
    "df.isnull().sum()"
   ]
  },
  {
   "cell_type": "code",
   "execution_count": 23,
   "metadata": {},
   "outputs": [
    {
     "name": "stdout",
     "output_type": "stream",
     "text": [
      "<class 'pandas.core.frame.DataFrame'>\n",
      "Int64Index: 32492 entries, 0 to 41157\n",
      "Data columns (total 6 columns):\n",
      " #   Column         Non-Null Count  Dtype \n",
      "---  ------         --------------  ----- \n",
      " 0   UserName       32492 non-null  int64 \n",
      " 1   ScreenName     32492 non-null  int64 \n",
      " 2   Location       32492 non-null  object\n",
      " 3   TweetAt        32492 non-null  object\n",
      " 4   OriginalTweet  32492 non-null  object\n",
      " 5   Sentiment      32492 non-null  object\n",
      "dtypes: int64(2), object(4)\n",
      "memory usage: 1.7+ MB\n"
     ]
    }
   ],
   "source": [
    "# check to see what we have left\n",
    "df.info()"
   ]
  },
  {
   "cell_type": "code",
   "execution_count": 24,
   "metadata": {},
   "outputs": [
    {
     "data": {
      "text/plain": [
       "Positive              9024\n",
       "Negative              7800\n",
       "Neutral               6134\n",
       "Extremely Positive    5301\n",
       "Extremely Negative    4233\n",
       "Name: Sentiment, dtype: int64"
      ]
     },
     "execution_count": 24,
     "metadata": {},
     "output_type": "execute_result"
    }
   ],
   "source": [
    "# check to see if the labels are stratified\n",
    "df.Sentiment.value_counts()"
   ]
  },
  {
   "cell_type": "code",
   "execution_count": 25,
   "metadata": {},
   "outputs": [],
   "source": [
    "# merge Extremely Positive and Positive\n",
    "df['Sentiment'] = df.Sentiment.str.replace('Extremely Positive', 'Positive')\n",
    "# merge Extremely Negative and Negative\n",
    "df['Sentiment'] = df.Sentiment.str.replace('Extremely Negative', 'Negative')"
   ]
  },
  {
   "cell_type": "code",
   "execution_count": 26,
   "metadata": {},
   "outputs": [],
   "source": [
    "# set all the value_counts of entire dataframe equal to the least frequent one\n",
    "min_number = np.min(df.Sentiment.value_counts())\n",
    "df = df.groupby('Sentiment', group_keys=False).apply(lambda x: x.sample(min_number))"
   ]
  },
  {
   "cell_type": "code",
   "execution_count": 27,
   "metadata": {},
   "outputs": [
    {
     "data": {
      "text/plain": [
       "Negative    6134\n",
       "Positive    6134\n",
       "Neutral     6134\n",
       "Name: Sentiment, dtype: int64"
      ]
     },
     "execution_count": 27,
     "metadata": {},
     "output_type": "execute_result"
    }
   ],
   "source": [
    "# check to see if it worked\n",
    "df.Sentiment.value_counts()"
   ]
  },
  {
   "cell_type": "code",
   "execution_count": 28,
   "metadata": {},
   "outputs": [],
   "source": [
    "# take half of the data for computational efficiency by stating frac=0.5\n",
    "# create replicability by random_state=42\n",
    "tweets = df.sample(frac=0.5, random_state=42)"
   ]
  },
  {
   "cell_type": "code",
   "execution_count": 29,
   "metadata": {},
   "outputs": [
    {
     "data": {
      "text/plain": [
       "Neutral     3090\n",
       "Negative    3064\n",
       "Positive    3047\n",
       "Name: Sentiment, dtype: int64"
      ]
     },
     "execution_count": 29,
     "metadata": {},
     "output_type": "execute_result"
    }
   ],
   "source": [
    "# check if they are still correctly stratified\n",
    "tweets.Sentiment.value_counts()"
   ]
  },
  {
   "cell_type": "code",
   "execution_count": 30,
   "metadata": {},
   "outputs": [],
   "source": [
    "# set the value_counts equal to each other again\n",
    "min_number = np.min(tweets.Sentiment.value_counts())\n",
    "tweets = tweets.groupby('Sentiment', group_keys=False).apply(lambda x: x.sample(min_number))"
   ]
  },
  {
   "cell_type": "code",
   "execution_count": 31,
   "metadata": {},
   "outputs": [
    {
     "data": {
      "text/plain": [
       "Positive    3047\n",
       "Neutral     3047\n",
       "Negative    3047\n",
       "Name: Sentiment, dtype: int64"
      ]
     },
     "execution_count": 31,
     "metadata": {},
     "output_type": "execute_result"
    }
   ],
   "source": [
    "# check to see if it worked\n",
    "tweets.Sentiment.value_counts()"
   ]
  },
  {
   "cell_type": "code",
   "execution_count": 32,
   "metadata": {},
   "outputs": [],
   "source": [
    "# divide subset of data into train and test part\n",
    "from sklearn.model_selection import train_test_split\n",
    "\n",
    "X = tweets[\"OriginalTweet\"].values # input feature\n",
    "y = tweets[\"Sentiment\"].values # label"
   ]
  },
  {
   "cell_type": "code",
   "execution_count": 33,
   "metadata": {},
   "outputs": [],
   "source": [
    "X_train, X_test, y_train, y_test = train_test_split(X, y, \n",
    "                                                    test_size = 0.2, # 20% test data\n",
    "                                                    random_state = 42, # replicable results\n",
    "                                                    shuffle = True, # shuffle\n",
    "                                                    stratify = y) # stratify"
   ]
  },
  {
   "cell_type": "code",
   "execution_count": 34,
   "metadata": {},
   "outputs": [
    {
     "data": {
      "text/plain": [
       "((7312,), (1829,), (7312,), (1829,))"
      ]
     },
     "execution_count": 34,
     "metadata": {},
     "output_type": "execute_result"
    }
   ],
   "source": [
    "# check the shapes of the train and test data)\n",
    "X_train.shape, X_test.shape, y_train.shape, y_test.shape"
   ]
  },
  {
   "cell_type": "markdown",
   "metadata": {},
   "source": [
    "We have now selected a subset (50%) of the dataset to perform our model selection on. Because the output labels were not balanced, we set them all equal to the value_count of the least frequent one. \n",
    "\n",
    "> The `X_train` is now a vector that contains 7312 instances and it represents 1 training input feature: the original tweet.\n",
    "\n",
    "> `X_test` is a vector containing 1829 instances of 1 input feature. This part of the data will be used to test the model on unseen input data.\n",
    "\n",
    "> `y_train` is a vector containing 7312 output labels, on which we will train the model on the desired output.\n",
    "\n",
    "> `y_test` is a vector with 1829 output labels, which we will use to compare the predictions of the model (`y_pred`) with the desired output.\n",
    "\n",
    "> We set `shuffle=True` to make sure that all the data is randomly shuffled and not in a particular order (ex. alphabetical or per label) anymore.\n",
    "\n",
    "> We set `stratify=y` to make sure that the output column of Sentiment is evenly distributed between y_train and y_test so that there is no bias in the training."
   ]
  },
  {
   "cell_type": "markdown",
   "metadata": {},
   "source": [
    "# Model 1. CountVectorizer and SGDClassifier"
   ]
  },
  {
   "cell_type": "code",
   "execution_count": 35,
   "metadata": {},
   "outputs": [
    {
     "data": {
      "text/plain": [
       "{'analyzer': 'word',\n",
       " 'binary': False,\n",
       " 'decode_error': 'strict',\n",
       " 'dtype': numpy.int64,\n",
       " 'encoding': 'utf-8',\n",
       " 'input': 'content',\n",
       " 'lowercase': True,\n",
       " 'max_df': 1.0,\n",
       " 'max_features': None,\n",
       " 'min_df': 1,\n",
       " 'ngram_range': (1, 1),\n",
       " 'preprocessor': None,\n",
       " 'stop_words': None,\n",
       " 'strip_accents': None,\n",
       " 'token_pattern': '(?u)\\\\b\\\\w\\\\w+\\\\b',\n",
       " 'tokenizer': None,\n",
       " 'vocabulary': None}"
      ]
     },
     "execution_count": 35,
     "metadata": {},
     "output_type": "execute_result"
    }
   ],
   "source": [
    "# default parameters of CountVectorizer that we might want to optimize\n",
    "CountVectorizer().get_params()"
   ]
  },
  {
   "cell_type": "code",
   "execution_count": 36,
   "metadata": {},
   "outputs": [
    {
     "data": {
      "text/plain": [
       "{'alpha': 0.0001,\n",
       " 'average': False,\n",
       " 'class_weight': None,\n",
       " 'early_stopping': False,\n",
       " 'epsilon': 0.1,\n",
       " 'eta0': 0.0,\n",
       " 'fit_intercept': True,\n",
       " 'l1_ratio': 0.15,\n",
       " 'learning_rate': 'optimal',\n",
       " 'loss': 'hinge',\n",
       " 'max_iter': 1000,\n",
       " 'n_iter_no_change': 5,\n",
       " 'n_jobs': None,\n",
       " 'penalty': 'l2',\n",
       " 'power_t': 0.5,\n",
       " 'random_state': None,\n",
       " 'shuffle': True,\n",
       " 'tol': 0.001,\n",
       " 'validation_fraction': 0.1,\n",
       " 'verbose': 0,\n",
       " 'warm_start': False}"
      ]
     },
     "execution_count": 36,
     "metadata": {},
     "output_type": "execute_result"
    }
   ],
   "source": [
    "# default parameters of SGDClassifier that we might want to optimize.\n",
    "SGDClassifier().get_params()"
   ]
  },
  {
   "cell_type": "markdown",
   "metadata": {},
   "source": [
    "## Model 1a. Pipeline for CountVectorizer and SGDClassifier."
   ]
  },
  {
   "cell_type": "code",
   "execution_count": 37,
   "metadata": {},
   "outputs": [],
   "source": [
    "# instantiate a CountVectorizer\n",
    "cvect1a = CountVectorizer(max_features=10000, # 10,000 most frequent words\n",
    "                          tokenizer = nltk__word_tokenizer) # word tokenizer imported from NLTK\n",
    "\n",
    "# instantiate an SGDClassifier with default parameters\n",
    "sgdclf1a = SGDClassifier(random_state=42)\n",
    "\n",
    "# Instantiate the pipeline\n",
    "pipeline1a = make_pipeline(cvect1a, sgdclf1a)"
   ]
  },
  {
   "cell_type": "code",
   "execution_count": 38,
   "metadata": {},
   "outputs": [
    {
     "data": {
      "text/plain": [
       "Pipeline(steps=[('countvectorizer',\n",
       "                 CountVectorizer(max_features=10000,\n",
       "                                 tokenizer=<function word_tokenize at 0x7f9722562ee0>)),\n",
       "                ('sgdclassifier', SGDClassifier())])"
      ]
     },
     "execution_count": 38,
     "metadata": {},
     "output_type": "execute_result"
    }
   ],
   "source": [
    "# fit the training data to the pipeline\n",
    "pipeline1a.fit(X_train, y_train)"
   ]
  },
  {
   "cell_type": "code",
   "execution_count": 39,
   "metadata": {},
   "outputs": [],
   "source": [
    "# fit the test input to the pipeline to predict the classes on unseen data\n",
    "y_pred1a = pipeline1a.predict(X_test)"
   ]
  },
  {
   "cell_type": "code",
   "execution_count": 40,
   "metadata": {},
   "outputs": [
    {
     "name": "stdout",
     "output_type": "stream",
     "text": [
      "              precision    recall  f1-score   support\n",
      "\n",
      "    Negative       0.70      0.67      0.69       609\n",
      "     Neutral       0.68      0.69      0.69       610\n",
      "    Positive       0.70      0.72      0.71       610\n",
      "\n",
      "    accuracy                           0.69      1829\n",
      "   macro avg       0.69      0.69      0.69      1829\n",
      "weighted avg       0.69      0.69      0.69      1829\n",
      "\n"
     ]
    }
   ],
   "source": [
    "print(classification_report(y_test, y_pred1a))"
   ]
  },
  {
   "cell_type": "code",
   "execution_count": 42,
   "metadata": {},
   "outputs": [
    {
     "data": {
      "image/png": "[encoded data removed]",
      "text/plain": [
       "<Figure size 432x288 with 2 Axes>"
      ]
     },
     "metadata": {
      "needs_background": "light"
     },
     "output_type": "display_data"
    }
   ],
   "source": [
    "fig, ax = plt.subplots()\n",
    "plot_confusion_matrix(pipeline1a, \n",
    "                      X_test,\n",
    "                      y_test,\n",
    "                      labels=pipeline1a.classes_, \n",
    "                      ax = ax)\n",
    "plt.show()"
   ]
  },
  {
   "cell_type": "markdown",
   "metadata": {},
   "source": [
    "So now we have instantiated a pipeline named `Pipeline1` that contains a CountVectorizer with 10,000 max_features, and our own composed tokenizer, as well as a Stochastic Gradient Descent Classifier with a hinge loss-function, which is the standard loss-function for the SGDClassifier. We can check this by calling `SGDClassifier().get_params()`. \n",
    "\n",
    "Judging by their individual f1-scores, \"Positive\" is the class that the model performs best on. "
   ]
  },
  {
   "cell_type": "markdown",
   "metadata": {},
   "source": [
    "### Model 1b: GridSearchCV for CountVectorizer and SGDClassifier\n",
    "In model 1b, we will be performing a GridSearch for the pipeline defined in 1. We will do hyperparameter optimization for countvectorizer__max_features, sgdclassifier__max_iter, sgd__classifier_loss and sgdclassifier__penalty, to see which combinations of those parameters lead our model to its best performance."
   ]
  },
  {
   "cell_type": "code",
   "execution_count": 29,
   "metadata": {},
   "outputs": [],
   "source": [
    "params1b = [{'countvectorizer__max_features': [10000, 30000, 50000], \n",
    "           'sgdclassifier__max_iter':[1000, 10000, 30000], \n",
    "           'sgdclassifier__loss': ['hinge', 'log'],\n",
    "           'sgdclassifier__penalty': ['l2', 'l1', 'elasticnet']}]\n",
    "gs1b = GridSearchCV(estimator=pipeline1a, \n",
    "                    param_grid=params1b, \n",
    "                    scoring=\"f1_macro\", \n",
    "                    cv=10, \n",
    "                    n_jobs=-1, \n",
    "                    refit=True)"
   ]
  },
  {
   "cell_type": "code",
   "execution_count": 30,
   "metadata": {},
   "outputs": [
    {
     "data": {
      "text/plain": [
       "GridSearchCV(cv=10,\n",
       "             estimator=Pipeline(steps=[('countvectorizer',\n",
       "                                        CountVectorizer(tokenizer=<function word_tokenize at 0x7fe7b2e6edc0>)),\n",
       "                                       ('sgdclassifier', SGDClassifier())]),\n",
       "             n_jobs=-1,\n",
       "             param_grid=[{'countvectorizer__max_features': [10000, 30000,\n",
       "                                                            50000],\n",
       "                          'sgdclassifier__loss': ['hinge', 'log'],\n",
       "                          'sgdclassifier__max_iter': [1000, 10000, 30000],\n",
       "                          'sgdclassifier__penalty': ['l2', 'l1',\n",
       "                                                     'elasticnet']}],\n",
       "             scoring='f1_macro')"
      ]
     },
     "execution_count": 30,
     "metadata": {},
     "output_type": "execute_result"
    }
   ],
   "source": [
    "gs1b.fit(X_train, y_train)"
   ]
  },
  {
   "cell_type": "code",
   "execution_count": 31,
   "metadata": {},
   "outputs": [
    {
     "data": {
      "text/plain": [
       "{'countvectorizer__max_features': 50000,\n",
       " 'sgdclassifier__loss': 'log',\n",
       " 'sgdclassifier__max_iter': 1000,\n",
       " 'sgdclassifier__penalty': 'elasticnet'}"
      ]
     },
     "execution_count": 31,
     "metadata": {},
     "output_type": "execute_result"
    }
   ],
   "source": [
    "gs1b.best_params_"
   ]
  },
  {
   "cell_type": "code",
   "execution_count": 32,
   "metadata": {},
   "outputs": [
    {
     "data": {
      "text/plain": [
       "0.7065070297858304"
      ]
     },
     "execution_count": 32,
     "metadata": {},
     "output_type": "execute_result"
    }
   ],
   "source": [
    "gs1b.best_score_"
   ]
  },
  {
   "cell_type": "code",
   "execution_count": 33,
   "metadata": {},
   "outputs": [],
   "source": [
    "y_pred1b = gs1b.predict(X_test)"
   ]
  },
  {
   "cell_type": "code",
   "execution_count": 34,
   "metadata": {},
   "outputs": [
    {
     "name": "stdout",
     "output_type": "stream",
     "text": [
      "              precision    recall  f1-score   support\n",
      "\n",
      "    Negative       0.74      0.70      0.72       609\n",
      "     Neutral       0.67      0.80      0.73       610\n",
      "    Positive       0.78      0.67      0.72       610\n",
      "\n",
      "    accuracy                           0.72      1829\n",
      "   macro avg       0.73      0.72      0.72      1829\n",
      "weighted avg       0.73      0.72      0.72      1829\n",
      "\n"
     ]
    }
   ],
   "source": [
    "print(classification_report(y_test, y_pred1b))"
   ]
  },
  {
   "cell_type": "code",
   "execution_count": 35,
   "metadata": {},
   "outputs": [
    {
     "data": {
      "image/png": "[encoded data removed]",
      "text/plain": [
       "<Figure size 432x288 with 2 Axes>"
      ]
     },
     "metadata": {
      "needs_background": "light"
     },
     "output_type": "display_data"
    }
   ],
   "source": [
    "plot_confusion_matrix(gs1b, X_test, y_test, labels=gs1b.classes_)\n",
    "plt.show()"
   ]
  },
  {
   "cell_type": "markdown",
   "metadata": {},
   "source": [
    "We defined a GridSearchCV for hyperparameter optimization, more specifically the countvectorizer__max_features, sgdclassifier__loss, sgdclassifier__max_iter and sgdclassifier__penalty. The optimal parameters for this would be 50,000 max_features, 'log' loss function, 1000 max_iter and 'elasticnet' penalty. Fitting this to our train data and predicting our test data on it, we see that the improvement in performance in the model is real. The macro average score went from 70% to 73% and 72%. "
   ]
  },
  {
   "cell_type": "markdown",
   "metadata": {},
   "source": [
    "# Model 2. CountVectorizer and Support Vector Machines\n",
    "In model 2 we will build a pipeline with `CountVectorizer(max_features=10000, tokenizer=nltk__word_tokenizer)`.On top of that, we will add a Support Vector Machines, for which we will start off with the default parameters. Subsequently, we will optimize the parameters in the GridSearch"
   ]
  },
  {
   "cell_type": "markdown",
   "metadata": {},
   "source": [
    "## Model 2a. Pipeline for CountVectorizer and Support Vector Machines"
   ]
  },
  {
   "cell_type": "code",
   "execution_count": 69,
   "metadata": {},
   "outputs": [],
   "source": [
    "cvect2a = CountVectorizer(max_features = 10000, \n",
    "                          tokenizer = nltk__word_tokenizer)\n",
    "\n",
    "svm2a = SVC(random_state=42)\n",
    "\n",
    "pipeline2a = make_pipeline(cvect2a, svm2a)"
   ]
  },
  {
   "cell_type": "code",
   "execution_count": 70,
   "metadata": {},
   "outputs": [
    {
     "data": {
      "text/plain": [
       "Pipeline(steps=[('countvectorizer',\n",
       "                 CountVectorizer(max_features=10000,\n",
       "                                 tokenizer=<function word_tokenize at 0x7f9722562ee0>)),\n",
       "                ('svc', SVC(random_state=42))])"
      ]
     },
     "execution_count": 70,
     "metadata": {},
     "output_type": "execute_result"
    }
   ],
   "source": [
    "pipeline2a.fit(X_train, y_train)"
   ]
  },
  {
   "cell_type": "code",
   "execution_count": 71,
   "metadata": {},
   "outputs": [],
   "source": [
    "y_pred2a = pipeline2a.predict(X_test)"
   ]
  },
  {
   "cell_type": "code",
   "execution_count": 72,
   "metadata": {},
   "outputs": [
    {
     "name": "stdout",
     "output_type": "stream",
     "text": [
      "              precision    recall  f1-score   support\n",
      "\n",
      "    Negative       0.64      0.56      0.60       609\n",
      "     Neutral       0.58      0.70      0.64       610\n",
      "    Positive       0.61      0.58      0.59       610\n",
      "\n",
      "    accuracy                           0.61      1829\n",
      "   macro avg       0.61      0.61      0.61      1829\n",
      "weighted avg       0.61      0.61      0.61      1829\n",
      "\n"
     ]
    }
   ],
   "source": [
    "print(classification_report(y_test, y_pred2a))"
   ]
  },
  {
   "cell_type": "markdown",
   "metadata": {},
   "source": [
    "We can clearly see that this model, including a Count Vectorizer with adapted parameters and an SVM with its default parameters, does not perform as well as model 1b. It might behave better when we do a GridSearch and find its optimal parameters."
   ]
  },
  {
   "cell_type": "code",
   "execution_count": 73,
   "metadata": {},
   "outputs": [
    {
     "data": {
      "image/png": "[encoded data removed]",
      "text/plain": [
       "<Figure size 432x288 with 2 Axes>"
      ]
     },
     "metadata": {
      "needs_background": "light"
     },
     "output_type": "display_data"
    }
   ],
   "source": [
    "fig, ax = plt.subplots()\n",
    "plot_confusion_matrix(pipeline2a, \n",
    "                      X_test,\n",
    "                      y_test,\n",
    "                      labels=pipeline2a.classes_, \n",
    "                      ax = ax)\n",
    "plt.show()"
   ]
  },
  {
   "cell_type": "markdown",
   "metadata": {},
   "source": [
    "## Model 2b. GridSearch for CountVectorizer with Support Vector Machines\n",
    "In model 2b, we will perform a GridSearch on pipeline2a to see which parameters would be optimal for the Support Vector Machine. We will optimize C for the linear kernel and gamma for the rbf-kernel."
   ]
  },
  {
   "cell_type": "code",
   "execution_count": 74,
   "metadata": {},
   "outputs": [
    {
     "data": {
      "text/plain": [
       "{'memory': None,\n",
       " 'steps': [('countvectorizer',\n",
       "   CountVectorizer(max_features=10000,\n",
       "                   tokenizer=<function word_tokenize at 0x7f9722562ee0>)),\n",
       "  ('svc', SVC(random_state=42))],\n",
       " 'verbose': False,\n",
       " 'countvectorizer': CountVectorizer(max_features=10000,\n",
       "                 tokenizer=<function word_tokenize at 0x7f9722562ee0>),\n",
       " 'svc': SVC(random_state=42),\n",
       " 'countvectorizer__analyzer': 'word',\n",
       " 'countvectorizer__binary': False,\n",
       " 'countvectorizer__decode_error': 'strict',\n",
       " 'countvectorizer__dtype': numpy.int64,\n",
       " 'countvectorizer__encoding': 'utf-8',\n",
       " 'countvectorizer__input': 'content',\n",
       " 'countvectorizer__lowercase': True,\n",
       " 'countvectorizer__max_df': 1.0,\n",
       " 'countvectorizer__max_features': 10000,\n",
       " 'countvectorizer__min_df': 1,\n",
       " 'countvectorizer__ngram_range': (1, 1),\n",
       " 'countvectorizer__preprocessor': None,\n",
       " 'countvectorizer__stop_words': None,\n",
       " 'countvectorizer__strip_accents': None,\n",
       " 'countvectorizer__token_pattern': '(?u)\\\\b\\\\w\\\\w+\\\\b',\n",
       " 'countvectorizer__tokenizer': <function nltk.tokenize.word_tokenize(text, language='english', preserve_line=False)>,\n",
       " 'countvectorizer__vocabulary': None,\n",
       " 'svc__C': 1.0,\n",
       " 'svc__break_ties': False,\n",
       " 'svc__cache_size': 200,\n",
       " 'svc__class_weight': None,\n",
       " 'svc__coef0': 0.0,\n",
       " 'svc__decision_function_shape': 'ovr',\n",
       " 'svc__degree': 3,\n",
       " 'svc__gamma': 'scale',\n",
       " 'svc__kernel': 'rbf',\n",
       " 'svc__max_iter': -1,\n",
       " 'svc__probability': False,\n",
       " 'svc__random_state': 42,\n",
       " 'svc__shrinking': True,\n",
       " 'svc__tol': 0.001,\n",
       " 'svc__verbose': False}"
      ]
     },
     "execution_count": 74,
     "metadata": {},
     "output_type": "execute_result"
    }
   ],
   "source": [
    "pipeline2a.get_params()"
   ]
  },
  {
   "cell_type": "code",
   "execution_count": 77,
   "metadata": {},
   "outputs": [],
   "source": [
    "params2b = [{'svc__C': [0.1, 1.0, 10.0], \n",
    "             'svc__kernel':['linear']}, \n",
    "             {'svc__gamma': [0.1, 1.0, 10.0], \n",
    "             'svc__kernel': ['rbf']}]\n",
    "\n",
    "gs2b = GridSearchCV(estimator = pipeline2a, \n",
    "                    param_grid = params2b, \n",
    "                    scoring = 'f1_macro', \n",
    "                    cv = 10, \n",
    "                    refit = True)"
   ]
  },
  {
   "cell_type": "code",
   "execution_count": 79,
   "metadata": {},
   "outputs": [],
   "source": [
    "#gs2b = gs2b.fit(X_train, y_train)"
   ]
  },
  {
   "cell_type": "code",
   "execution_count": 59,
   "metadata": {},
   "outputs": [
    {
     "data": {
      "text/plain": [
       "{'svc__C': 0.1, 'svc__kernel': 'linear'}"
      ]
     },
     "execution_count": 59,
     "metadata": {},
     "output_type": "execute_result"
    }
   ],
   "source": [
    "gs2b.best_params_"
   ]
  },
  {
   "cell_type": "code",
   "execution_count": 60,
   "metadata": {},
   "outputs": [
    {
     "data": {
      "text/plain": [
       "0.6901943198710236"
      ]
     },
     "execution_count": 60,
     "metadata": {},
     "output_type": "execute_result"
    }
   ],
   "source": [
    "gs2b.best_score_"
   ]
  },
  {
   "cell_type": "code",
   "execution_count": 62,
   "metadata": {},
   "outputs": [],
   "source": [
    "y_pred2b = gs2b.predict(X_test)"
   ]
  },
  {
   "cell_type": "code",
   "execution_count": 63,
   "metadata": {},
   "outputs": [
    {
     "name": "stdout",
     "output_type": "stream",
     "text": [
      "              precision    recall  f1-score   support\n",
      "\n",
      "    Negative       0.72      0.67      0.69       609\n",
      "     Neutral       0.67      0.81      0.73       610\n",
      "    Positive       0.77      0.66      0.71       610\n",
      "\n",
      "    accuracy                           0.71      1829\n",
      "   macro avg       0.72      0.71      0.71      1829\n",
      "weighted avg       0.72      0.71      0.71      1829\n",
      "\n"
     ]
    }
   ],
   "source": [
    "print(classification_report(y_test, y_pred2b))"
   ]
  },
  {
   "cell_type": "code",
   "execution_count": 81,
   "metadata": {},
   "outputs": [
    {
     "data": {
      "image/png": "[encoded data removed]",
      "text/plain": [
       "<Figure size 432x288 with 2 Axes>"
      ]
     },
     "metadata": {
      "needs_background": "light"
     },
     "output_type": "display_data"
    }
   ],
   "source": [
    "plot_confusion_matrix(gs2b, X_test, y_test, labels=gs2b.classes_)\n",
    "plt.show()"
   ]
  },
  {
   "cell_type": "markdown",
   "metadata": {},
   "source": [
    "This performance is significantly better than the pipeline we ran for CountVectorizer and SVM (default parameters) in model 2a. We had to cut down the GridSearch for only the linear kernel with C-parameter for computational efficiency. However, the model is comparable to model 1b (GridSearch 1b) but slightly outperforms it in the recall as well as the f1-score for Neutral. So far, the best performing models are model 1b and model 2b. "
   ]
  },
  {
   "cell_type": "markdown",
   "metadata": {},
   "source": [
    "# Model 3. Pipeline for CountVectorizer and Naive Bayes Classifier\n",
    "The Naive Bayes classifier is a simple classifier that classifies based on probabilities of events. It is the applied commonly to text classification. Though it is a simple algorithm, it performs well in many text classification problems. (bron: https://medium.com/analytics-vidhya/naive-bayes-classifier-for-text-classification-556fabaf252b). "
   ]
  },
  {
   "cell_type": "markdown",
   "metadata": {},
   "source": [
    "First, we will set up a pipeline for the CountVectorizer and the NBC. For the CountVectorizer, we will keep the parameters as we have used them up until now: `max_features = 50000, tokenizer = nltk__word_tokenizer` and the other defaults. For the NBC, we will use the default parameters."
   ]
  },
  {
   "cell_type": "markdown",
   "metadata": {},
   "source": [
    "## Model 3a. Pipeline for CountVectorizer and Naive Bayes Classifier"
   ]
  },
  {
   "cell_type": "code",
   "execution_count": 82,
   "metadata": {},
   "outputs": [],
   "source": [
    "cvect3a = CountVectorizer(max_features = 10000, \n",
    "                          tokenizer = nltk__word_tokenizer)\n",
    "\n",
    "nbc3a = naive_bayes.MultinomialNB()\n",
    "\n",
    "pipeline3a = make_pipeline(cvect3a, nbc3a)"
   ]
  },
  {
   "cell_type": "code",
   "execution_count": 83,
   "metadata": {},
   "outputs": [
    {
     "data": {
      "text/plain": [
       "Pipeline(steps=[('countvectorizer',\n",
       "                 CountVectorizer(max_features=50000,\n",
       "                                 tokenizer=<function word_tokenize at 0x7fe7b2e6edc0>)),\n",
       "                ('multinomialnb', MultinomialNB())])"
      ]
     },
     "execution_count": 83,
     "metadata": {},
     "output_type": "execute_result"
    }
   ],
   "source": [
    "pipeline3a.fit(X_train, y_train)"
   ]
  },
  {
   "cell_type": "code",
   "execution_count": 84,
   "metadata": {},
   "outputs": [],
   "source": [
    "y_pred3a = pipeline3a.predict(X_test)"
   ]
  },
  {
   "cell_type": "code",
   "execution_count": 85,
   "metadata": {},
   "outputs": [
    {
     "name": "stdout",
     "output_type": "stream",
     "text": [
      "              precision    recall  f1-score   support\n",
      "\n",
      "    Negative       0.63      0.71      0.67       609\n",
      "     Neutral       0.73      0.54      0.62       610\n",
      "    Positive       0.60      0.68      0.64       610\n",
      "\n",
      "    accuracy                           0.64      1829\n",
      "   macro avg       0.65      0.64      0.64      1829\n",
      "weighted avg       0.65      0.64      0.64      1829\n",
      "\n"
     ]
    }
   ],
   "source": [
    "print(classification_report(y_test, y_pred3a))"
   ]
  },
  {
   "cell_type": "code",
   "execution_count": 86,
   "metadata": {},
   "outputs": [
    {
     "data": {
      "image/png": "[encoded data removed]",
      "text/plain": [
       "<Figure size 432x288 with 2 Axes>"
      ]
     },
     "metadata": {
      "needs_background": "light"
     },
     "output_type": "display_data"
    }
   ],
   "source": [
    "fig, ax = plt.subplots()\n",
    "plot_confusion_matrix(pipeline3a, \n",
    "                      X_test,\n",
    "                      y_test,\n",
    "                      labels=pipeline3a.classes_, \n",
    "                      ax = ax)\n",
    "plt.show()"
   ]
  },
  {
   "cell_type": "markdown",
   "metadata": {},
   "source": [
    "As we can see when inspecting the classification_report, this model does not perform better than our two best models so far (1B & 2B-Gridsearch). The f1-scores for the 3 different classes separately aren't bad, but there definitely could be some improvement in that area. Same goes for the macro average precision, recall and f1-score."
   ]
  },
  {
   "cell_type": "code",
   "execution_count": 146,
   "metadata": {},
   "outputs": [
    {
     "data": {
      "text/plain": [
       "{'memory': None,\n",
       " 'steps': [('countvectorizer',\n",
       "   CountVectorizer(max_features=50000,\n",
       "                   tokenizer=<function word_tokenize at 0x7fe7b2e6edc0>)),\n",
       "  ('multinomialnb', MultinomialNB())],\n",
       " 'verbose': False,\n",
       " 'countvectorizer': CountVectorizer(max_features=50000,\n",
       "                 tokenizer=<function word_tokenize at 0x7fe7b2e6edc0>),\n",
       " 'multinomialnb': MultinomialNB(),\n",
       " 'countvectorizer__analyzer': 'word',\n",
       " 'countvectorizer__binary': False,\n",
       " 'countvectorizer__decode_error': 'strict',\n",
       " 'countvectorizer__dtype': numpy.int64,\n",
       " 'countvectorizer__encoding': 'utf-8',\n",
       " 'countvectorizer__input': 'content',\n",
       " 'countvectorizer__lowercase': True,\n",
       " 'countvectorizer__max_df': 1.0,\n",
       " 'countvectorizer__max_features': 50000,\n",
       " 'countvectorizer__min_df': 1,\n",
       " 'countvectorizer__ngram_range': (1, 1),\n",
       " 'countvectorizer__preprocessor': None,\n",
       " 'countvectorizer__stop_words': None,\n",
       " 'countvectorizer__strip_accents': None,\n",
       " 'countvectorizer__token_pattern': '(?u)\\\\b\\\\w\\\\w+\\\\b',\n",
       " 'countvectorizer__tokenizer': <function nltk.tokenize.word_tokenize(text, language='english', preserve_line=False)>,\n",
       " 'countvectorizer__vocabulary': None,\n",
       " 'multinomialnb__alpha': 1.0,\n",
       " 'multinomialnb__class_prior': None,\n",
       " 'multinomialnb__fit_prior': True}"
      ]
     },
     "execution_count": 146,
     "metadata": {},
     "output_type": "execute_result"
    }
   ],
   "source": [
    "pipeline3a.get_params()"
   ]
  },
  {
   "cell_type": "markdown",
   "metadata": {},
   "source": [
    "## Model 3b. GridSearch for CountVectorizer and Naive Bayes Classifier\n",
    "\n",
    "Because the Naive Bayes Classier only has 3 parameters, we will only include the `multinomialnb__alpha` in the GridSearch. We are also going to do a gridsearch for hyperparameter tuning on the CountVectorizer's max_features."
   ]
  },
  {
   "cell_type": "code",
   "execution_count": 153,
   "metadata": {},
   "outputs": [],
   "source": [
    "params3b = [{'countvectorizer__max_features': [10000, 30000, 50000], \n",
    "             'multinomialnb__alpha': [0.1, 1.0, 10.0]}]\n",
    "\n",
    "gs3b = GridSearchCV(estimator = pipeline3a, \n",
    "                    param_grid = params3b, \n",
    "                    scoring = 'f1_macro', \n",
    "                    n_jobs = -1, cv = 10, \n",
    "                    refit = True)"
   ]
  },
  {
   "cell_type": "code",
   "execution_count": 154,
   "metadata": {},
   "outputs": [],
   "source": [
    "gs3b = gs3b.fit(X_train, y_train)"
   ]
  },
  {
   "cell_type": "code",
   "execution_count": 155,
   "metadata": {},
   "outputs": [
    {
     "data": {
      "text/plain": [
       "{'countvectorizer__max_features': 10000, 'multinomialnb__alpha': 1.0}"
      ]
     },
     "execution_count": 155,
     "metadata": {},
     "output_type": "execute_result"
    }
   ],
   "source": [
    "gs3b.best_params_"
   ]
  },
  {
   "cell_type": "code",
   "execution_count": 156,
   "metadata": {},
   "outputs": [
    {
     "data": {
      "text/plain": [
       "0.6243214107584999"
      ]
     },
     "execution_count": 156,
     "metadata": {},
     "output_type": "execute_result"
    }
   ],
   "source": [
    "gs3b.best_score_"
   ]
  },
  {
   "cell_type": "code",
   "execution_count": 157,
   "metadata": {},
   "outputs": [],
   "source": [
    "y_pred3b = gs3b.predict(X_test)"
   ]
  },
  {
   "cell_type": "code",
   "execution_count": 158,
   "metadata": {},
   "outputs": [
    {
     "name": "stdout",
     "output_type": "stream",
     "text": [
      "              precision    recall  f1-score   support\n",
      "\n",
      "    Negative       0.65      0.67      0.66       609\n",
      "     Neutral       0.69      0.65      0.67       610\n",
      "    Positive       0.64      0.66      0.65       610\n",
      "\n",
      "    accuracy                           0.66      1829\n",
      "   macro avg       0.66      0.66      0.66      1829\n",
      "weighted avg       0.66      0.66      0.66      1829\n",
      "\n"
     ]
    }
   ],
   "source": [
    "print(classification_report(y_test, y_pred3b))"
   ]
  },
  {
   "cell_type": "markdown",
   "metadata": {},
   "source": [
    "This model is performing slightly better than the previous one, even though it indicates that the best parameters that can be included are the parameters that we have defined in the pipeline for CountVectorizer, as well as the default parameters for the Naive Bayes Classifier."
   ]
  },
  {
   "cell_type": "markdown",
   "metadata": {},
   "source": [
    "# Model 4. TF-IDF Vectorizer and SGDClassifier\n",
    "In Model 4, we will investigate the performance of the TFIDF-vectorizer and the Stochastic Gradient Descent Classifier. In the very first model we ran (CountVectorizer and SGDClassifier), we built a pipeline that used some specified parameters such as `max_features=10000` and the nltk__word_tokenizer for the CountVectorizer. We will first start out with those for the TFIDF-vectorizer as well. Secondly, we included the SGDClassifier with default parameters in that pipeline. \n",
    "\n",
    "After that, we will run a GridSearch on TFIDF and SGDClassifier. As it wasn't too computationally expensive in the first model we ran, we can assume that it won't be for this one either. "
   ]
  },
  {
   "cell_type": "code",
   "execution_count": 102,
   "metadata": {},
   "outputs": [
    {
     "data": {
      "text/plain": [
       "{'analyzer': 'word',\n",
       " 'binary': False,\n",
       " 'decode_error': 'strict',\n",
       " 'dtype': numpy.float64,\n",
       " 'encoding': 'utf-8',\n",
       " 'input': 'content',\n",
       " 'lowercase': True,\n",
       " 'max_df': 1.0,\n",
       " 'max_features': None,\n",
       " 'min_df': 1,\n",
       " 'ngram_range': (1, 1),\n",
       " 'norm': 'l2',\n",
       " 'preprocessor': None,\n",
       " 'smooth_idf': True,\n",
       " 'stop_words': None,\n",
       " 'strip_accents': None,\n",
       " 'sublinear_tf': False,\n",
       " 'token_pattern': '(?u)\\\\b\\\\w\\\\w+\\\\b',\n",
       " 'tokenizer': None,\n",
       " 'use_idf': True,\n",
       " 'vocabulary': None}"
      ]
     },
     "execution_count": 102,
     "metadata": {},
     "output_type": "execute_result"
    }
   ],
   "source": [
    "TfidfVectorizer().get_params()"
   ]
  },
  {
   "cell_type": "code",
   "execution_count": 103,
   "metadata": {},
   "outputs": [
    {
     "data": {
      "text/plain": [
       "{'alpha': 0.0001,\n",
       " 'average': False,\n",
       " 'class_weight': None,\n",
       " 'early_stopping': False,\n",
       " 'epsilon': 0.1,\n",
       " 'eta0': 0.0,\n",
       " 'fit_intercept': True,\n",
       " 'l1_ratio': 0.15,\n",
       " 'learning_rate': 'optimal',\n",
       " 'loss': 'hinge',\n",
       " 'max_iter': 1000,\n",
       " 'n_iter_no_change': 5,\n",
       " 'n_jobs': None,\n",
       " 'penalty': 'l2',\n",
       " 'power_t': 0.5,\n",
       " 'random_state': None,\n",
       " 'shuffle': True,\n",
       " 'tol': 0.001,\n",
       " 'validation_fraction': 0.1,\n",
       " 'verbose': 0,\n",
       " 'warm_start': False}"
      ]
     },
     "execution_count": 103,
     "metadata": {},
     "output_type": "execute_result"
    }
   ],
   "source": [
    "SGDClassifier().get_params()"
   ]
  },
  {
   "cell_type": "code",
   "execution_count": 104,
   "metadata": {},
   "outputs": [],
   "source": [
    "tvect4a = TfidfVectorizer(max_features=10000, \n",
    "                          tokenizer = nltk__word_tokenizer)\n",
    "\n",
    "sgdclf4a = SGDClassifier(random_state = 42) # default parameters\n",
    "\n",
    "pipeline4a = make_pipeline(tvect4a, sgdclf4a)"
   ]
  },
  {
   "cell_type": "code",
   "execution_count": 105,
   "metadata": {},
   "outputs": [
    {
     "data": {
      "text/plain": [
       "Pipeline(steps=[('tfidfvectorizer',\n",
       "                 TfidfVectorizer(max_features=10000,\n",
       "                                 tokenizer=<function word_tokenize at 0x7fe7b2e6edc0>)),\n",
       "                ('sgdclassifier', SGDClassifier())])"
      ]
     },
     "execution_count": 105,
     "metadata": {},
     "output_type": "execute_result"
    }
   ],
   "source": [
    "pipeline4a.fit(X_train, y_train)"
   ]
  },
  {
   "cell_type": "code",
   "execution_count": 106,
   "metadata": {},
   "outputs": [],
   "source": [
    "y_pred4a = pipeline4a.predict(X_test)"
   ]
  },
  {
   "cell_type": "code",
   "execution_count": 107,
   "metadata": {},
   "outputs": [
    {
     "name": "stdout",
     "output_type": "stream",
     "text": [
      "              precision    recall  f1-score   support\n",
      "\n",
      "    Negative       0.75      0.72      0.73       609\n",
      "     Neutral       0.71      0.75      0.73       610\n",
      "    Positive       0.73      0.72      0.73       610\n",
      "\n",
      "    accuracy                           0.73      1829\n",
      "   macro avg       0.73      0.73      0.73      1829\n",
      "weighted avg       0.73      0.73      0.73      1829\n",
      "\n"
     ]
    }
   ],
   "source": [
    "print(classification_report(y_test, y_pred4a))"
   ]
  },
  {
   "cell_type": "code",
   "execution_count": 108,
   "metadata": {},
   "outputs": [
    {
     "data": {
      "image/png": "[encoded data removed]",
      "text/plain": [
       "<Figure size 432x288 with 2 Axes>"
      ]
     },
     "metadata": {
      "needs_background": "light"
     },
     "output_type": "display_data"
    }
   ],
   "source": [
    "fig, ax = plt.subplots()\n",
    "plot_confusion_matrix(pipeline4a, \n",
    "                      X_test,\n",
    "                      y_test,\n",
    "                      labels=pipeline4a.classes_, \n",
    "                      ax = ax)\n",
    "plt.show()"
   ]
  },
  {
   "cell_type": "markdown",
   "metadata": {},
   "source": [
    "This model looks very successful. It is quite comparable to model 1b and model 2b that were our best performers so far, but it performs slightly better than those two. For 1b and 2b, the macro average recall and f1-score was 72%, and for this one, all macro averages are 73%, as well as all the individual f1-scores. Pipeline4a is our best performing model so far."
   ]
  },
  {
   "cell_type": "markdown",
   "metadata": {},
   "source": [
    "## Model 4b. GridSearch for TF-IDF Vectorizer and SGDClassifier\n",
    "We will now perform a gridsearch on the TF-IDF Vectorizer parameters as well as the SGDClassifier parameters. In our first model (CountVectorizer and SGDClassifier), this appeared to be very successful and that is why we will perform it with this pipeline model as well. \n",
    "\n",
    "We will search for the best value for `max_features`, as well as the best `max_iter`, `loss` and `penalty` for the SGDClassifier. We will perform the GridSearch on the pipeline that we have defined supra (pipeline4a)."
   ]
  },
  {
   "cell_type": "code",
   "execution_count": 109,
   "metadata": {},
   "outputs": [
    {
     "data": {
      "text/plain": [
       "{'memory': None,\n",
       " 'steps': [('tfidfvectorizer',\n",
       "   TfidfVectorizer(max_features=10000,\n",
       "                   tokenizer=<function word_tokenize at 0x7fe7b2e6edc0>)),\n",
       "  ('sgdclassifier', SGDClassifier())],\n",
       " 'verbose': False,\n",
       " 'tfidfvectorizer': TfidfVectorizer(max_features=10000,\n",
       "                 tokenizer=<function word_tokenize at 0x7fe7b2e6edc0>),\n",
       " 'sgdclassifier': SGDClassifier(),\n",
       " 'tfidfvectorizer__analyzer': 'word',\n",
       " 'tfidfvectorizer__binary': False,\n",
       " 'tfidfvectorizer__decode_error': 'strict',\n",
       " 'tfidfvectorizer__dtype': numpy.float64,\n",
       " 'tfidfvectorizer__encoding': 'utf-8',\n",
       " 'tfidfvectorizer__input': 'content',\n",
       " 'tfidfvectorizer__lowercase': True,\n",
       " 'tfidfvectorizer__max_df': 1.0,\n",
       " 'tfidfvectorizer__max_features': 10000,\n",
       " 'tfidfvectorizer__min_df': 1,\n",
       " 'tfidfvectorizer__ngram_range': (1, 1),\n",
       " 'tfidfvectorizer__norm': 'l2',\n",
       " 'tfidfvectorizer__preprocessor': None,\n",
       " 'tfidfvectorizer__smooth_idf': True,\n",
       " 'tfidfvectorizer__stop_words': None,\n",
       " 'tfidfvectorizer__strip_accents': None,\n",
       " 'tfidfvectorizer__sublinear_tf': False,\n",
       " 'tfidfvectorizer__token_pattern': '(?u)\\\\b\\\\w\\\\w+\\\\b',\n",
       " 'tfidfvectorizer__tokenizer': <function nltk.tokenize.word_tokenize(text, language='english', preserve_line=False)>,\n",
       " 'tfidfvectorizer__use_idf': True,\n",
       " 'tfidfvectorizer__vocabulary': None,\n",
       " 'sgdclassifier__alpha': 0.0001,\n",
       " 'sgdclassifier__average': False,\n",
       " 'sgdclassifier__class_weight': None,\n",
       " 'sgdclassifier__early_stopping': False,\n",
       " 'sgdclassifier__epsilon': 0.1,\n",
       " 'sgdclassifier__eta0': 0.0,\n",
       " 'sgdclassifier__fit_intercept': True,\n",
       " 'sgdclassifier__l1_ratio': 0.15,\n",
       " 'sgdclassifier__learning_rate': 'optimal',\n",
       " 'sgdclassifier__loss': 'hinge',\n",
       " 'sgdclassifier__max_iter': 1000,\n",
       " 'sgdclassifier__n_iter_no_change': 5,\n",
       " 'sgdclassifier__n_jobs': None,\n",
       " 'sgdclassifier__penalty': 'l2',\n",
       " 'sgdclassifier__power_t': 0.5,\n",
       " 'sgdclassifier__random_state': None,\n",
       " 'sgdclassifier__shuffle': True,\n",
       " 'sgdclassifier__tol': 0.001,\n",
       " 'sgdclassifier__validation_fraction': 0.1,\n",
       " 'sgdclassifier__verbose': 0,\n",
       " 'sgdclassifier__warm_start': False}"
      ]
     },
     "execution_count": 109,
     "metadata": {},
     "output_type": "execute_result"
    }
   ],
   "source": [
    "pipeline4a.get_params()"
   ]
  },
  {
   "cell_type": "code",
   "execution_count": 110,
   "metadata": {},
   "outputs": [],
   "source": [
    "params4b = [{'tfidfvectorizer__max_features': [10000, 30000, 50000], \n",
    "           'sgdclassifier__max_iter':[1000, 10000, 30000], \n",
    "           'sgdclassifier__loss': ['hinge', 'log'],\n",
    "           'sgdclassifier__penalty': ['l2', 'l1', 'elasticnet']}]\n",
    "gs4b = GridSearchCV(estimator=pipeline4a, \n",
    "                    param_grid=params4b, \n",
    "                    scoring=\"f1_macro\", \n",
    "                    cv=10, \n",
    "                    n_jobs=-1, \n",
    "                    refit=True)"
   ]
  },
  {
   "cell_type": "code",
   "execution_count": 111,
   "metadata": {},
   "outputs": [],
   "source": [
    "gs4b = gs4b.fit(X_train, y_train)"
   ]
  },
  {
   "cell_type": "code",
   "execution_count": 113,
   "metadata": {},
   "outputs": [
    {
     "data": {
      "text/plain": [
       "{'sgdclassifier__loss': 'hinge',\n",
       " 'sgdclassifier__max_iter': 10000,\n",
       " 'sgdclassifier__penalty': 'l1',\n",
       " 'tfidfvectorizer__max_features': 10000}"
      ]
     },
     "execution_count": 113,
     "metadata": {},
     "output_type": "execute_result"
    }
   ],
   "source": [
    "gs4b.best_params_"
   ]
  },
  {
   "cell_type": "code",
   "execution_count": 114,
   "metadata": {},
   "outputs": [
    {
     "data": {
      "text/plain": [
       "0.7576555281263426"
      ]
     },
     "execution_count": 114,
     "metadata": {},
     "output_type": "execute_result"
    }
   ],
   "source": [
    "gs4b.best_score_"
   ]
  },
  {
   "cell_type": "code",
   "execution_count": 115,
   "metadata": {},
   "outputs": [],
   "source": [
    "y_pred4b = gs4b.predict(X_test)"
   ]
  },
  {
   "cell_type": "code",
   "execution_count": 116,
   "metadata": {},
   "outputs": [
    {
     "name": "stdout",
     "output_type": "stream",
     "text": [
      "              precision    recall  f1-score   support\n",
      "\n",
      "    Negative       0.82      0.71      0.76       609\n",
      "     Neutral       0.71      0.86      0.78       610\n",
      "    Positive       0.79      0.72      0.75       610\n",
      "\n",
      "    accuracy                           0.77      1829\n",
      "   macro avg       0.77      0.77      0.76      1829\n",
      "weighted avg       0.77      0.77      0.76      1829\n",
      "\n"
     ]
    }
   ],
   "source": [
    "print(classification_report(half_y_test, y_pred4b))"
   ]
  },
  {
   "cell_type": "code",
   "execution_count": 119,
   "metadata": {},
   "outputs": [
    {
     "data": {
      "image/png": "[encoded data removed]",
      "text/plain": [
       "<Figure size 432x288 with 2 Axes>"
      ]
     },
     "metadata": {
      "needs_background": "light"
     },
     "output_type": "display_data"
    }
   ],
   "source": [
    "plot_confusion_matrix(gs4b, X_test, y_test, labels=gs4b.classes_)\n",
    "plt.show()"
   ]
  },
  {
   "cell_type": "markdown",
   "metadata": {},
   "source": [
    "The GridSearch has proven to be very succesful! The TFIDF-Vectorizer with `max_features=10000` in combination with the SGDClassifier with `max_iter=10000`, `loss='hinge'`, and `penalty='l1'` is our best performer so far. The individual f1-scores have increased with 3% to 5% and the macro averages for precision, recall and f1-score have increased with 3% to 4%. \n",
    "\n",
    "The confusion_matrix points out that Neutral is still easiest to classify, and this is confirmed by the recall for Neutral, but the other two categories are performing very well too."
   ]
  },
  {
   "cell_type": "markdown",
   "metadata": {},
   "source": [
    "# Model 5. TF-IDF Vectorizer and Support Vector Machine\n",
    "In Model 5, we will try out a different vectorizer, the TF-IDF vectorizer.\n",
    "\n",
    "The TF-IDF Vectorizer stands for Term Frequency - Inverse Document Frequency. The first computes the normalized Term Frequency (TF), the second term is the Inverse Document Frequency (IDF), computed as the logarithm of the number of the documents in the corpus divided by the number of documents where the specific term appears. (bron: https://machinelearningmastery.com/prepare-text-data-machine-learning-scikit-learn/) \n",
    "- Term Frequency: This summarizes how often a given word appears within a document.\n",
    "- Inverse Document Frequency: This downscales words that appear a lot across documents."
   ]
  },
  {
   "cell_type": "markdown",
   "metadata": {},
   "source": [
    "## Model 5a. Pipeline for TF-IDF Vectorizer and Support Vector Machine\n",
    "In model 5a, we will build a pipeline for an SVC with default parameters and the TF-IDF Vectorizer, for which we specify some specific parameters: \n",
    "- max_features=10,000\n",
    "- tokenizer = nltk__word_tokenizer.\n"
   ]
  },
  {
   "cell_type": "code",
   "execution_count": 87,
   "metadata": {},
   "outputs": [
    {
     "data": {
      "text/plain": [
       "{'analyzer': 'word',\n",
       " 'binary': False,\n",
       " 'decode_error': 'strict',\n",
       " 'dtype': numpy.float64,\n",
       " 'encoding': 'utf-8',\n",
       " 'input': 'content',\n",
       " 'lowercase': True,\n",
       " 'max_df': 1.0,\n",
       " 'max_features': None,\n",
       " 'min_df': 1,\n",
       " 'ngram_range': (1, 1),\n",
       " 'norm': 'l2',\n",
       " 'preprocessor': None,\n",
       " 'smooth_idf': True,\n",
       " 'stop_words': None,\n",
       " 'strip_accents': None,\n",
       " 'sublinear_tf': False,\n",
       " 'token_pattern': '(?u)\\\\b\\\\w\\\\w+\\\\b',\n",
       " 'tokenizer': None,\n",
       " 'use_idf': True,\n",
       " 'vocabulary': None}"
      ]
     },
     "execution_count": 87,
     "metadata": {},
     "output_type": "execute_result"
    }
   ],
   "source": [
    "TfidfVectorizer().get_params()"
   ]
  },
  {
   "cell_type": "code",
   "execution_count": 80,
   "metadata": {},
   "outputs": [],
   "source": [
    "tfidf5a = TfidfVectorizer(max_features = 10000, \n",
    "                        tokenizer = nltk__word_tokenizer)\n",
    "\n",
    "svm5a = SVC(random_state=42) # with default parameters: rbf, C=1.0, gamma='scale'\n",
    "\n",
    "pipeline5a = make_pipeline(tfidf5a, svm5a)"
   ]
  },
  {
   "cell_type": "code",
   "execution_count": 82,
   "metadata": {},
   "outputs": [
    {
     "data": {
      "text/plain": [
       "Pipeline(steps=[('tfidfvectorizer',\n",
       "                 TfidfVectorizer(max_features=10000,\n",
       "                                 tokenizer=<function word_tokenize at 0x7f9722562ee0>)),\n",
       "                ('svc', SVC(random_state=42))])"
      ]
     },
     "execution_count": 82,
     "metadata": {},
     "output_type": "execute_result"
    }
   ],
   "source": [
    "pipeline5a.fit(X_train, y_train)"
   ]
  },
  {
   "cell_type": "code",
   "execution_count": 83,
   "metadata": {},
   "outputs": [],
   "source": [
    "y_pred5a = pipeline5a.predict(X_test)"
   ]
  },
  {
   "cell_type": "code",
   "execution_count": 84,
   "metadata": {},
   "outputs": [
    {
     "name": "stdout",
     "output_type": "stream",
     "text": [
      "              precision    recall  f1-score   support\n",
      "\n",
      "    Negative       0.69      0.66      0.68       609\n",
      "     Neutral       0.66      0.72      0.69       610\n",
      "    Positive       0.68      0.65      0.67       610\n",
      "\n",
      "    accuracy                           0.68      1829\n",
      "   macro avg       0.68      0.68      0.68      1829\n",
      "weighted avg       0.68      0.68      0.68      1829\n",
      "\n"
     ]
    }
   ],
   "source": [
    "print(classification_report(y_test, y_pred5a))"
   ]
  },
  {
   "cell_type": "code",
   "execution_count": 138,
   "metadata": {},
   "outputs": [
    {
     "data": {
      "image/png": "[encoded data removed]",
      "text/plain": [
       "<Figure size 432x288 with 2 Axes>"
      ]
     },
     "metadata": {
      "needs_background": "light"
     },
     "output_type": "display_data"
    }
   ],
   "source": [
    "fig, ax = plt.subplots()\n",
    "plot_confusion_matrix(pipeline5a, \n",
    "                      half_y_test,\n",
    "                      y_pred5a,\n",
    "                      labels=pipeline5a.classes_, \n",
    "                      ax = ax)\n",
    "plt.show()"
   ]
  },
  {
   "cell_type": "markdown",
   "metadata": {},
   "source": [
    "The performance for this model with TFIDF-vectorizer and SVM with default parameters, is already noticeably better than the performance was for pipeline model 2a, which had the CountVectorizer and SVM with default parameters. Not only have the f1-scores for the individual classes gone up with 11 to 12%, the macro averages for precision and recall and the f1-score have also increased with respectively 5% and 6%. However, it is still not the best performance that we have seen up until now. The best performer remains model 4b. "
   ]
  },
  {
   "cell_type": "markdown",
   "metadata": {},
   "source": [
    "## Model 5b. GridSearch for TFIDF with Support Vector Machine - linear kernel"
   ]
  },
  {
   "cell_type": "code",
   "execution_count": 85,
   "metadata": {},
   "outputs": [],
   "source": [
    "params5b = [{'svc__C': [0.1, 1.0, 10.0], \n",
    "             'svc__kernel':['linear']}, \n",
    "            {'svc__gamma': [0.1, 1.0, 10.0], \n",
    "             'svc__kernel': ['rbf']}]\n",
    "\n",
    "gs5b = GridSearchCV(estimator = pipeline5a, \n",
    "                    param_grid = params5b, \n",
    "                    scoring = 'f1_macro', \n",
    "                    cv = 10, \n",
    "                    n_jobs = -1,\n",
    "                    refit = True)"
   ]
  },
  {
   "cell_type": "code",
   "execution_count": 87,
   "metadata": {},
   "outputs": [],
   "source": [
    "gs5b = gs5b.fit(X_train, y_train)"
   ]
  },
  {
   "cell_type": "code",
   "execution_count": 88,
   "metadata": {},
   "outputs": [
    {
     "data": {
      "text/plain": [
       "{'svc__C': 1.0, 'svc__kernel': 'linear'}"
      ]
     },
     "execution_count": 88,
     "metadata": {},
     "output_type": "execute_result"
    }
   ],
   "source": [
    "gs5b.best_params_"
   ]
  },
  {
   "cell_type": "code",
   "execution_count": 89,
   "metadata": {},
   "outputs": [
    {
     "data": {
      "text/plain": [
       "0.6826421343270076"
      ]
     },
     "execution_count": 89,
     "metadata": {},
     "output_type": "execute_result"
    }
   ],
   "source": [
    "gs5b.best_score_"
   ]
  },
  {
   "cell_type": "code",
   "execution_count": 90,
   "metadata": {},
   "outputs": [],
   "source": [
    "y_pred5b = gs5b.predict(X_test)"
   ]
  },
  {
   "cell_type": "code",
   "execution_count": 91,
   "metadata": {},
   "outputs": [
    {
     "name": "stdout",
     "output_type": "stream",
     "text": [
      "              precision    recall  f1-score   support\n",
      "\n",
      "    Negative       0.71      0.68      0.70       609\n",
      "     Neutral       0.67      0.75      0.71       610\n",
      "    Positive       0.72      0.67      0.69       610\n",
      "\n",
      "    accuracy                           0.70      1829\n",
      "   macro avg       0.70      0.70      0.70      1829\n",
      "weighted avg       0.70      0.70      0.70      1829\n",
      "\n"
     ]
    }
   ],
   "source": [
    "print(classification_report(y_test, y_pred5b))"
   ]
  },
  {
   "cell_type": "code",
   "execution_count": 92,
   "metadata": {},
   "outputs": [
    {
     "data": {
      "image/png": "[encoded data removed]",
      "text/plain": [
       "<Figure size 432x288 with 2 Axes>"
      ]
     },
     "metadata": {
      "needs_background": "light"
     },
     "output_type": "display_data"
    }
   ],
   "source": [
    "plot_confusion_matrix(gs5b, X_test, y_test, labels=gs5b.classes_)\n",
    "plt.show()"
   ]
  },
  {
   "cell_type": "markdown",
   "metadata": {},
   "source": [
    "# Model 6. TF-IDF Vectorizer and Naive Bayes Classifier\n",
    "We will now build a pipeline for the TF-IDF Vectorizer and the Naive Bayes Classifier. As the Naive Bayes Classifier only has 3 parameters, we will only use the default parameters. First, we will run a pipeline on the two, using the parameters for TF-IDF that have been proven most successful up until now. After that, we will run a GridSearch on the pipeline, to optimize the parameters for TF-IDF in this combination."
   ]
  },
  {
   "cell_type": "markdown",
   "metadata": {},
   "source": [
    "## Model 6a. Pipeline for TF-IDF Vectorizer and Naive Bayes Classifier\n"
   ]
  },
  {
   "cell_type": "code",
   "execution_count": 139,
   "metadata": {},
   "outputs": [
    {
     "data": {
      "text/plain": [
       "{'alpha': 1.0, 'class_prior': None, 'fit_prior': True}"
      ]
     },
     "execution_count": 139,
     "metadata": {},
     "output_type": "execute_result"
    }
   ],
   "source": [
    "naive_bayes.MultinomialNB().get_params()"
   ]
  },
  {
   "cell_type": "code",
   "execution_count": 93,
   "metadata": {},
   "outputs": [],
   "source": [
    "tvect6a = TfidfVectorizer(max_features=10000, \n",
    "                          tokenizer = nltk__word_tokenizer)\n",
    "\n",
    "nbc6a = naive_bayes.MultinomialNB()\n",
    "\n",
    "pipeline6a = make_pipeline(tvect6a, nbc6a)"
   ]
  },
  {
   "cell_type": "code",
   "execution_count": 94,
   "metadata": {},
   "outputs": [
    {
     "data": {
      "text/plain": [
       "Pipeline(steps=[('tfidfvectorizer',\n",
       "                 TfidfVectorizer(max_features=10000,\n",
       "                                 tokenizer=<function word_tokenize at 0x7f9722562ee0>)),\n",
       "                ('multinomialnb', MultinomialNB())])"
      ]
     },
     "execution_count": 94,
     "metadata": {},
     "output_type": "execute_result"
    }
   ],
   "source": [
    "pipeline6a.fit(X_train, y_train)"
   ]
  },
  {
   "cell_type": "code",
   "execution_count": 95,
   "metadata": {},
   "outputs": [],
   "source": [
    "y_pred6a = pipeline6a.predict(X_test)"
   ]
  },
  {
   "cell_type": "code",
   "execution_count": 96,
   "metadata": {},
   "outputs": [
    {
     "name": "stdout",
     "output_type": "stream",
     "text": [
      "              precision    recall  f1-score   support\n",
      "\n",
      "    Negative       0.64      0.68      0.66       609\n",
      "     Neutral       0.72      0.56      0.63       610\n",
      "    Positive       0.60      0.70      0.64       610\n",
      "\n",
      "    accuracy                           0.65      1829\n",
      "   macro avg       0.65      0.65      0.64      1829\n",
      "weighted avg       0.65      0.65      0.64      1829\n",
      "\n"
     ]
    }
   ],
   "source": [
    "print(classification_report(y_test, y_pred6a))"
   ]
  },
  {
   "cell_type": "code",
   "execution_count": 97,
   "metadata": {},
   "outputs": [
    {
     "data": {
      "image/png": "[encoded data removed]",
      "text/plain": [
       "<Figure size 432x288 with 2 Axes>"
      ]
     },
     "metadata": {
      "needs_background": "light"
     },
     "output_type": "display_data"
    }
   ],
   "source": [
    "fig, ax = plt.subplots()\n",
    "plot_confusion_matrix(pipeline6a, \n",
    "                      X_test,\n",
    "                      y_test,\n",
    "                      labels=pipeline6a.classes_, \n",
    "                      ax = ax)\n",
    "plt.show()"
   ]
  },
  {
   "cell_type": "markdown",
   "metadata": {},
   "source": [
    "## Model 6b. GridSearch for TF-IDF Vectorizer and Naive Bayes Classification\n",
    "As we did for model 3b with CountVectorizer and Naive Bayes Classification, we will perform a gridsearch on the `max_features` for the vectorizer, and on `alpha` for the NBC. We will perform the gridsearch on pipeline6a."
   ]
  },
  {
   "cell_type": "code",
   "execution_count": 159,
   "metadata": {},
   "outputs": [
    {
     "data": {
      "text/plain": [
       "{'memory': None,\n",
       " 'steps': [('tfidfvectorizer',\n",
       "   TfidfVectorizer(max_features=10000,\n",
       "                   tokenizer=<function word_tokenize at 0x7fe7b2e6edc0>)),\n",
       "  ('multinomialnb', MultinomialNB())],\n",
       " 'verbose': False,\n",
       " 'tfidfvectorizer': TfidfVectorizer(max_features=10000,\n",
       "                 tokenizer=<function word_tokenize at 0x7fe7b2e6edc0>),\n",
       " 'multinomialnb': MultinomialNB(),\n",
       " 'tfidfvectorizer__analyzer': 'word',\n",
       " 'tfidfvectorizer__binary': False,\n",
       " 'tfidfvectorizer__decode_error': 'strict',\n",
       " 'tfidfvectorizer__dtype': numpy.float64,\n",
       " 'tfidfvectorizer__encoding': 'utf-8',\n",
       " 'tfidfvectorizer__input': 'content',\n",
       " 'tfidfvectorizer__lowercase': True,\n",
       " 'tfidfvectorizer__max_df': 1.0,\n",
       " 'tfidfvectorizer__max_features': 10000,\n",
       " 'tfidfvectorizer__min_df': 1,\n",
       " 'tfidfvectorizer__ngram_range': (1, 1),\n",
       " 'tfidfvectorizer__norm': 'l2',\n",
       " 'tfidfvectorizer__preprocessor': None,\n",
       " 'tfidfvectorizer__smooth_idf': True,\n",
       " 'tfidfvectorizer__stop_words': None,\n",
       " 'tfidfvectorizer__strip_accents': None,\n",
       " 'tfidfvectorizer__sublinear_tf': False,\n",
       " 'tfidfvectorizer__token_pattern': '(?u)\\\\b\\\\w\\\\w+\\\\b',\n",
       " 'tfidfvectorizer__tokenizer': <function nltk.tokenize.word_tokenize(text, language='english', preserve_line=False)>,\n",
       " 'tfidfvectorizer__use_idf': True,\n",
       " 'tfidfvectorizer__vocabulary': None,\n",
       " 'multinomialnb__alpha': 1.0,\n",
       " 'multinomialnb__class_prior': None,\n",
       " 'multinomialnb__fit_prior': True}"
      ]
     },
     "execution_count": 159,
     "metadata": {},
     "output_type": "execute_result"
    }
   ],
   "source": [
    "pipeline6a.get_params()"
   ]
  },
  {
   "cell_type": "code",
   "execution_count": 98,
   "metadata": {},
   "outputs": [],
   "source": [
    "params6b = [{'tfidfvectorizer__max_features':[10000, 30000, 50000], \n",
    "             'multinomialnb__alpha':[0.1, 1.0, 10.0]}]\n",
    "\n",
    "gs6b = GridSearchCV(estimator = pipeline6a, \n",
    "                    param_grid = params6b, \n",
    "                    scoring = 'f1_macro', \n",
    "                    n_jobs = -1, \n",
    "                    cv = 10, \n",
    "                    refit = True)"
   ]
  },
  {
   "cell_type": "code",
   "execution_count": 100,
   "metadata": {},
   "outputs": [],
   "source": [
    "gs6b = gs6b.fit(X_train, y_train)"
   ]
  },
  {
   "cell_type": "code",
   "execution_count": 101,
   "metadata": {},
   "outputs": [
    {
     "data": {
      "text/plain": [
       "{'multinomialnb__alpha': 1.0, 'tfidfvectorizer__max_features': 10000}"
      ]
     },
     "execution_count": 101,
     "metadata": {},
     "output_type": "execute_result"
    }
   ],
   "source": [
    "gs6b.best_params_"
   ]
  },
  {
   "cell_type": "code",
   "execution_count": 102,
   "metadata": {},
   "outputs": [
    {
     "data": {
      "text/plain": [
       "0.6428857789302733"
      ]
     },
     "execution_count": 102,
     "metadata": {},
     "output_type": "execute_result"
    }
   ],
   "source": [
    "gs6b.best_score_"
   ]
  },
  {
   "cell_type": "code",
   "execution_count": 104,
   "metadata": {},
   "outputs": [],
   "source": [
    "y_pred6b = gs6b.predict(X_test)"
   ]
  },
  {
   "cell_type": "code",
   "execution_count": 106,
   "metadata": {},
   "outputs": [
    {
     "name": "stdout",
     "output_type": "stream",
     "text": [
      "              precision    recall  f1-score   support\n",
      "\n",
      "    Negative       0.64      0.68      0.66       609\n",
      "     Neutral       0.72      0.56      0.63       610\n",
      "    Positive       0.60      0.70      0.64       610\n",
      "\n",
      "    accuracy                           0.65      1829\n",
      "   macro avg       0.65      0.65      0.64      1829\n",
      "weighted avg       0.65      0.65      0.64      1829\n",
      "\n"
     ]
    }
   ],
   "source": [
    "print(classification_report(y_test, y_pred6b))"
   ]
  },
  {
   "cell_type": "code",
   "execution_count": 107,
   "metadata": {},
   "outputs": [
    {
     "data": {
      "image/png": "[encoded data removed]",
      "text/plain": [
       "<Figure size 432x288 with 2 Axes>"
      ]
     },
     "metadata": {
      "needs_background": "light"
     },
     "output_type": "display_data"
    }
   ],
   "source": [
    "plot_confusion_matrix(gs6b, X_test, y_test, labels=gs6b.classes_)\n",
    "plt.show()"
   ]
  }
 ],
 "metadata": {
  "kernelspec": {
   "display_name": "Python 3",
   "language": "python",
   "name": "python3"
  },
  "language_info": {
   "codemirror_mode": {
    "name": "ipython",
    "version": 3
   },
   "file_extension": ".py",
   "mimetype": "text/x-python",
   "name": "python",
   "nbconvert_exporter": "python",
   "pygments_lexer": "ipython3",
   "version": "3.8.5"
  }
 },
 "nbformat": 4,
 "nbformat_minor": 4
}
