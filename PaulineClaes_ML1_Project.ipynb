{
 "cells": [
  {
   "cell_type": "markdown",
   "metadata": {},
   "source": [
    "# Sentiment mining: corona tweets\n",
    "- Pauline Claes. \n",
    "- Machine Learning 1 project \n",
    "- Friday 22 January 2021\n"
   ]
  },
  
  {
   "cell_type": "markdown",
   "metadata": {},
   "source": [
    "## Preprocessing"
   ]
  },
  {
   "cell_type": "code",
   "execution_count": 105,
   "metadata": {},
   "outputs": [],
   "source": [
    "# import packages\n",
    "import pandas as pd\n",
    "import numpy as np"
   ]
  },
  {
   "cell_type": "code",
   "execution_count": 74,
   "metadata": {},
   "outputs": [],
   "source": [
    "# import modules\n",
    "from sklearn.feature_extraction.text import CountVectorizer, TfidfVectorizer\n",
    "from sklearn import naive_bayes\n",
    "from sklearn.svm import SVC\n",
    "from sklearn.model_selection import cross_val_score, GridSearchCV, RandomizedSearchCV\n",
    "from sklearn.pipeline import make_pipeline\n",
    "from sklearn.linear_model import SGDClassifier\n",
    "from sklearn.metrics import classification_report, confusion_matrix, plot_confusion_matrix\n",
    "from nltk.tokenize import word_tokenize \n",
    "import matplotlib.pyplot as plt\n",
    "nltk__word_tokenizer = word_tokenize"
   ]
  },
  {
   "cell_type": "code",
   "execution_count": 3,
   "metadata": {},
   "outputs": [],
   "source": [
    "# read in the data\n",
    "df = pd.read_csv(\"corona-tweets.csv\", sep=\",\")"
   ]
  },
  {
   "cell_type": "code",
   "execution_count": 4,
   "metadata": {},
   "outputs": [
    {
     "data": {
      "text/html": [
       "<div>\n",
       "<style scoped>\n",
       "    .dataframe tbody tr th:only-of-type {\n",
       "        vertical-align: middle;\n",
       "    }\n",
       "\n",
       "    .dataframe tbody tr th {\n",
       "        vertical-align: top;\n",
       "    }\n",
       "\n",
       "    .dataframe thead th {\n",
       "        text-align: right;\n",
       "    }\n",
       "</style>\n",
       "<table border=\"1\" class=\"dataframe\">\n",
       "  <thead>\n",
       "    <tr style=\"text-align: right;\">\n",
       "      <th></th>\n",
       "      <th>UserName</th>\n",
       "      <th>ScreenName</th>\n",
       "      <th>Location</th>\n",
       "      <th>TweetAt</th>\n",
       "      <th>OriginalTweet</th>\n",
       "      <th>Sentiment</th>\n",
       "    </tr>\n",
       "  </thead>\n",
       "  <tbody>\n",
       "    <tr>\n",
       "      <th>0</th>\n",
       "      <td>1</td>\n",
       "      <td>44953</td>\n",
       "      <td>NYC</td>\n",
       "      <td>02-03-2020</td>\n",
       "      <td>TRENDING: New Yorkers encounter empty supermar...</td>\n",
       "      <td>Extremely Negative</td>\n",
       "    </tr>\n",
       "    <tr>\n",
       "      <th>1</th>\n",
       "      <td>2</td>\n",
       "      <td>44954</td>\n",
       "      <td>Seattle, WA</td>\n",
       "      <td>02-03-2020</td>\n",
       "      <td>When I couldn't find hand sanitizer at Fred Me...</td>\n",
       "      <td>Positive</td>\n",
       "    </tr>\n",
       "    <tr>\n",
       "      <th>2</th>\n",
       "      <td>3</td>\n",
       "      <td>44955</td>\n",
       "      <td>NaN</td>\n",
       "      <td>02-03-2020</td>\n",
       "      <td>Find out how you can protect yourself and love...</td>\n",
       "      <td>Extremely Positive</td>\n",
       "    </tr>\n",
       "    <tr>\n",
       "      <th>3</th>\n",
       "      <td>4</td>\n",
       "      <td>44956</td>\n",
       "      <td>Chicagoland</td>\n",
       "      <td>02-03-2020</td>\n",
       "      <td>#Panic buying hits #NewYork City as anxious sh...</td>\n",
       "      <td>Negative</td>\n",
       "    </tr>\n",
       "    <tr>\n",
       "      <th>4</th>\n",
       "      <td>5</td>\n",
       "      <td>44957</td>\n",
       "      <td>Melbourne, Victoria</td>\n",
       "      <td>03-03-2020</td>\n",
       "      <td>#toiletpaper #dunnypaper #coronavirus #coronav...</td>\n",
       "      <td>Neutral</td>\n",
       "    </tr>\n",
       "  </tbody>\n",
       "</table>\n",
       "</div>"
      ],
      "text/plain": [
       "   UserName  ScreenName             Location     TweetAt  \\\n",
       "0         1       44953                  NYC  02-03-2020   \n",
       "1         2       44954          Seattle, WA  02-03-2020   \n",
       "2         3       44955                  NaN  02-03-2020   \n",
       "3         4       44956          Chicagoland  02-03-2020   \n",
       "4         5       44957  Melbourne, Victoria  03-03-2020   \n",
       "\n",
       "                                       OriginalTweet           Sentiment  \n",
       "0  TRENDING: New Yorkers encounter empty supermar...  Extremely Negative  \n",
       "1  When I couldn't find hand sanitizer at Fred Me...            Positive  \n",
       "2  Find out how you can protect yourself and love...  Extremely Positive  \n",
       "3  #Panic buying hits #NewYork City as anxious sh...            Negative  \n",
       "4  #toiletpaper #dunnypaper #coronavirus #coronav...             Neutral  "
      ]
     },
     "execution_count": 4,
     "metadata": {},
     "output_type": "execute_result"
    }
   ],
   "source": [
    "# inspect\n",
    "df.head()"
   ]
  },
  {
   "cell_type": "code",
   "execution_count": 5,
   "metadata": {},
   "outputs": [
    {
     "data": {
      "text/html": [
       "<div>\n",
       "<style scoped>\n",
       "    .dataframe tbody tr th:only-of-type {\n",
       "        vertical-align: middle;\n",
       "    }\n",
       "\n",
       "    .dataframe tbody tr th {\n",
       "        vertical-align: top;\n",
       "    }\n",
       "\n",
       "    .dataframe thead th {\n",
       "        text-align: right;\n",
       "    }\n",
       "</style>\n",
       "<table border=\"1\" class=\"dataframe\">\n",
       "  <thead>\n",
       "    <tr style=\"text-align: right;\">\n",
       "      <th></th>\n",
       "      <th>UserName</th>\n",
       "      <th>ScreenName</th>\n",
       "      <th>Location</th>\n",
       "      <th>TweetAt</th>\n",
       "      <th>OriginalTweet</th>\n",
       "      <th>Sentiment</th>\n",
       "    </tr>\n",
       "  </thead>\n",
       "  <tbody>\n",
       "    <tr>\n",
       "      <th>41153</th>\n",
       "      <td>44951</td>\n",
       "      <td>89903</td>\n",
       "      <td>Wellington City, New Zealand</td>\n",
       "      <td>14-04-2020</td>\n",
       "      <td>Airline pilots offering to stock supermarket s...</td>\n",
       "      <td>Neutral</td>\n",
       "    </tr>\n",
       "    <tr>\n",
       "      <th>41154</th>\n",
       "      <td>44952</td>\n",
       "      <td>89904</td>\n",
       "      <td>NaN</td>\n",
       "      <td>14-04-2020</td>\n",
       "      <td>Response to complaint not provided citing COVI...</td>\n",
       "      <td>Extremely Negative</td>\n",
       "    </tr>\n",
       "    <tr>\n",
       "      <th>41155</th>\n",
       "      <td>44953</td>\n",
       "      <td>89905</td>\n",
       "      <td>NaN</td>\n",
       "      <td>14-04-2020</td>\n",
       "      <td>You know its getting tough when @KameronWilds...</td>\n",
       "      <td>Positive</td>\n",
       "    </tr>\n",
       "    <tr>\n",
       "      <th>41156</th>\n",
       "      <td>44954</td>\n",
       "      <td>89906</td>\n",
       "      <td>NaN</td>\n",
       "      <td>14-04-2020</td>\n",
       "      <td>Is it wrong that the smell of hand sanitizer i...</td>\n",
       "      <td>Neutral</td>\n",
       "    </tr>\n",
       "    <tr>\n",
       "      <th>41157</th>\n",
       "      <td>44955</td>\n",
       "      <td>89907</td>\n",
       "      <td>i love you so much || he/him</td>\n",
       "      <td>14-04-2020</td>\n",
       "      <td>@TartiiCat Well new/used Rift S are going for ...</td>\n",
       "      <td>Negative</td>\n",
       "    </tr>\n",
       "  </tbody>\n",
       "</table>\n",
       "</div>"
      ],
      "text/plain": [
       "       UserName  ScreenName                      Location     TweetAt  \\\n",
       "41153     44951       89903  Wellington City, New Zealand  14-04-2020   \n",
       "41154     44952       89904                           NaN  14-04-2020   \n",
       "41155     44953       89905                           NaN  14-04-2020   \n",
       "41156     44954       89906                           NaN  14-04-2020   \n",
       "41157     44955       89907  i love you so much || he/him  14-04-2020   \n",
       "\n",
       "                                           OriginalTweet           Sentiment  \n",
       "41153  Airline pilots offering to stock supermarket s...             Neutral  \n",
       "41154  Response to complaint not provided citing COVI...  Extremely Negative  \n",
       "41155  You know its getting tough when @KameronWilds...            Positive  \n",
       "41156  Is it wrong that the smell of hand sanitizer i...             Neutral  \n",
       "41157  @TartiiCat Well new/used Rift S are going for ...            Negative  "
      ]
     },
     "execution_count": 5,
     "metadata": {},
     "output_type": "execute_result"
    }
   ],
   "source": [
    "# inspect\n",
    "df.tail()"
   ]
  },
  {
   "cell_type": "code",
   "execution_count": 6,
   "metadata": {},
   "outputs": [
    {
     "name": "stdout",
     "output_type": "stream",
     "text": [
      "<class 'pandas.core.frame.DataFrame'>\n",
      "RangeIndex: 41158 entries, 0 to 41157\n",
      "Data columns (total 6 columns):\n",
      " #   Column         Non-Null Count  Dtype \n",
      "---  ------         --------------  ----- \n",
      " 0   UserName       41158 non-null  int64 \n",
      " 1   ScreenName     41158 non-null  int64 \n",
      " 2   Location       32492 non-null  object\n",
      " 3   TweetAt        41158 non-null  object\n",
      " 4   OriginalTweet  41158 non-null  object\n",
      " 5   Sentiment      41158 non-null  object\n",
      "dtypes: int64(2), object(4)\n",
      "memory usage: 1.9+ MB\n"
     ]
    }
   ],
   "source": [
    "# inspect\n",
    "df.info()"
   ]
  },
  {
   "cell_type": "code",
   "execution_count": 7,
   "metadata": {},
   "outputs": [
    {
     "data": {
      "text/plain": [
       "UserName            0\n",
       "ScreenName          0\n",
       "Location         8666\n",
       "TweetAt             0\n",
       "OriginalTweet       0\n",
       "Sentiment           0\n",
       "dtype: int64"
      ]
     },
     "execution_count": 7,
     "metadata": {},
     "output_type": "execute_result"
    }
   ],
   "source": [
    "# check to see if there are any missing values\n",
    "df.isnull().sum()"
   ]
  },
  {
   "cell_type": "code",
   "execution_count": 8,
   "metadata": {},
   "outputs": [
    {
     "data": {
      "text/plain": [
       "UserName         0\n",
       "ScreenName       0\n",
       "Location         0\n",
       "TweetAt          0\n",
       "OriginalTweet    0\n",
       "Sentiment        0\n",
       "dtype: int64"
      ]
     },
     "execution_count": 8,
     "metadata": {},
     "output_type": "execute_result"
    }
   ],
   "source": [
    "# drop rows containing missing values\n",
    "df = df.dropna()\n",
    "# check to see if it worked\n",
    "df.isnull().sum()"
   ]
  },
  {
   "cell_type": "code",
   "execution_count": 9,
   "metadata": {},
   "outputs": [
    {
     "name": "stdout",
     "output_type": "stream",
     "text": [
      "<class 'pandas.core.frame.DataFrame'>\n",
      "Int64Index: 32492 entries, 0 to 41157\n",
      "Data columns (total 6 columns):\n",
      " #   Column         Non-Null Count  Dtype \n",
      "---  ------         --------------  ----- \n",
      " 0   UserName       32492 non-null  int64 \n",
      " 1   ScreenName     32492 non-null  int64 \n",
      " 2   Location       32492 non-null  object\n",
      " 3   TweetAt        32492 non-null  object\n",
      " 4   OriginalTweet  32492 non-null  object\n",
      " 5   Sentiment      32492 non-null  object\n",
      "dtypes: int64(2), object(4)\n",
      "memory usage: 1.7+ MB\n"
     ]
    }
   ],
   "source": [
    "# check to see what we have left\n",
    "df.info()"
   ]
  },
  {
   "cell_type": "code",
   "execution_count": 10,
   "metadata": {},
   "outputs": [
    {
     "data": {
      "text/plain": [
       "Positive              9024\n",
       "Negative              7800\n",
       "Neutral               6134\n",
       "Extremely Positive    5301\n",
       "Extremely Negative    4233\n",
       "Name: Sentiment, dtype: int64"
      ]
     },
     "execution_count": 10,
     "metadata": {},
     "output_type": "execute_result"
    }
   ],
   "source": [
    "# check to see if the labels are stratified\n",
    "df.Sentiment.value_counts()"
   ]
  },
  {
   "cell_type": "code",
   "execution_count": 11,
   "metadata": {},
   "outputs": [],
   "source": [
    "# merge Extremely Positive and Positive\n",
    "df['Sentiment'] = df.Sentiment.str.replace('Extremely Positive', 'Positive')\n",
    "# merge Extremely Negative and Negative\n",
    "df['Sentiment'] = df.Sentiment.str.replace('Extremely Negative', 'Negative')"
   ]
  },
  {
   "cell_type": "code",
   "execution_count": 12,
   "metadata": {},
   "outputs": [
    {
     "data": {
      "text/plain": [
       "Positive    14325\n",
       "Negative    12033\n",
       "Neutral      6134\n",
       "Name: Sentiment, dtype: int64"
      ]
     },
     "execution_count": 12,
     "metadata": {},
     "output_type": "execute_result"
    }
   ],
   "source": [
    "# check to see if it worked\n",
    "df.Sentiment.value_counts()"
   ]
  },
  {
   "cell_type": "code",
   "execution_count": 13,
   "metadata": {},
   "outputs": [],
   "source": [
    "# take half of the data for computational efficiency by stating frac=0.5\n",
    "# create replicability by random_state=42\n",
    "tweets = df.sample(frac=0.5, random_state=42)"
   ]
  },
  {
   "cell_type": "code",
   "execution_count": 14,
   "metadata": {},
   "outputs": [
    {
     "data": {
      "text/plain": [
       "Positive    7140\n",
       "Negative    6013\n",
       "Neutral     3093\n",
       "Name: Sentiment, dtype: int64"
      ]
     },
     "execution_count": 14,
     "metadata": {},
     "output_type": "execute_result"
    }
   ],
   "source": [
    "# check if they are still correctly stratified\n",
    "tweets.Sentiment.value_counts()"
   ]
  },
  {
   "cell_type": "code",
   "execution_count": 15,
   "metadata": {},
   "outputs": [],
   "source": [
    "# set the value_counts equal to each other again\n",
    "min_number = np.min(tweets.Sentiment.value_counts())\n",
    "tweets = tweets.groupby('Sentiment', group_keys=False).apply(lambda x: x.sample(min_number))"
   ]
  },
  {
   "cell_type": "code",
   "execution_count": 16,
   "metadata": {},
   "outputs": [
    {
     "data": {
      "text/plain": [
       "Positive    3093\n",
       "Negative    3093\n",
       "Neutral     3093\n",
       "Name: Sentiment, dtype: int64"
      ]
     },
     "execution_count": 16,
     "metadata": {},
     "output_type": "execute_result"
    }
   ],
   "source": [
    "# check to see if it worked\n",
    "tweets.Sentiment.value_counts()"
   ]
  },
  {
   "cell_type": "code",
   "execution_count": 17,
   "metadata": {},
   "outputs": [],
   "source": [
    "# divide subset of data into train and test part\n",
    "from sklearn.model_selection import train_test_split\n",
    "\n",
    "X = tweets[\"OriginalTweet\"].values # input feature\n",
    "y = tweets[\"Sentiment\"].values # label"
   ]
  },
  {
   "cell_type": "code",
   "execution_count": 18,
   "metadata": {},
   "outputs": [],
   "source": [
    "X_train, X_test, y_train, y_test = train_test_split(X, y, \n",
    "                                                    test_size = 0.2, # 20% test data\n",
    "                                                    random_state = 42, # replicable results\n",
    "                                                    shuffle = True, # shuffle\n",
    "                                                    stratify = y) # stratify"
   ]
  },
  {
   "cell_type": "code",
   "execution_count": 19,
   "metadata": {},
   "outputs": [],
   "source": [
    "# split up train part into a validation set\n",
    "X_train, X_val, y_train, y_val = train_test_split(X_train, y_train, \n",
    "                                                 test_size = 0.25,\n",
    "                                                 random_state = 42,\n",
    "                                                 shuffle = True, \n",
    "                                                 stratify = y_train)"
   ]
  },
  {
   "cell_type": "code",
   "execution_count": 20,
   "metadata": {},
   "outputs": [
    {
     "data": {
      "text/plain": [
       "((5567,), (1856,), (1856,), (5567,), (1856,), (1856,))"
      ]
     },
     "execution_count": 20,
     "metadata": {},
     "output_type": "execute_result"
    }
   ],
   "source": [
    "# check the shapes of the train and test data)\n",
    "X_train.shape, X_test.shape, X_val.shape, y_train.shape, y_val.shape, y_test.shape"
   ]
  },
  {
   "cell_type": "markdown",
   "metadata": {},
   "source": [
    "We now have: \n",
    "- X_train: originally 80% of input instances from our total dataset. This is what we will use to train the model on the input.\n",
    "    - X_val: 25% of our input training part. This is what we will use to test our model's ability to generalize to unseen datapoints.\n",
    "- y_train: originally 80% of output labels from our total dataset. This is what we will use to train the model on the desired output.\n",
    "    - y_val: 25% of our output training part. This is what we will use to compare the predictions of the model to the desired output.\n",
    "- X_test: 20% of the input instances from our total dataset. This is the part of the data that we will keep apart until the very end, to test our final (best-performing) model on its performance to generalize to unseen data.\n",
    "- y_test: 20% of the output instances from our total dataset. We will keep this part of the data separated until the very end, to compare the model's predictions on X_test to the actual desired output.\n",
    "\n",
    "If we would only have a train and a test set, the test set will eventually become part of the training set if we try it out multiple times and the scores might not be reliable (too optimistic) anymore. Therefore, it is useful to create a validation set. We take 25% of the training set to create a validation set. This is the set that will be used to test each of the models' performance right after training. Only at the end, we will use our test set to assess our best performing model's ability to generalize to unseen data."
   ]
  },
  {
   "cell_type": "markdown",
   "metadata": {},
   "source": [
    "# Pipeline 1. CountVectorizer and SGDClassifier\n",
    "This pipeline includes CountVectorizer with max_features set to 10,000 and the NLTK word tokenizer, as well as the Stochastic Gradient Descent classifier with its default parameters, a log loss function and a random_state. The other default parameters include alpha set to 0.0001, max_iter set to 1000 and l2 penalty. Judging by the classification report, this pipeline performed relatively well, obtaining a macro average f1-score of 0.69.  The boxplot of the cross_val_score shows a mor conservative mean macro average f1-score for the cross-validation, of around 0.66. Both the classification report and the confusion matrix seem to point toward a slightly better performance on the “Neutral” class."
   ]
  },
  {
   "cell_type": "code",
   "execution_count": 21,
   "metadata": {},
   "outputs": [
    {
     "data": {
      "text/plain": [
       "{'analyzer': 'word',\n",
       " 'binary': False,\n",
       " 'decode_error': 'strict',\n",
       " 'dtype': numpy.int64,\n",
       " 'encoding': 'utf-8',\n",
       " 'input': 'content',\n",
       " 'lowercase': True,\n",
       " 'max_df': 1.0,\n",
       " 'max_features': None,\n",
       " 'min_df': 1,\n",
       " 'ngram_range': (1, 1),\n",
       " 'preprocessor': None,\n",
       " 'stop_words': None,\n",
       " 'strip_accents': None,\n",
       " 'token_pattern': '(?u)\\\\b\\\\w\\\\w+\\\\b',\n",
       " 'tokenizer': None,\n",
       " 'vocabulary': None}"
      ]
     },
     "execution_count": 21,
     "metadata": {},
     "output_type": "execute_result"
    }
   ],
   "source": [
    "# default parameters of CountVectorizer that we might want to optimize\n",
    "CountVectorizer().get_params()"
   ]
  },
  {
   "cell_type": "code",
   "execution_count": 22,
   "metadata": {},
   "outputs": [
    {
     "data": {
      "text/plain": [
       "{'alpha': 0.0001,\n",
       " 'average': False,\n",
       " 'class_weight': None,\n",
       " 'early_stopping': False,\n",
       " 'epsilon': 0.1,\n",
       " 'eta0': 0.0,\n",
       " 'fit_intercept': True,\n",
       " 'l1_ratio': 0.15,\n",
       " 'learning_rate': 'optimal',\n",
       " 'loss': 'hinge',\n",
       " 'max_iter': 1000,\n",
       " 'n_iter_no_change': 5,\n",
       " 'n_jobs': None,\n",
       " 'penalty': 'l2',\n",
       " 'power_t': 0.5,\n",
       " 'random_state': None,\n",
       " 'shuffle': True,\n",
       " 'tol': 0.001,\n",
       " 'validation_fraction': 0.1,\n",
       " 'verbose': 0,\n",
       " 'warm_start': False}"
      ]
     },
     "execution_count": 22,
     "metadata": {},
     "output_type": "execute_result"
    }
   ],
   "source": [
    "# default parameters of SGDClassifier that we might want to optimize.\n",
    "SGDClassifier().get_params()"
   ]
  },
  {
   "cell_type": "code",
   "execution_count": 23,
   "metadata": {},
   "outputs": [],
   "source": [
    "# instantiate a CountVectorizer\n",
    "cvect = CountVectorizer(max_features=10000, # 10,000 most frequent words\n",
    "                        tokenizer = nltk__word_tokenizer) # word tokenizer imported from NLTK\n",
    "                          \n",
    "\n",
    "# instantiate an SGDClassifier with default parameters and log loss function\n",
    "sgdclf = SGDClassifier(loss = 'log', random_state=42)\n",
    "\n",
    "# Instantiate the pipeline\n",
    "pipeline1 = make_pipeline(cvect, sgdclf)"
   ]
  },
  {
   "cell_type": "code",
   "execution_count": 24,
   "metadata": {},
   "outputs": [],
   "source": [
    "#pipeline1.get_params()"
   ]
  },
  {
   "cell_type": "code",
   "execution_count": 25,
   "metadata": {},
   "outputs": [
    {
     "data": {
      "text/plain": [
       "Pipeline(steps=[('countvectorizer',\n",
       "                 CountVectorizer(max_features=10000,\n",
       "                                 tokenizer=<function word_tokenize at 0x7fd01ee6eee0>)),\n",
       "                ('sgdclassifier', SGDClassifier(loss='log', random_state=42))])"
      ]
     },
     "execution_count": 25,
     "metadata": {},
     "output_type": "execute_result"
    }
   ],
   "source": [
    "# fit the training data to the pipeline\n",
    "pipeline1.fit(X_train, y_train)"
   ]
  },
  {
   "cell_type": "code",
   "execution_count": 26,
   "metadata": {},
   "outputs": [],
   "source": [
    "# fit the test input to the pipeline to predict the classes on unseen data\n",
    "y_pred1 = pipeline1.predict(X_val)"
   ]
  },
  {
   "cell_type": "code",
   "execution_count": 27,
   "metadata": {},
   "outputs": [
    {
     "name": "stdout",
     "output_type": "stream",
     "text": [
      "              precision    recall  f1-score   support\n",
      "\n",
      "    Negative       0.76      0.63      0.69       619\n",
      "     Neutral       0.63      0.80      0.70       619\n",
      "    Positive       0.72      0.65      0.68       618\n",
      "\n",
      "    accuracy                           0.69      1856\n",
      "   macro avg       0.70      0.69      0.69      1856\n",
      "weighted avg       0.70      0.69      0.69      1856\n",
      "\n"
     ]
    }
   ],
   "source": [
    "print(classification_report(y_val, y_pred1))"
   ]
  },
  {
   "cell_type": "code",
   "execution_count": 28,
   "metadata": {},
   "outputs": [
    {
     "name": "stdout",
     "output_type": "stream",
     "text": [
      "CPU times: user 92.6 ms, sys: 95.1 ms, total: 188 ms\n",
      "Wall time: 4.09 s\n"
     ]
    }
   ],
   "source": [
    "%time scores = cross_val_score(estimator=pipeline1, X=X_train, y=y_train, cv=10, scoring='f1_macro', n_jobs=-1)\n"
   ]
  },
  {
   "cell_type": "code",
   "execution_count": 29,
   "metadata": {},
   "outputs": [
    {
     "data": {
      "text/plain": [
       "<AxesSubplot:>"
      ]
     },
     "execution_count": 29,
     "metadata": {},
     "output_type": "execute_result"
    },
    {
     "data": {
      "image/png": "[encoded data removed]",
      "text/plain": [
       "<Figure size 432x288 with 1 Axes>"
      ]
     },
     "metadata": {
      "needs_background": "light"
     },
     "output_type": "display_data"
    }
   ],
   "source": [
    "pd.DataFrame(scores).boxplot()"
   ]
  },
  {
   "cell_type": "code",
   "execution_count": 30,
   "metadata": {},
   "outputs": [
    {
     "data": {
      "image/png": "[encoded data removed]",
      "text/plain": [
       "<Figure size 432x288 with 2 Axes>"
      ]
     },
     "metadata": {
      "needs_background": "light"
     },
     "output_type": "display_data"
    }
   ],
   "source": [
    "fig, ax = plt.subplots()\n",
    "plot_confusion_matrix(pipeline1, \n",
    "                      X_val,\n",
    "                      y_val,\n",
    "                      labels=pipeline1.classes_, \n",
    "                      ax = ax)\n",
    "plt.show()"
   ]
  },
  {
   "cell_type": "markdown",
   "metadata": {},
   "source": [
    "# Pipeline 2. CountVectorizer and Support Vector Machines\n",
    "This pipeline includes the CountVectorizer with max_features set to 10,000 and the NLTK word tokenizer, as well as the Support Vector Machine classifier with its default parameters. These include C set to 1.0, gamma set to ‘scale’, an RBF-kernel (Radial Basis Function) and max_iter set to -1 (no limit). The classification report indicates that this pipeline’s performance is relatively unsatisfying, reaching a macro average f1-score of 0.60. Furthermore, the cross_val_score boxplot estimates the mean macro average f1-score for the cross-validation slightly around 0.59. Both the classification report and the confusion matrix show a slightly better performance on the “Neutral” class."
   ]
  },
  {
   "cell_type": "code",
   "execution_count": 31,
   "metadata": {},
   "outputs": [
    {
     "data": {
      "text/plain": [
       "{'C': 1.0,\n",
       " 'break_ties': False,\n",
       " 'cache_size': 200,\n",
       " 'class_weight': None,\n",
       " 'coef0': 0.0,\n",
       " 'decision_function_shape': 'ovr',\n",
       " 'degree': 3,\n",
       " 'gamma': 'scale',\n",
       " 'kernel': 'rbf',\n",
       " 'max_iter': -1,\n",
       " 'probability': False,\n",
       " 'random_state': None,\n",
       " 'shrinking': True,\n",
       " 'tol': 0.001,\n",
       " 'verbose': False}"
      ]
     },
     "execution_count": 31,
     "metadata": {},
     "output_type": "execute_result"
    }
   ],
   "source": [
    "# check the default parameters\n",
    "SVC().get_params()"
   ]
  },
  {
   "cell_type": "code",
   "execution_count": 32,
   "metadata": {},
   "outputs": [],
   "source": [
    "# build pipeline\n",
    "cvect = CountVectorizer(max_features = 10000, \n",
    "                          tokenizer = nltk__word_tokenizer)\n",
    "\n",
    "svm = SVC(random_state=42)\n",
    "\n",
    "pipeline2 = make_pipeline(cvect, svm)"
   ]
  },
  {
   "cell_type": "code",
   "execution_count": 33,
   "metadata": {},
   "outputs": [
    {
     "data": {
      "text/plain": [
       "Pipeline(steps=[('countvectorizer',\n",
       "                 CountVectorizer(max_features=10000,\n",
       "                                 tokenizer=<function word_tokenize at 0x7fd01ee6eee0>)),\n",
       "                ('svc', SVC(random_state=42))])"
      ]
     },
     "execution_count": 33,
     "metadata": {},
     "output_type": "execute_result"
    }
   ],
   "source": [
    "# fit\n",
    "pipeline2.fit(X_train, y_train)"
   ]
  },
  {
   "cell_type": "code",
   "execution_count": 34,
   "metadata": {},
   "outputs": [],
   "source": [
    "# predict\n",
    "y_pred2 = pipeline2.predict(X_val)"
   ]
  },
  {
   "cell_type": "code",
   "execution_count": 35,
   "metadata": {},
   "outputs": [
    {
     "name": "stdout",
     "output_type": "stream",
     "text": [
      "              precision    recall  f1-score   support\n",
      "\n",
      "    Negative       0.65      0.55      0.59       619\n",
      "     Neutral       0.60      0.71      0.65       619\n",
      "    Positive       0.58      0.55      0.56       618\n",
      "\n",
      "    accuracy                           0.60      1856\n",
      "   macro avg       0.61      0.60      0.60      1856\n",
      "weighted avg       0.61      0.60      0.60      1856\n",
      "\n"
     ]
    }
   ],
   "source": [
    "print(classification_report(y_val, y_pred2))"
   ]
  },
  {
   "cell_type": "code",
   "execution_count": 36,
   "metadata": {},
   "outputs": [
    {
     "name": "stdout",
     "output_type": "stream",
     "text": [
      "CPU times: user 46.8 ms, sys: 6.16 ms, total: 52.9 ms\n",
      "Wall time: 14.2 s\n"
     ]
    }
   ],
   "source": [
    "%time scores2 = cross_val_score(estimator=pipeline2, X=X_train, y=y_train, cv=10, scoring='f1_macro', n_jobs=-1)"
   ]
  },
  {
   "cell_type": "code",
   "execution_count": 37,
   "metadata": {},
   "outputs": [
    {
     "data": {
      "text/plain": [
       "<AxesSubplot:>"
      ]
     },
     "execution_count": 37,
     "metadata": {},
     "output_type": "execute_result"
    },
    {
     "data": {
      "image/png": "[encoded data removed]",
      "text/plain": [
       "<Figure size 432x288 with 1 Axes>"
      ]
     },
     "metadata": {
      "needs_background": "light"
     },
     "output_type": "display_data"
    }
   ],
   "source": [
    "pd.DataFrame(scores2).boxplot()"
   ]
  },
  {
   "cell_type": "code",
   "execution_count": 38,
   "metadata": {},
   "outputs": [
    {
     "data": {
      "image/png": "[encoded data removed]",
      "text/plain": [
       "<Figure size 432x288 with 2 Axes>"
      ]
     },
     "metadata": {
      "needs_background": "light"
     },
     "output_type": "display_data"
    }
   ],
   "source": [
    "fig, ax = plt.subplots()\n",
    "plot_confusion_matrix(pipeline2, \n",
    "                      X_val,\n",
    "                      y_val,\n",
    "                      labels=pipeline2.classes_, \n",
    "                      ax = ax)\n",
    "plt.show()"
   ]
  },
  {
   "cell_type": "markdown",
   "metadata": {},
   "source": [
    "# Pipeline 3. CountVectorizer and Naive Bayes Classifier\n",
    "This pipeline combines the CountVectorizer with max_features set to 10,000 and the NLTK word tokenizer and a multinomial Naïve Bayes classifier with its default parameters, which has alpha set to 1.0. However, it does not support the use of random_state, therefore it is not instantiated. This pipeline reaches a macro average f1-score of 0.64 in the classification report, which indicates that it performs better than the second pipeline, without outperforming the first one. The cross_val_score boxplot indicates that the mean macro average f1-score for the cross-validation is slightly around 0.62. The classification report as well as the confusion matrix show a slightly better performance on the “Negative” class."
   ]
  },
  {
   "cell_type": "code",
   "execution_count": 40,
   "metadata": {},
   "outputs": [
    {
     "data": {
      "text/plain": [
       "{'alpha': 1.0, 'class_prior': None, 'fit_prior': True}"
      ]
     },
     "execution_count": 40,
     "metadata": {},
     "output_type": "execute_result"
    }
   ],
   "source": [
    "# get parameters\n",
    "naive_bayes.MultinomialNB().get_params()"
   ]
  },
  {
   "cell_type": "code",
   "execution_count": 39,
   "metadata": {},
   "outputs": [],
   "source": [
    "# build pipeline\n",
    "cvect = CountVectorizer(max_features = 10000, \n",
    "                          tokenizer = nltk__word_tokenizer)\n",
    "\n",
    "nbc = naive_bayes.MultinomialNB()\n",
    "\n",
    "pipeline3 = make_pipeline(cvect, nbc)"
   ]
  },
  {
   "cell_type": "code",
   "execution_count": 41,
   "metadata": {},
   "outputs": [
    {
     "data": {
      "text/plain": [
       "Pipeline(steps=[('countvectorizer',\n",
       "                 CountVectorizer(max_features=10000,\n",
       "                                 tokenizer=<function word_tokenize at 0x7fd01ee6eee0>)),\n",
       "                ('multinomialnb', MultinomialNB())])"
      ]
     },
     "execution_count": 41,
     "metadata": {},
     "output_type": "execute_result"
    }
   ],
   "source": [
    "# fit training data\n",
    "pipeline3.fit(X_train, y_train)"
   ]
  },
  {
   "cell_type": "code",
   "execution_count": 42,
   "metadata": {},
   "outputs": [],
   "source": [
    "# predict on validation data\n",
    "y_pred3 = pipeline3.predict(X_val)"
   ]
  },
  {
   "cell_type": "code",
   "execution_count": 43,
   "metadata": {},
   "outputs": [
    {
     "name": "stdout",
     "output_type": "stream",
     "text": [
      "              precision    recall  f1-score   support\n",
      "\n",
      "    Negative       0.65      0.68      0.66       619\n",
      "     Neutral       0.65      0.61      0.63       619\n",
      "    Positive       0.63      0.65      0.64       618\n",
      "\n",
      "    accuracy                           0.64      1856\n",
      "   macro avg       0.64      0.64      0.64      1856\n",
      "weighted avg       0.64      0.64      0.64      1856\n",
      "\n"
     ]
    }
   ],
   "source": [
    "print(classification_report(y_val, y_pred3))"
   ]
  },
  {
   "cell_type": "code",
   "execution_count": 44,
   "metadata": {},
   "outputs": [
    {
     "name": "stdout",
     "output_type": "stream",
     "text": [
      "CPU times: user 39.9 ms, sys: 5.35 ms, total: 45.3 ms\n",
      "Wall time: 2.54 s\n"
     ]
    }
   ],
   "source": [
    "%time scores3 = cross_val_score(estimator=pipeline3, X=X_train, y=y_train, cv=10, scoring='f1_macro', n_jobs=-1)\n"
   ]
  },
  {
   "cell_type": "code",
   "execution_count": 45,
   "metadata": {},
   "outputs": [
    {
     "data": {
      "text/plain": [
       "<AxesSubplot:>"
      ]
     },
     "execution_count": 45,
     "metadata": {},
     "output_type": "execute_result"
    },
    {
     "data": {
      "image/png": "[encoded data removed]",
      "text/plain": [
       "<Figure size 432x288 with 1 Axes>"
      ]
     },
     "metadata": {
      "needs_background": "light"
     },
     "output_type": "display_data"
    }
   ],
   "source": [
    "pd.DataFrame(scores3).boxplot()"
   ]
  },
  {
   "cell_type": "code",
   "execution_count": 46,
   "metadata": {},
   "outputs": [
    {
     "data": {
      "image/png": "[encoded data removed]",
      "text/plain": [
       "<Figure size 432x288 with 2 Axes>"
      ]
     },
     "metadata": {
      "needs_background": "light"
     },
     "output_type": "display_data"
    }
   ],
   "source": [
    "fig, ax = plt.subplots()\n",
    "plot_confusion_matrix(pipeline3, \n",
    "                      X_val,\n",
    "                      y_val,\n",
    "                      labels=pipeline3.classes_, \n",
    "                      ax = ax)\n",
    "plt.show()"
   ]
  },
  {
   "cell_type": "markdown",
   "metadata": {},
   "source": [
    "# Pipeline 4. TF-IDF Vectorizer and SGDClassifier\n",
    "This pipeline includes the Tf-Idf Vectorizer with max_features set to 10,000 and the NLTK word tokenizer, as well as the Stochastic Gradient Descent classifier with its default parameters, log loss function and a random_state. The default parameters of the SGDClassifier include alpha set to 0.0001, max_iter set to 1000 and l2 penalty. The classification report points toward a macro average f1-score of 0.69, while the cross_val_score boxplot estimates a mean macro average f1-score for the cross-validation of approximately 0.67. It seems that there is a slightly better performance on the “Neutral” class in terms of recall. "
   ]
  },
  {
   "cell_type": "code",
   "execution_count": 47,
   "metadata": {},
   "outputs": [
    {
     "data": {
      "text/plain": [
       "{'analyzer': 'word',\n",
       " 'binary': False,\n",
       " 'decode_error': 'strict',\n",
       " 'dtype': numpy.float64,\n",
       " 'encoding': 'utf-8',\n",
       " 'input': 'content',\n",
       " 'lowercase': True,\n",
       " 'max_df': 1.0,\n",
       " 'max_features': None,\n",
       " 'min_df': 1,\n",
       " 'ngram_range': (1, 1),\n",
       " 'norm': 'l2',\n",
       " 'preprocessor': None,\n",
       " 'smooth_idf': True,\n",
       " 'stop_words': None,\n",
       " 'strip_accents': None,\n",
       " 'sublinear_tf': False,\n",
       " 'token_pattern': '(?u)\\\\b\\\\w\\\\w+\\\\b',\n",
       " 'tokenizer': None,\n",
       " 'use_idf': True,\n",
       " 'vocabulary': None}"
      ]
     },
     "execution_count": 47,
     "metadata": {},
     "output_type": "execute_result"
    }
   ],
   "source": [
    "# get default parameters\n",
    "TfidfVectorizer().get_params()"
   ]
  },
  {
   "cell_type": "code",
   "execution_count": 48,
   "metadata": {},
   "outputs": [
    {
     "data": {
      "text/plain": [
       "{'alpha': 0.0001,\n",
       " 'average': False,\n",
       " 'class_weight': None,\n",
       " 'early_stopping': False,\n",
       " 'epsilon': 0.1,\n",
       " 'eta0': 0.0,\n",
       " 'fit_intercept': True,\n",
       " 'l1_ratio': 0.15,\n",
       " 'learning_rate': 'optimal',\n",
       " 'loss': 'hinge',\n",
       " 'max_iter': 1000,\n",
       " 'n_iter_no_change': 5,\n",
       " 'n_jobs': None,\n",
       " 'penalty': 'l2',\n",
       " 'power_t': 0.5,\n",
       " 'random_state': None,\n",
       " 'shuffle': True,\n",
       " 'tol': 0.001,\n",
       " 'validation_fraction': 0.1,\n",
       " 'verbose': 0,\n",
       " 'warm_start': False}"
      ]
     },
     "execution_count": 48,
     "metadata": {},
     "output_type": "execute_result"
    }
   ],
   "source": [
    "# get default parameters\n",
    "SGDClassifier().get_params()"
   ]
  },
  {
   "cell_type": "code",
   "execution_count": 49,
   "metadata": {},
   "outputs": [],
   "source": [
    "# build pipeline\n",
    "tvect = TfidfVectorizer(max_features=10000, \n",
    "                          tokenizer = nltk__word_tokenizer)\n",
    "\n",
    "# sgdclassifier with default parameters and log loss function\n",
    "sgdclf = SGDClassifier(loss = 'log', random_state = 42) \n",
    "\n",
    "pipeline4 = make_pipeline(tvect, sgdclf)"
   ]
  },
  {
   "cell_type": "code",
   "execution_count": 50,
   "metadata": {},
   "outputs": [
    {
     "data": {
      "text/plain": [
       "Pipeline(steps=[('tfidfvectorizer',\n",
       "                 TfidfVectorizer(max_features=10000,\n",
       "                                 tokenizer=<function word_tokenize at 0x7fd01ee6eee0>)),\n",
       "                ('sgdclassifier', SGDClassifier(loss='log', random_state=42))])"
      ]
     },
     "execution_count": 50,
     "metadata": {},
     "output_type": "execute_result"
    }
   ],
   "source": [
    "# fit \n",
    "pipeline4.fit(X_train, y_train)"
   ]
  },
  {
   "cell_type": "code",
   "execution_count": 51,
   "metadata": {},
   "outputs": [],
   "source": [
    "# predict\n",
    "y_pred4 = pipeline4.predict(X_val)"
   ]
  },
  {
   "cell_type": "code",
   "execution_count": 52,
   "metadata": {},
   "outputs": [
    {
     "name": "stdout",
     "output_type": "stream",
     "text": [
      "              precision    recall  f1-score   support\n",
      "\n",
      "    Negative       0.72      0.67      0.70       619\n",
      "     Neutral       0.64      0.74      0.69       619\n",
      "    Positive       0.70      0.65      0.67       618\n",
      "\n",
      "    accuracy                           0.69      1856\n",
      "   macro avg       0.69      0.69      0.69      1856\n",
      "weighted avg       0.69      0.69      0.69      1856\n",
      "\n"
     ]
    }
   ],
   "source": [
    "print(classification_report(y_val, y_pred4))"
   ]
  },
  {
   "cell_type": "code",
   "execution_count": 53,
   "metadata": {},
   "outputs": [
    {
     "name": "stdout",
     "output_type": "stream",
     "text": [
      "CPU times: user 48.9 ms, sys: 7.64 ms, total: 56.6 ms\n",
      "Wall time: 2.49 s\n"
     ]
    }
   ],
   "source": [
    "%time scores4 = cross_val_score(estimator=pipeline4, X=X_train, y=y_train, cv=10, scoring='f1_macro', n_jobs=-1)\n"
   ]
  },
  {
   "cell_type": "code",
   "execution_count": 54,
   "metadata": {},
   "outputs": [
    {
     "data": {
      "text/plain": [
       "<AxesSubplot:>"
      ]
     },
     "execution_count": 54,
     "metadata": {},
     "output_type": "execute_result"
    },
    {
     "data": {
      "image/png": "[encoded data removed]",
      "text/plain": [
       "<Figure size 432x288 with 1 Axes>"
      ]
     },
     "metadata": {
      "needs_background": "light"
     },
     "output_type": "display_data"
    }
   ],
   "source": [
    "pd.DataFrame(scores4).boxplot()"
   ]
  },
  {
   "cell_type": "code",
   "execution_count": 55,
   "metadata": {},
   "outputs": [
    {
     "data": {
      "image/png": "[encoded data removed]",
      "text/plain": [
       "<Figure size 432x288 with 2 Axes>"
      ]
     },
     "metadata": {
      "needs_background": "light"
     },
     "output_type": "display_data"
    }
   ],
   "source": [
    "fig, ax = plt.subplots()\n",
    "plot_confusion_matrix(pipeline4, \n",
    "                      X_val,\n",
    "                      y_val,\n",
    "                      labels=pipeline4.classes_, \n",
    "                      ax = ax)\n",
    "plt.show()"
   ]
  },
  {
   "cell_type": "markdown",
   "metadata": {},
   "source": [
    "# Pipeline 5. TF-IDF Vectorizer and Support Vector Machine\n",
    "In this pipeline, we combine the Tf-Idf Vectorizer with max_features set to 10,000 and the NLTK word tokenizer, as well as the Support Vector Machines classifier with its default parameters, which include C set to 1.0, gamma set to ‘scale’, an RBF-kernel (Radial Basis Function) and max_iter set to -1 (no limit). Reaching a macro average f1-score of 0.66, this model is rather mediocre. The boxplot for the cross-validation confirms this by indicating a mean macro average f1-score of around 0.64. The confusion matrix indicates that the model performs slightly better on the “Neutral” class."
   ]
  },
  {
   "cell_type": "code",
   "execution_count": 31,
   "metadata": {},
   "outputs": [
    {
     "data": {
      "text/plain": [
       "{'C': 1.0,\n",
       " 'break_ties': False,\n",
       " 'cache_size': 200,\n",
       " 'class_weight': None,\n",
       " 'coef0': 0.0,\n",
       " 'decision_function_shape': 'ovr',\n",
       " 'degree': 3,\n",
       " 'gamma': 'scale',\n",
       " 'kernel': 'rbf',\n",
       " 'max_iter': -1,\n",
       " 'probability': False,\n",
       " 'random_state': None,\n",
       " 'shrinking': True,\n",
       " 'tol': 0.001,\n",
       " 'verbose': False}"
      ]
     },
     "execution_count": 31,
     "metadata": {},
     "output_type": "execute_result"
    }
   ],
   "source": [
    "# check the default parameters\n",
    "SVC().get_params()"
   ]
  },
  {
   "cell_type": "code",
   "execution_count": 56,
   "metadata": {},
   "outputs": [
    {
     "data": {
      "text/plain": [
       "{'analyzer': 'word',\n",
       " 'binary': False,\n",
       " 'decode_error': 'strict',\n",
       " 'dtype': numpy.float64,\n",
       " 'encoding': 'utf-8',\n",
       " 'input': 'content',\n",
       " 'lowercase': True,\n",
       " 'max_df': 1.0,\n",
       " 'max_features': None,\n",
       " 'min_df': 1,\n",
       " 'ngram_range': (1, 1),\n",
       " 'norm': 'l2',\n",
       " 'preprocessor': None,\n",
       " 'smooth_idf': True,\n",
       " 'stop_words': None,\n",
       " 'strip_accents': None,\n",
       " 'sublinear_tf': False,\n",
       " 'token_pattern': '(?u)\\\\b\\\\w\\\\w+\\\\b',\n",
       " 'tokenizer': None,\n",
       " 'use_idf': True,\n",
       " 'vocabulary': None}"
      ]
     },
     "execution_count": 56,
     "metadata": {},
     "output_type": "execute_result"
    }
   ],
   "source": [
    "# get parameters\n",
    "TfidfVectorizer().get_params()"
   ]
  },
  {
   "cell_type": "code",
   "execution_count": 57,
   "metadata": {},
   "outputs": [],
   "source": [
    "# build pipeline\n",
    "tfidf = TfidfVectorizer(max_features = 10000, \n",
    "                        tokenizer = nltk__word_tokenizer)\n",
    "\n",
    "svm = SVC(random_state=42) # with default parameters: rbf, C=1.0, gamma='scale'\n",
    "\n",
    "pipeline5 = make_pipeline(tfidf, svm)"
   ]
  },
  {
   "cell_type": "code",
   "execution_count": 58,
   "metadata": {},
   "outputs": [
    {
     "data": {
      "text/plain": [
       "Pipeline(steps=[('tfidfvectorizer',\n",
       "                 TfidfVectorizer(max_features=10000,\n",
       "                                 tokenizer=<function word_tokenize at 0x7fd01ee6eee0>)),\n",
       "                ('svc', SVC(random_state=42))])"
      ]
     },
     "execution_count": 58,
     "metadata": {},
     "output_type": "execute_result"
    }
   ],
   "source": [
    "# fit \n",
    "pipeline5.fit(X_train, y_train)"
   ]
  },
  {
   "cell_type": "code",
   "execution_count": 59,
   "metadata": {},
   "outputs": [],
   "source": [
    "# predict\n",
    "y_pred5 = pipeline5.predict(X_val)"
   ]
  },
  {
   "cell_type": "code",
   "execution_count": 60,
   "metadata": {},
   "outputs": [
    {
     "name": "stdout",
     "output_type": "stream",
     "text": [
      "              precision    recall  f1-score   support\n",
      "\n",
      "    Negative       0.68      0.64      0.66       619\n",
      "     Neutral       0.64      0.71      0.67       619\n",
      "    Positive       0.66      0.63      0.64       618\n",
      "\n",
      "    accuracy                           0.66      1856\n",
      "   macro avg       0.66      0.66      0.66      1856\n",
      "weighted avg       0.66      0.66      0.66      1856\n",
      "\n"
     ]
    }
   ],
   "source": [
    "print(classification_report(y_val, y_pred5))"
   ]
  },
  {
   "cell_type": "code",
   "execution_count": 61,
   "metadata": {},
   "outputs": [
    {
     "name": "stdout",
     "output_type": "stream",
     "text": [
      "CPU times: user 43.2 ms, sys: 5.28 ms, total: 48.5 ms\n",
      "Wall time: 14.6 s\n"
     ]
    }
   ],
   "source": [
    "%time scores5 = cross_val_score(estimator=pipeline5, X=X_train, y=y_train, cv=10, scoring='f1_macro', n_jobs=-1)"
   ]
  },
  {
   "cell_type": "code",
   "execution_count": 62,
   "metadata": {},
   "outputs": [
    {
     "data": {
      "text/plain": [
       "<AxesSubplot:>"
      ]
     },
     "execution_count": 62,
     "metadata": {},
     "output_type": "execute_result"
    },
    {
     "data": {
      "image/png": "[encoded data removed]",
      "text/plain": [
       "<Figure size 432x288 with 1 Axes>"
      ]
     },
     "metadata": {
      "needs_background": "light"
     },
     "output_type": "display_data"
    }
   ],
   "source": [
    "pd.DataFrame(scores5).boxplot()"
   ]
  },
  {
   "cell_type": "code",
   "execution_count": 63,
   "metadata": {},
   "outputs": [
    {
     "data": {
      "image/png": "[encoded data removed]",
      "text/plain": [
       "<Figure size 432x288 with 2 Axes>"
      ]
     },
     "metadata": {
      "needs_background": "light"
     },
     "output_type": "display_data"
    }
   ],
   "source": [
    "fig, ax = plt.subplots()\n",
    "plot_confusion_matrix(pipeline5, \n",
    "                      X_val,\n",
    "                      y_val,\n",
    "                      labels=pipeline5.classes_, \n",
    "                      ax = ax)\n",
    "plt.show()"
   ]
  },
  {
   "cell_type": "markdown",
   "metadata": {},
   "source": [
    "# Pipeline 6. TF-IDF Vectorizer and multinomial Naive Bayes Classifier\n",
    "In this pipeline, we include the Tf-Idf Vectorizer with max_features set to 10,000 and the NLTK word tokenizer, together with a multinomial Naïve Bayes classifier with its default parameters. This classifier does not support the use of random_state (replicability), so it is not instantiated. Judging by the classification report, this pipeline also covers mediocre ground, reaching a macro average f1-score of 0.65. This slightly outperforms the pipeline with CountVectorizer and multinomial Naïve Bayes classifier, and this is also reflected in the mean macro average f1-score of 0.63 in the cross_val_score boxpot. The confusion matrix indicates that this pipeline slightly underperforms on the “Neutral” class."
   ]
  },
  {
   "cell_type": "code",
   "execution_count": 64,
   "metadata": {},
   "outputs": [
    {
     "data": {
      "text/plain": [
       "{'alpha': 1.0, 'class_prior': None, 'fit_prior': True}"
      ]
     },
     "execution_count": 64,
     "metadata": {},
     "output_type": "execute_result"
    }
   ],
   "source": [
    "# get parameters\n",
    "naive_bayes.MultinomialNB().get_params()"
   ]
  },
  {
   "cell_type": "code",
   "execution_count": 65,
   "metadata": {},
   "outputs": [],
   "source": [
    "# build pipeline\n",
    "tvect = TfidfVectorizer(max_features=10000, \n",
    "                          tokenizer = nltk__word_tokenizer)\n",
    "\n",
    "nbc = naive_bayes.MultinomialNB() # NBC with default parameters\n",
    "\n",
    "pipeline6 = make_pipeline(tvect, nbc)"
   ]
  },
  {
   "cell_type": "code",
   "execution_count": 66,
   "metadata": {},
   "outputs": [
    {
     "data": {
      "text/plain": [
       "Pipeline(steps=[('tfidfvectorizer',\n",
       "                 TfidfVectorizer(max_features=10000,\n",
       "                                 tokenizer=<function word_tokenize at 0x7fd01ee6eee0>)),\n",
       "                ('multinomialnb', MultinomialNB())])"
      ]
     },
     "execution_count": 66,
     "metadata": {},
     "output_type": "execute_result"
    }
   ],
   "source": [
    "pipeline6.fit(X_train, y_train)"
   ]
  },
  {
   "cell_type": "code",
   "execution_count": 67,
   "metadata": {},
   "outputs": [],
   "source": [
    "# predict\n",
    "y_pred6 = pipeline6.predict(X_val)"
   ]
  },
  {
   "cell_type": "code",
   "execution_count": 68,
   "metadata": {},
   "outputs": [
    {
     "name": "stdout",
     "output_type": "stream",
     "text": [
      "              precision    recall  f1-score   support\n",
      "\n",
      "    Negative       0.64      0.69      0.67       619\n",
      "     Neutral       0.69      0.55      0.62       619\n",
      "    Positive       0.61      0.69      0.65       618\n",
      "\n",
      "    accuracy                           0.65      1856\n",
      "   macro avg       0.65      0.65      0.65      1856\n",
      "weighted avg       0.65      0.65      0.65      1856\n",
      "\n"
     ]
    }
   ],
   "source": [
    "print(classification_report(y_val, y_pred6))"
   ]
  },
  {
   "cell_type": "code",
   "execution_count": 69,
   "metadata": {},
   "outputs": [
    {
     "name": "stdout",
     "output_type": "stream",
     "text": [
      "CPU times: user 42.6 ms, sys: 5.71 ms, total: 48.3 ms\n",
      "Wall time: 2.41 s\n"
     ]
    }
   ],
   "source": [
    "%time scores6 = cross_val_score(estimator=pipeline6, X=X_train, y=y_train, cv=10, scoring='f1_macro', n_jobs=-1)"
   ]
  },
  {
   "cell_type": "code",
   "execution_count": 70,
   "metadata": {},
   "outputs": [
    {
     "data": {
      "text/plain": [
       "<AxesSubplot:>"
      ]
     },
     "execution_count": 70,
     "metadata": {},
     "output_type": "execute_result"
    },
    {
     "data": {
      "image/png": "[encoded data removed]",
      "text/plain": [
       "<Figure size 432x288 with 1 Axes>"
      ]
     },
     "metadata": {
      "needs_background": "light"
     },
     "output_type": "display_data"
    }
   ],
   "source": [
    "pd.DataFrame(scores6).boxplot()"
   ]
  },
  {
   "cell_type": "code",
   "execution_count": 71,
   "metadata": {},
   "outputs": [
    {
     "data": {
      "image/png": "[encoded data removed]",
      "text/plain": [
       "<Figure size 432x288 with 2 Axes>"
      ]
     },
     "metadata": {
      "needs_background": "light"
     },
     "output_type": "display_data"
    }
   ],
   "source": [
    "fig, ax = plt.subplots()\n",
    "plot_confusion_matrix(pipeline6, \n",
    "                      X_val,\n",
    "                      y_val,\n",
    "                      labels=pipeline6.classes_, \n",
    "                      ax = ax)\n",
    "plt.show()"
   ]
  },
  {
   "cell_type": "markdown",
   "metadata": {},
   "source": [
    "# Hyperparameter tuning using grid search on pipeline 1 and 4\n",
    "In this section, we will perform hyperparameter optimization on the two pipelines that performed the best in terms of macro average f1-score. This way, we will find the optimal parameters for our classification task. Pipeline 1 (CountVectorizer and Stochastic Gradient Descent classifier) and pipeline 4 (Tf-Idf Vectorizer and Stochastic Gradient Descent classifier) both obtained a macro-average f1-score of 0.69. That is why we will perform grid search on both of them. After that, the grid search that performs best on the validation set will be used to assess the final performance on the test set that has been kept apart until now."
   ]
  },
  {
   "cell_type": "markdown",
   "metadata": {},
   "source": [
    "## Grid search on pipeline 1. CountVectorizer and Stochastic Gradient Descent classifier"
   ]
  },
  {
   "cell_type": "markdown",
   "metadata": {},
   "source": [
    "In this grid search, we define a parameter grid to find the optimal values for two parameters in the CountVectorizer and four parameters in the SGDClassifier. For CountVectorizer, the grid search will find the best value for max_features and min_df. For SGDClassifier, the grid search optimizes alpha and max_iter, as well as the loss function and the penalty function."
   ]
  },
  {
   "cell_type": "code",
   "execution_count": 72,
   "metadata": {},
   "outputs": [
    {
     "data": {
      "text/plain": [
       "{'memory': None,\n",
       " 'steps': [('countvectorizer',\n",
       "   CountVectorizer(max_features=10000,\n",
       "                   tokenizer=<function word_tokenize at 0x7fd01ee6eee0>)),\n",
       "  ('sgdclassifier', SGDClassifier(loss='log', random_state=42))],\n",
       " 'verbose': False,\n",
       " 'countvectorizer': CountVectorizer(max_features=10000,\n",
       "                 tokenizer=<function word_tokenize at 0x7fd01ee6eee0>),\n",
       " 'sgdclassifier': SGDClassifier(loss='log', random_state=42),\n",
       " 'countvectorizer__analyzer': 'word',\n",
       " 'countvectorizer__binary': False,\n",
       " 'countvectorizer__decode_error': 'strict',\n",
       " 'countvectorizer__dtype': numpy.int64,\n",
       " 'countvectorizer__encoding': 'utf-8',\n",
       " 'countvectorizer__input': 'content',\n",
       " 'countvectorizer__lowercase': True,\n",
       " 'countvectorizer__max_df': 1.0,\n",
       " 'countvectorizer__max_features': 10000,\n",
       " 'countvectorizer__min_df': 1,\n",
       " 'countvectorizer__ngram_range': (1, 1),\n",
       " 'countvectorizer__preprocessor': None,\n",
       " 'countvectorizer__stop_words': None,\n",
       " 'countvectorizer__strip_accents': None,\n",
       " 'countvectorizer__token_pattern': '(?u)\\\\b\\\\w\\\\w+\\\\b',\n",
       " 'countvectorizer__tokenizer': <function nltk.tokenize.word_tokenize(text, language='english', preserve_line=False)>,\n",
       " 'countvectorizer__vocabulary': None,\n",
       " 'sgdclassifier__alpha': 0.0001,\n",
       " 'sgdclassifier__average': False,\n",
       " 'sgdclassifier__class_weight': None,\n",
       " 'sgdclassifier__early_stopping': False,\n",
       " 'sgdclassifier__epsilon': 0.1,\n",
       " 'sgdclassifier__eta0': 0.0,\n",
       " 'sgdclassifier__fit_intercept': True,\n",
       " 'sgdclassifier__l1_ratio': 0.15,\n",
       " 'sgdclassifier__learning_rate': 'optimal',\n",
       " 'sgdclassifier__loss': 'log',\n",
       " 'sgdclassifier__max_iter': 1000,\n",
       " 'sgdclassifier__n_iter_no_change': 5,\n",
       " 'sgdclassifier__n_jobs': None,\n",
       " 'sgdclassifier__penalty': 'l2',\n",
       " 'sgdclassifier__power_t': 0.5,\n",
       " 'sgdclassifier__random_state': 42,\n",
       " 'sgdclassifier__shuffle': True,\n",
       " 'sgdclassifier__tol': 0.001,\n",
       " 'sgdclassifier__validation_fraction': 0.1,\n",
       " 'sgdclassifier__verbose': 0,\n",
       " 'sgdclassifier__warm_start': False}"
      ]
     },
     "execution_count": 72,
     "metadata": {},
     "output_type": "execute_result"
    }
   ],
   "source": [
    "pipeline1.get_params() #  get all the parameters from the previously built pipeline"
   ]
  },
  {
   "cell_type": "code",
   "execution_count": 77,
   "metadata": {},
   "outputs": [],
   "source": [
    "# define parameter grid\n",
    "params1 = [{'countvectorizer__max_features': [5000, 10000, 30000],\n",
    "           'countvectorizer__min_df': [1, 0.2, 0.5],\n",
    "           'sgdclassifier__alpha': [1e-4, 0.001, 0.01, 0.1],\n",
    "           'sgdclassifier__max_iter': [100, 1000, 10000],\n",
    "           'sgdclassifier__loss': ['hinge', 'log'],\n",
    "           'sgdclassifier__penalty': ['l2', 'l1', 'elasticnet']}]\n",
    "\n",
    "# define gridsearch\n",
    "gs1 = GridSearchCV(estimator = pipeline1,\n",
    "                  param_grid = params1,\n",
    "                  scoring = \"f1_macro\", \n",
    "                  cv = 10,\n",
    "                  n_jobs = -1,\n",
    "                  refit=True)"
   ]
  },
  {
   "cell_type": "code",
   "execution_count": 78,
   "metadata": {},
   "outputs": [
    {
     "data": {
      "text/plain": [
       "GridSearchCV(cv=10,\n",
       "             estimator=Pipeline(steps=[('countvectorizer',\n",
       "                                        CountVectorizer(max_features=10000,\n",
       "                                                        tokenizer=<function word_tokenize at 0x7fd01ee6eee0>)),\n",
       "                                       ('sgdclassifier',\n",
       "                                        SGDClassifier(loss='log',\n",
       "                                                      random_state=42))]),\n",
       "             n_jobs=-1,\n",
       "             param_grid=[{'countvectorizer__max_features': [5000, 10000, 30000],\n",
       "                          'countvectorizer__min_df': [1, 0.2, 0.5],\n",
       "                          'sgdclassifier__alpha': [0.0001, 0.001, 0.01, 0.1],\n",
       "                          'sgdclassifier__loss': ['hinge', 'log'],\n",
       "                          'sgdclassifier__max_iter': [100, 1000, 10000],\n",
       "                          'sgdclassifier__penalty': ['l2', 'l1',\n",
       "                                                     'elasticnet']}],\n",
       "             scoring='f1_macro')"
      ]
     },
     "execution_count": 78,
     "metadata": {},
     "output_type": "execute_result"
    }
   ],
   "source": [
    "# fit training data to gridsearch\n",
    "gs1.fit(X_train, y_train)"
   ]
  },
  {
   "cell_type": "code",
   "execution_count": 79,
   "metadata": {},
   "outputs": [
    {
     "data": {
      "text/plain": [
       "{'countvectorizer__max_features': 10000,\n",
       " 'countvectorizer__min_df': 1,\n",
       " 'sgdclassifier__alpha': 0.001,\n",
       " 'sgdclassifier__loss': 'hinge',\n",
       " 'sgdclassifier__max_iter': 100,\n",
       " 'sgdclassifier__penalty': 'l1'}"
      ]
     },
     "execution_count": 79,
     "metadata": {},
     "output_type": "execute_result"
    }
   ],
   "source": [
    "# check what the gridsearch has found to be the best parameters for this task\n",
    "gs1.best_params_"
   ]
  },
  {
   "cell_type": "code",
   "execution_count": 80,
   "metadata": {},
   "outputs": [
    {
     "data": {
      "text/plain": [
       "0.6940332989944528"
      ]
     },
     "execution_count": 80,
     "metadata": {},
     "output_type": "execute_result"
    }
   ],
   "source": [
    "# best score obtained by grid search\n",
    "gs1.best_score_"
   ]
  },
  {
   "cell_type": "code",
   "execution_count": 81,
   "metadata": {},
   "outputs": [],
   "source": [
    "# predict with grid search on validation set\n",
    "y_pred_gs1 = gs1.predict(X_val)"
   ]
  },
  {
   "cell_type": "code",
   "execution_count": 82,
   "metadata": {},
   "outputs": [
    {
     "name": "stdout",
     "output_type": "stream",
     "text": [
      "              precision    recall  f1-score   support\n",
      "\n",
      "    Negative       0.78      0.64      0.70       619\n",
      "     Neutral       0.63      0.88      0.74       619\n",
      "    Positive       0.80      0.64      0.71       618\n",
      "\n",
      "    accuracy                           0.72      1856\n",
      "   macro avg       0.74      0.72      0.72      1856\n",
      "weighted avg       0.74      0.72      0.72      1856\n",
      "\n"
     ]
    }
   ],
   "source": [
    "print(classification_report(y_val, y_pred_gs1))"
   ]
  },
  {
   "cell_type": "code",
   "execution_count": 84,
   "metadata": {},
   "outputs": [
    {
     "data": {
      "image/png": "[encoded data removed]",
      "text/plain": [
       "<Figure size 432x288 with 2 Axes>"
      ]
     },
     "metadata": {
      "needs_background": "light"
     },
     "output_type": "display_data"
    }
   ],
   "source": [
    "plot_confusion_matrix(gs1, X_val, y_val, labels=gs1.classes_)\n",
    "plt.show()"
   ]
  },
  {
   "cell_type": "markdown",
   "metadata": {},
   "source": [
    "## Grid search on pipeline 4. Tf-Idf Vectorizer and SGDClassifier\n",
    "Here, we will define the parameter grid to find the best values for two parameters in Tf-Idf Vectorizer as well as four parameters in the SGDClassifier. The hyperparameters that the grid search will optimize are the same as in the previous grid search: max_features and min_df for Tf-Idf Vectorizer and alpha, max_iter, loss function and penalty function for the SGDClassifier. "
   ]
  },
  {
   "cell_type": "code",
   "execution_count": 85,
   "metadata": {},
   "outputs": [
    {
     "data": {
      "text/plain": [
       "{'memory': None,\n",
       " 'steps': [('tfidfvectorizer',\n",
       "   TfidfVectorizer(max_features=10000,\n",
       "                   tokenizer=<function word_tokenize at 0x7fd01ee6eee0>)),\n",
       "  ('sgdclassifier', SGDClassifier(loss='log', random_state=42))],\n",
       " 'verbose': False,\n",
       " 'tfidfvectorizer': TfidfVectorizer(max_features=10000,\n",
       "                 tokenizer=<function word_tokenize at 0x7fd01ee6eee0>),\n",
       " 'sgdclassifier': SGDClassifier(loss='log', random_state=42),\n",
       " 'tfidfvectorizer__analyzer': 'word',\n",
       " 'tfidfvectorizer__binary': False,\n",
       " 'tfidfvectorizer__decode_error': 'strict',\n",
       " 'tfidfvectorizer__dtype': numpy.float64,\n",
       " 'tfidfvectorizer__encoding': 'utf-8',\n",
       " 'tfidfvectorizer__input': 'content',\n",
       " 'tfidfvectorizer__lowercase': True,\n",
       " 'tfidfvectorizer__max_df': 1.0,\n",
       " 'tfidfvectorizer__max_features': 10000,\n",
       " 'tfidfvectorizer__min_df': 1,\n",
       " 'tfidfvectorizer__ngram_range': (1, 1),\n",
       " 'tfidfvectorizer__norm': 'l2',\n",
       " 'tfidfvectorizer__preprocessor': None,\n",
       " 'tfidfvectorizer__smooth_idf': True,\n",
       " 'tfidfvectorizer__stop_words': None,\n",
       " 'tfidfvectorizer__strip_accents': None,\n",
       " 'tfidfvectorizer__sublinear_tf': False,\n",
       " 'tfidfvectorizer__token_pattern': '(?u)\\\\b\\\\w\\\\w+\\\\b',\n",
       " 'tfidfvectorizer__tokenizer': <function nltk.tokenize.word_tokenize(text, language='english', preserve_line=False)>,\n",
       " 'tfidfvectorizer__use_idf': True,\n",
       " 'tfidfvectorizer__vocabulary': None,\n",
       " 'sgdclassifier__alpha': 0.0001,\n",
       " 'sgdclassifier__average': False,\n",
       " 'sgdclassifier__class_weight': None,\n",
       " 'sgdclassifier__early_stopping': False,\n",
       " 'sgdclassifier__epsilon': 0.1,\n",
       " 'sgdclassifier__eta0': 0.0,\n",
       " 'sgdclassifier__fit_intercept': True,\n",
       " 'sgdclassifier__l1_ratio': 0.15,\n",
       " 'sgdclassifier__learning_rate': 'optimal',\n",
       " 'sgdclassifier__loss': 'log',\n",
       " 'sgdclassifier__max_iter': 1000,\n",
       " 'sgdclassifier__n_iter_no_change': 5,\n",
       " 'sgdclassifier__n_jobs': None,\n",
       " 'sgdclassifier__penalty': 'l2',\n",
       " 'sgdclassifier__power_t': 0.5,\n",
       " 'sgdclassifier__random_state': 42,\n",
       " 'sgdclassifier__shuffle': True,\n",
       " 'sgdclassifier__tol': 0.001,\n",
       " 'sgdclassifier__validation_fraction': 0.1,\n",
       " 'sgdclassifier__verbose': 0,\n",
       " 'sgdclassifier__warm_start': False}"
      ]
     },
     "execution_count": 85,
     "metadata": {},
     "output_type": "execute_result"
    }
   ],
   "source": [
    "# get parameters of pipeline we built earlier\n",
    "pipeline4.get_params()"
   ]
  },
  {
   "cell_type": "code",
   "execution_count": 86,
   "metadata": {},
   "outputs": [],
   "source": [
    "# define parameter grid\n",
    "params2 = [{'tfidfvectorizer__max_features': [5000, 10000, 30000],\n",
    "           'tfidfvectorizer__min_df': [1, 0.2, 0.5], \n",
    "           'sgdclassifier__alpha': [1e-4, 0.001, 0.01, 0.1],\n",
    "           'sgdclassifier__max_iter': [100, 1000, 10000],\n",
    "           'sgdclassifier__loss': ['hinge', 'log'],\n",
    "           'sgdclassifier__penalty': ['l2', 'l1', 'elasticnet']}]\n",
    "# define grid search\n",
    "gs2 = GridSearchCV(estimator = pipeline4,\n",
    "                  param_grid = params2,\n",
    "                  scoring = \"f1_macro\", \n",
    "                  cv = 10,\n",
    "                  n_jobs = -1,\n",
    "                  refit=True)"
   ]
  },
  {
   "cell_type": "code",
   "execution_count": 87,
   "metadata": {},
   "outputs": [
    {
     "data": {
      "text/plain": [
       "GridSearchCV(cv=10,\n",
       "             estimator=Pipeline(steps=[('tfidfvectorizer',\n",
       "                                        TfidfVectorizer(max_features=10000,\n",
       "                                                        tokenizer=<function word_tokenize at 0x7fd01ee6eee0>)),\n",
       "                                       ('sgdclassifier',\n",
       "                                        SGDClassifier(loss='log',\n",
       "                                                      random_state=42))]),\n",
       "             n_jobs=-1,\n",
       "             param_grid=[{'sgdclassifier__alpha': [0.0001, 0.001, 0.01, 0.1],\n",
       "                          'sgdclassifier__loss': ['hinge', 'log'],\n",
       "                          'sgdclassifier__max_iter': [100, 1000, 10000],\n",
       "                          'sgdclassifier__penalty': ['l2', 'l1', 'elasticnet'],\n",
       "                          'tfidfvectorizer__max_features': [5000, 10000, 30000],\n",
       "                          'tfidfvectorizer__min_df': [1, 0.2, 0.5]}],\n",
       "             scoring='f1_macro')"
      ]
     },
     "execution_count": 87,
     "metadata": {},
     "output_type": "execute_result"
    }
   ],
   "source": [
    "# fit training data to the grid search\n",
    "gs2.fit(X_train, y_train)"
   ]
  },
  {
   "cell_type": "code",
   "execution_count": 88,
   "metadata": {},
   "outputs": [
    {
     "data": {
      "text/plain": [
       "{'sgdclassifier__alpha': 0.0001,\n",
       " 'sgdclassifier__loss': 'hinge',\n",
       " 'sgdclassifier__max_iter': 100,\n",
       " 'sgdclassifier__penalty': 'l1',\n",
       " 'tfidfvectorizer__max_features': 10000,\n",
       " 'tfidfvectorizer__min_df': 1}"
      ]
     },
     "execution_count": 88,
     "metadata": {},
     "output_type": "execute_result"
    }
   ],
   "source": [
    "# check what values the grid search found to be optimal for our task\n",
    "gs2.best_params_"
   ]
  },
  {
   "cell_type": "code",
   "execution_count": 89,
   "metadata": {},
   "outputs": [
    {
     "data": {
      "text/plain": [
       "0.7251057317583959"
      ]
     },
     "execution_count": 89,
     "metadata": {},
     "output_type": "execute_result"
    }
   ],
   "source": [
    "# check the best score that gridsearch obtained\n",
    "gs2.best_score_"
   ]
  },
  {
   "cell_type": "code",
   "execution_count": 90,
   "metadata": {},
   "outputs": [],
   "source": [
    "# predict\n",
    "y_pred_gs2 = gs2.predict(X_val)"
   ]
  },
  {
   "cell_type": "code",
   "execution_count": 91,
   "metadata": {},
   "outputs": [
    {
     "name": "stdout",
     "output_type": "stream",
     "text": [
      "              precision    recall  f1-score   support\n",
      "\n",
      "    Negative       0.81      0.71      0.76       619\n",
      "     Neutral       0.70      0.85      0.77       619\n",
      "    Positive       0.80      0.73      0.76       618\n",
      "\n",
      "    accuracy                           0.76      1856\n",
      "   macro avg       0.77      0.76      0.76      1856\n",
      "weighted avg       0.77      0.76      0.76      1856\n",
      "\n"
     ]
    }
   ],
   "source": [
    "print(classification_report(y_val, y_pred_gs2))"
   ]
  },
  {
   "cell_type": "code",
   "execution_count": 92,
   "metadata": {},
   "outputs": [
    {
     "data": {
      "image/png": "[encoded data removed]",
      "text/plain": [
       "<Figure size 432x288 with 2 Axes>"
      ]
     },
     "metadata": {
      "needs_background": "light"
     },
     "output_type": "display_data"
    }
   ],
   "source": [
    "plot_confusion_matrix(gs2, X_val, y_val, labels=gs1.classes_)\n",
    "plt.show()"
   ]
  },
  {
   "cell_type": "markdown",
   "metadata": {},
   "source": [
    "# Building a pipeline with the new parameters for Tf-Idf Vectorizer and SGDClassifier, retraining and testing\n",
    "In the section above, it was clear that Tf-Idf Vectorizer and Stochastic Gradient Descent classifier resulted in the best performance after hyperparameter optimization, yielding a macro average f1-score of 0.76. Therefore, we will use this model to assess the final performance on the test set, that has been kept apart until now. In order to do this, we build a new pipeline and specify the optimal parameters for the vectorizer and classifier. Subsequently, we merge X_train and X_val so that we have our original training set back, which we will use to retrain the model on. We do the same for y_train and y_val. After that, the new pipeline will be used to make predictions on the test set. \n",
    "Generally speaking, this model performes well for our classification task. The classification report indicates that the optimized hyperparameters effectively yield better results. The macro average f1-score as well as the macro average recall are 0.75, and the macro average precision is 0.76. In the f1-scores, it is clear that the “Positive” class has a slight advantage over the other classes. However, the recall scores as well as the confusion matrix indicate that the model performed slightly better on the “Neutral” class."
   ]
  },
  {
   "cell_type": "code",
   "execution_count": 94,
   "metadata": {},
   "outputs": [],
   "source": [
    "# instantiate vectorizer with best parameters that came out of grid search\n",
    "tvect = TfidfVectorizer(max_features=10000, \n",
    "                        tokenizer = nltk__word_tokenizer,\n",
    "                       min_df = 1)\n",
    "\n",
    "# instantiate stochastic gradient descent classifier with best parameters that came out of grid search\n",
    "sgdclf = SGDClassifier(alpha = 0.0001,\n",
    "                      loss='hinge', \n",
    "                      max_iter=100,\n",
    "                      penalty='l1',\n",
    "                      random_state=42)\n",
    "\n",
    "pipeline = make_pipeline(tvect, sgdclf)"
   ]
  },
  {
   "cell_type": "code",
   "execution_count": 99,
   "metadata": {},
   "outputs": [],
   "source": [
    "# merge training and validation input\n",
    "X_train = np.concatenate((X_train, X_val), axis=0)"
   ]
  },
  {
   "cell_type": "code",
   "execution_count": 100,
   "metadata": {},
   "outputs": [],
   "source": [
    "# merge training and validation output\n",
    "y_train = np.concatenate((y_train, y_val), axis=0)"
   ]
  },
  {
   "cell_type": "code",
   "execution_count": 101,
   "metadata": {},
   "outputs": [
    {
     "data": {
      "text/plain": [
       "Pipeline(steps=[('tfidfvectorizer',\n",
       "                 TfidfVectorizer(max_features=10000,\n",
       "                                 tokenizer=<function word_tokenize at 0x7fd01ee6eee0>)),\n",
       "                ('sgdclassifier',\n",
       "                 SGDClassifier(max_iter=100, penalty='l1', random_state=42))])"
      ]
     },
     "execution_count": 101,
     "metadata": {},
     "output_type": "execute_result"
    }
   ],
   "source": [
    "# fit merged training and validation inputs and outputs to the new pipeline with optimized parameters\n",
    "pipeline.fit(X_train, y_train)"
   ]
  },
  {
   "cell_type": "code",
   "execution_count": 102,
   "metadata": {},
   "outputs": [],
   "source": [
    "# predict\n",
    "y_pred = pipeline.predict(X_test)"
   ]
  },
  {
   "cell_type": "code",
   "execution_count": 103,
   "metadata": {},
   "outputs": [
    {
     "name": "stdout",
     "output_type": "stream",
     "text": [
      "              precision    recall  f1-score   support\n",
      "\n",
      "    Negative       0.79      0.67      0.73       618\n",
      "     Neutral       0.70      0.84      0.76       619\n",
      "    Positive       0.78      0.75      0.77       619\n",
      "\n",
      "    accuracy                           0.75      1856\n",
      "   macro avg       0.76      0.75      0.75      1856\n",
      "weighted avg       0.76      0.75      0.75      1856\n",
      "\n"
     ]
    }
   ],
   "source": [
    "print(classification_report(y_test, y_pred))"
   ]
  },
  {
   "cell_type": "code",
   "execution_count": 104,
   "metadata": {},
   "outputs": [
    {
     "data": {
      "image/png": "[encoded data removed]",
      "text/plain": [
       "<Figure size 432x288 with 2 Axes>"
      ]
     },
     "metadata": {
      "needs_background": "light"
     },
     "output_type": "display_data"
    }
   ],
   "source": [
    "fig, ax = plt.subplots()\n",
    "plot_confusion_matrix(pipeline, \n",
    "                      X_test,\n",
    "                      y_test,\n",
    "                      labels=pipeline.classes_, \n",
    "                      ax = ax)\n",
    "plt.show()"
   ]
  },
  {
   "cell_type": "markdown",
   "metadata": {},
   "source": [
    "# Results"
   ]
  },
  {
   "cell_type": "markdown",
   "metadata": {},
   "source": [
    "While all the pipelines performed relatively similarly and resulted in macro average f1-scores in a range between 0.60 and 0.69, both pipeline 1 and pipeline 4 performed the best on our dataset, each yielding a macro average f1-score of 0.69 on the validation set. Subsequently, we performed a grid search on both of them, to optimize the hyperparameters max_features, min_df for the vectorizers and alpha, max_iter, loss and penalty function for the Stochastic Gradient Descent classifier. Even though the performance improved substantially for both of the pipelines after the grid search, the optimized hyperparameters resulted in the best performance for pipeline 4, including Tf-Idf Vectorizer and Stochastic Gradient Descent Classifier. To be more precise, the grid search on pipeline 1 resulted in a macro average precision of 0.74 and a macro average recall and f1-score of 0.72. The grid search on pipeline 4 resulted in a macro average precision of 0.77 and a macro average recall and f1-score of 0.76. Therefore, we built a new pipeline including the optimized parameters of pipeline 4, retrained the new pipeline on the merged training and validation sets,  and predicted on the test set that had been kept separate until now. This resulted in a macro average f1-score and recall of 0.75 as well as a macro average precision of 0.76. The f1-scores for the classes seem to be more or less equally distributed, whereas the “Neutral” is a clear outlier in recall score. This is a general tendency that can be observed in most of the pipelines included in this project, and is also reflected in the confusion matrix. Generally speaking, this new pipeline performed relatively well on the test set after hyperparameter optimization. \n",
    "\n",
    "Pipeline 2, including CountVectorizer and Support Vector Machines classifier,  resulted in the lowest performance on our data, reaching a macro average f1-score of 0.60. The individual f1-scores ranged between 0.56 and 0.65, with the “Neutral” class being an upward outlier in precision, recall and f1-score. \n"
   ]
  }
 ],
 "metadata": {
  "kernelspec": {
   "display_name": "Python 3",
   "language": "python",
   "name": "python3"
  },
  "language_info": {
   "codemirror_mode": {
    "name": "ipython",
    "version": 3
   },
   "file_extension": ".py",
   "mimetype": "text/x-python",
   "name": "python",
   "nbconvert_exporter": "python",
   "pygments_lexer": "ipython3",
   "version": "3.8.5"
  }
 },
 "nbformat": 4,
 "nbformat_minor": 4
}
