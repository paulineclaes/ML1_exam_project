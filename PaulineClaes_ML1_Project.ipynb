{
 "cells": [
  {
   "cell_type": "markdown",
   "metadata": {},
   "source": [
    "# Sentiment mining: corona tweets\n",
    "- Pauline Claes. \n",
    "- Machine Learning 1 project \n",
    "- Friday 22 January 2021\n",
    "\n",
    "## The data set\n",
    "The data set was downloaded from the data science community Kaggle (Kaggle, 2020). The original file contained two CSV-files; one for testing and one for training. The original test file contained 3,798 instances and the train file 41,158 instances. Because the size of the original test file represented less than 10% of the train file, and it was clear that we would not use the entire data set for computational efficiency, we decided to only use the train file and do all of our preprocessing steps on that data set. Moving forward, we start with one data set (CSV-file) containing 41,158 data points. \n",
    "This data set has five input features and one output feature (the class labels). The input features are: “UserName”, “ScreenName”, “Location”, “TweetAt” and “OriginalTweet”. “UserName” is an integer that functions as an index. “ScreenName” is a number that represents the unique and anonymized IDs of the tweets. “TweetAt” is the date when the tweet was posted and “OriginalTweet” is the actual tweet. For this project, we will only be using the latter as the input feature, as we are only interested in the textual content. The last column, the output feature “Sentiment” is the label that we want to predict. This column contains five class labels: “Extremely Negative”, “Negative”, “Neutral”, “Positive” and “Extremely Positive”. According to Kaggle, this data set has been manually annotated. Unfortunately, it did not come with a description of the criteria used to assign a class to a certain tweet. Therefore, after having examined the data in more detail, it was unclear whether there was a well-delineated distinction between “Extremely Negative” and “Negative”, and between “Extremely Positive” and “Positive”. This is why we have merged these classes into respectively “Negative” and “Positive” in the preprocessing of the data set, leaving us with three class labels in which the tweets can be classified: “Negative”, “Neutral” and “Positive”. "
   ]
  },
  {
   "cell_type": "markdown",
   "metadata": {},
   "source": [
    "## Preprocessing\n",
    "\n",
    "As described above, the used data set contains 41,158 instances. We load the data set as a pandas.DataFrame and inspect it to see whether there are any missing values. There are in fact 8,666 missing values in the “Location” column, and we subsequently drop the rows containing missing values. Even though this might not be necessary because that column will not be used as an input feature, it is useful to do so for the educational purposes of this paper. In addition to that, we merge the class labels “Extremely Negative” and “Negative”, and “Extremely Positive” and “Positive” in the “Sentiment” column as described above. After that, we take a random sample of 50% of the data set for the purpose of computational efficiency during the training and testing processes. In order to assure replicability, we instantiate a random_state. We are now left with a data set containing 16,246 data points. Furthermore, we verify whether the labels are balanced; meaning that they have the same number of instances per class label in the “Sentiment” column. As this is not the case, we we set all the value counts for the three classes equal to the class with the least amount of instances (“Neutral”, with 3,093 instances), to avoid bias in our training set. By doing that, we obtain 3,093 instances in each class. \n",
    "After all of these preprocessing steps, we are left with a total of 9,279 instances equally spread across the three classes “Negative”, “Neutral” and “Positive”. This is the subset on which we will perform our model selection.\n",
    "In order to adequately assess a model’s ability to generalize to unseen data, it is important to split the data into a train and test set. However, there is a notion of ‘information leakage’ that is playing a noticeable role here. To be more precise; when running models multiple times, the test set can become part of the training set, as it is not the first time that the model sees it. Therefore, it is useful to split the data into a training, validation and test set. All of the pipelines will be fit on the training part an the performance of all of the individual pipelines will be assessed on the validation part. When we have found the best performing pipeline after model selection, we will retrain that pipeline on the training data and assess its performance on the test set that has been kept apart until then. This way, our model will not get too optimistic after several rounds of fitting. Using the SciKit-learn module train_test_split, we define a test part containing 20% of our data set and a training part containing 80% of our data set. Subsequently, we define a validation split containing 25% of our training part. Furthermore, we instantiate a random_state for replicability purposes, shuffle the data so that it is no longer in any particular order (for example ordered by class label) and we stratify the data so that each of the train, validation and test parts contain the same amount of instances per class.\n",
    "Consequently, the train input (X_train) is a vector containing 5,567 training input instances (the tweets), the validation input (X_val) and test input (X_test) are vectors each containing 1,856 instances (the tweets). The train output (y_train) is a vector containing 5,567 training output instances (the class labels), the validation output (y_val) and test output (y_test) are vectors each containing 1,856 instances (the class labels). "
   ]
  },
  {
   "cell_type": "code",
   "execution_count": 124,
   "metadata": {},
   "outputs": [],
   "source": [
    "# import packages\n",
    "import pandas as pd\n",
    "import numpy as np"
   ]
  },
  {
   "cell_type": "code",
   "execution_count": 125,
   "metadata": {},
   "outputs": [],
   "source": [
    "# import modules\n",
    "from sklearn.feature_extraction.text import CountVectorizer, TfidfVectorizer\n",
    "from sklearn import naive_bayes\n",
    "from sklearn.svm import SVC\n",
    "from sklearn.model_selection import cross_val_score\n",
    "from sklearn.pipeline import make_pipeline\n",
    "from sklearn.linear_model import SGDClassifier\n",
    "from sklearn.metrics import classification_report, confusion_matrix, plot_confusion_matrix\n",
    "from nltk.tokenize import word_tokenize \n",
    "import matplotlib.pyplot as plt\n",
    "nltk__word_tokenizer = word_tokenize"
   ]
  },
  {
   "cell_type": "code",
   "execution_count": 134,
   "metadata": {},
   "outputs": [],
   "source": [
    "# read in the data\n",
    "df = pd.read_csv(\"corona-tweets.csv\", sep=\",\")"
   ]
  },
  {
   "cell_type": "code",
   "execution_count": 135,
   "metadata": {},
   "outputs": [
    {
     "data": {
      "text/html": [
       "<div>\n",
       "<style scoped>\n",
       "    .dataframe tbody tr th:only-of-type {\n",
       "        vertical-align: middle;\n",
       "    }\n",
       "\n",
       "    .dataframe tbody tr th {\n",
       "        vertical-align: top;\n",
       "    }\n",
       "\n",
       "    .dataframe thead th {\n",
       "        text-align: right;\n",
       "    }\n",
       "</style>\n",
       "<table border=\"1\" class=\"dataframe\">\n",
       "  <thead>\n",
       "    <tr style=\"text-align: right;\">\n",
       "      <th></th>\n",
       "      <th>UserName</th>\n",
       "      <th>ScreenName</th>\n",
       "      <th>Location</th>\n",
       "      <th>TweetAt</th>\n",
       "      <th>OriginalTweet</th>\n",
       "      <th>Sentiment</th>\n",
       "    </tr>\n",
       "  </thead>\n",
       "  <tbody>\n",
       "    <tr>\n",
       "      <th>0</th>\n",
       "      <td>1</td>\n",
       "      <td>44953</td>\n",
       "      <td>NYC</td>\n",
       "      <td>02-03-2020</td>\n",
       "      <td>TRENDING: New Yorkers encounter empty supermar...</td>\n",
       "      <td>Extremely Negative</td>\n",
       "    </tr>\n",
       "    <tr>\n",
       "      <th>1</th>\n",
       "      <td>2</td>\n",
       "      <td>44954</td>\n",
       "      <td>Seattle, WA</td>\n",
       "      <td>02-03-2020</td>\n",
       "      <td>When I couldn't find hand sanitizer at Fred Me...</td>\n",
       "      <td>Positive</td>\n",
       "    </tr>\n",
       "    <tr>\n",
       "      <th>2</th>\n",
       "      <td>3</td>\n",
       "      <td>44955</td>\n",
       "      <td>NaN</td>\n",
       "      <td>02-03-2020</td>\n",
       "      <td>Find out how you can protect yourself and love...</td>\n",
       "      <td>Extremely Positive</td>\n",
       "    </tr>\n",
       "    <tr>\n",
       "      <th>3</th>\n",
       "      <td>4</td>\n",
       "      <td>44956</td>\n",
       "      <td>Chicagoland</td>\n",
       "      <td>02-03-2020</td>\n",
       "      <td>#Panic buying hits #NewYork City as anxious sh...</td>\n",
       "      <td>Negative</td>\n",
       "    </tr>\n",
       "    <tr>\n",
       "      <th>4</th>\n",
       "      <td>5</td>\n",
       "      <td>44957</td>\n",
       "      <td>Melbourne, Victoria</td>\n",
       "      <td>03-03-2020</td>\n",
       "      <td>#toiletpaper #dunnypaper #coronavirus #coronav...</td>\n",
       "      <td>Neutral</td>\n",
       "    </tr>\n",
       "  </tbody>\n",
       "</table>\n",
       "</div>"
      ],
      "text/plain": [
       "   UserName  ScreenName             Location     TweetAt  \\\n",
       "0         1       44953                  NYC  02-03-2020   \n",
       "1         2       44954          Seattle, WA  02-03-2020   \n",
       "2         3       44955                  NaN  02-03-2020   \n",
       "3         4       44956          Chicagoland  02-03-2020   \n",
       "4         5       44957  Melbourne, Victoria  03-03-2020   \n",
       "\n",
       "                                       OriginalTweet           Sentiment  \n",
       "0  TRENDING: New Yorkers encounter empty supermar...  Extremely Negative  \n",
       "1  When I couldn't find hand sanitizer at Fred Me...            Positive  \n",
       "2  Find out how you can protect yourself and love...  Extremely Positive  \n",
       "3  #Panic buying hits #NewYork City as anxious sh...            Negative  \n",
       "4  #toiletpaper #dunnypaper #coronavirus #coronav...             Neutral  "
      ]
     },
     "execution_count": 135,
     "metadata": {},
     "output_type": "execute_result"
    }
   ],
   "source": [
    "# inspect\n",
    "df.head()"
   ]
  },
  {
   "cell_type": "code",
   "execution_count": 136,
   "metadata": {},
   "outputs": [
    {
     "data": {
      "text/html": [
       "<div>\n",
       "<style scoped>\n",
       "    .dataframe tbody tr th:only-of-type {\n",
       "        vertical-align: middle;\n",
       "    }\n",
       "\n",
       "    .dataframe tbody tr th {\n",
       "        vertical-align: top;\n",
       "    }\n",
       "\n",
       "    .dataframe thead th {\n",
       "        text-align: right;\n",
       "    }\n",
       "</style>\n",
       "<table border=\"1\" class=\"dataframe\">\n",
       "  <thead>\n",
       "    <tr style=\"text-align: right;\">\n",
       "      <th></th>\n",
       "      <th>UserName</th>\n",
       "      <th>ScreenName</th>\n",
       "      <th>Location</th>\n",
       "      <th>TweetAt</th>\n",
       "      <th>OriginalTweet</th>\n",
       "      <th>Sentiment</th>\n",
       "    </tr>\n",
       "  </thead>\n",
       "  <tbody>\n",
       "    <tr>\n",
       "      <th>41153</th>\n",
       "      <td>44951</td>\n",
       "      <td>89903</td>\n",
       "      <td>Wellington City, New Zealand</td>\n",
       "      <td>14-04-2020</td>\n",
       "      <td>Airline pilots offering to stock supermarket s...</td>\n",
       "      <td>Neutral</td>\n",
       "    </tr>\n",
       "    <tr>\n",
       "      <th>41154</th>\n",
       "      <td>44952</td>\n",
       "      <td>89904</td>\n",
       "      <td>NaN</td>\n",
       "      <td>14-04-2020</td>\n",
       "      <td>Response to complaint not provided citing COVI...</td>\n",
       "      <td>Extremely Negative</td>\n",
       "    </tr>\n",
       "    <tr>\n",
       "      <th>41155</th>\n",
       "      <td>44953</td>\n",
       "      <td>89905</td>\n",
       "      <td>NaN</td>\n",
       "      <td>14-04-2020</td>\n",
       "      <td>You know its getting tough when @KameronWilds...</td>\n",
       "      <td>Positive</td>\n",
       "    </tr>\n",
       "    <tr>\n",
       "      <th>41156</th>\n",
       "      <td>44954</td>\n",
       "      <td>89906</td>\n",
       "      <td>NaN</td>\n",
       "      <td>14-04-2020</td>\n",
       "      <td>Is it wrong that the smell of hand sanitizer i...</td>\n",
       "      <td>Neutral</td>\n",
       "    </tr>\n",
       "    <tr>\n",
       "      <th>41157</th>\n",
       "      <td>44955</td>\n",
       "      <td>89907</td>\n",
       "      <td>i love you so much || he/him</td>\n",
       "      <td>14-04-2020</td>\n",
       "      <td>@TartiiCat Well new/used Rift S are going for ...</td>\n",
       "      <td>Negative</td>\n",
       "    </tr>\n",
       "  </tbody>\n",
       "</table>\n",
       "</div>"
      ],
      "text/plain": [
       "       UserName  ScreenName                      Location     TweetAt  \\\n",
       "41153     44951       89903  Wellington City, New Zealand  14-04-2020   \n",
       "41154     44952       89904                           NaN  14-04-2020   \n",
       "41155     44953       89905                           NaN  14-04-2020   \n",
       "41156     44954       89906                           NaN  14-04-2020   \n",
       "41157     44955       89907  i love you so much || he/him  14-04-2020   \n",
       "\n",
       "                                           OriginalTweet           Sentiment  \n",
       "41153  Airline pilots offering to stock supermarket s...             Neutral  \n",
       "41154  Response to complaint not provided citing COVI...  Extremely Negative  \n",
       "41155  You know its getting tough when @KameronWilds...            Positive  \n",
       "41156  Is it wrong that the smell of hand sanitizer i...             Neutral  \n",
       "41157  @TartiiCat Well new/used Rift S are going for ...            Negative  "
      ]
     },
     "execution_count": 136,
     "metadata": {},
     "output_type": "execute_result"
    }
   ],
   "source": [
    "# inspect\n",
    "df.tail()"
   ]
  },
  {
   "cell_type": "code",
   "execution_count": 137,
   "metadata": {},
   "outputs": [
    {
     "name": "stdout",
     "output_type": "stream",
     "text": [
      "<class 'pandas.core.frame.DataFrame'>\n",
      "RangeIndex: 41158 entries, 0 to 41157\n",
      "Data columns (total 6 columns):\n",
      " #   Column         Non-Null Count  Dtype \n",
      "---  ------         --------------  ----- \n",
      " 0   UserName       41158 non-null  int64 \n",
      " 1   ScreenName     41158 non-null  int64 \n",
      " 2   Location       32492 non-null  object\n",
      " 3   TweetAt        41158 non-null  object\n",
      " 4   OriginalTweet  41158 non-null  object\n",
      " 5   Sentiment      41158 non-null  object\n",
      "dtypes: int64(2), object(4)\n",
      "memory usage: 1.9+ MB\n"
     ]
    }
   ],
   "source": [
    "# inspect\n",
    "df.info()"
   ]
  },
  {
   "cell_type": "code",
   "execution_count": 138,
   "metadata": {},
   "outputs": [
    {
     "data": {
      "text/plain": [
       "UserName            0\n",
       "ScreenName          0\n",
       "Location         8666\n",
       "TweetAt             0\n",
       "OriginalTweet       0\n",
       "Sentiment           0\n",
       "dtype: int64"
      ]
     },
     "execution_count": 138,
     "metadata": {},
     "output_type": "execute_result"
    }
   ],
   "source": [
    "# check to see if there are any missing values\n",
    "df.isnull().sum()"
   ]
  },
  {
   "cell_type": "code",
   "execution_count": 139,
   "metadata": {},
   "outputs": [
    {
     "data": {
      "text/plain": [
       "UserName         0\n",
       "ScreenName       0\n",
       "Location         0\n",
       "TweetAt          0\n",
       "OriginalTweet    0\n",
       "Sentiment        0\n",
       "dtype: int64"
      ]
     },
     "execution_count": 139,
     "metadata": {},
     "output_type": "execute_result"
    }
   ],
   "source": [
    "# drop rows containing missing values\n",
    "df = df.dropna()\n",
    "# check to see if it worked\n",
    "df.isnull().sum()"
   ]
  },
  {
   "cell_type": "code",
   "execution_count": 140,
   "metadata": {},
   "outputs": [
    {
     "name": "stdout",
     "output_type": "stream",
     "text": [
      "<class 'pandas.core.frame.DataFrame'>\n",
      "Int64Index: 32492 entries, 0 to 41157\n",
      "Data columns (total 6 columns):\n",
      " #   Column         Non-Null Count  Dtype \n",
      "---  ------         --------------  ----- \n",
      " 0   UserName       32492 non-null  int64 \n",
      " 1   ScreenName     32492 non-null  int64 \n",
      " 2   Location       32492 non-null  object\n",
      " 3   TweetAt        32492 non-null  object\n",
      " 4   OriginalTweet  32492 non-null  object\n",
      " 5   Sentiment      32492 non-null  object\n",
      "dtypes: int64(2), object(4)\n",
      "memory usage: 1.7+ MB\n"
     ]
    }
   ],
   "source": [
    "# check to see what we have left\n",
    "df.info()"
   ]
  },
  {
   "cell_type": "code",
   "execution_count": 141,
   "metadata": {},
   "outputs": [
    {
     "data": {
      "text/plain": [
       "Positive              9024\n",
       "Negative              7800\n",
       "Neutral               6134\n",
       "Extremely Positive    5301\n",
       "Extremely Negative    4233\n",
       "Name: Sentiment, dtype: int64"
      ]
     },
     "execution_count": 141,
     "metadata": {},
     "output_type": "execute_result"
    }
   ],
   "source": [
    "# check to see if the labels are stratified\n",
    "df.Sentiment.value_counts()"
   ]
  },
  {
   "cell_type": "code",
   "execution_count": 142,
   "metadata": {},
   "outputs": [],
   "source": [
    "# merge Extremely Positive and Positive\n",
    "df['Sentiment'] = df.Sentiment.str.replace('Extremely Positive', 'Positive')\n",
    "# merge Extremely Negative and Negative\n",
    "df['Sentiment'] = df.Sentiment.str.replace('Extremely Negative', 'Negative')"
   ]
  },
  {
   "cell_type": "code",
   "execution_count": 143,
   "metadata": {},
   "outputs": [
    {
     "data": {
      "text/plain": [
       "Positive    14325\n",
       "Negative    12033\n",
       "Neutral      6134\n",
       "Name: Sentiment, dtype: int64"
      ]
     },
     "execution_count": 143,
     "metadata": {},
     "output_type": "execute_result"
    }
   ],
   "source": [
    "# check to see if it worked\n",
    "df.Sentiment.value_counts()"
   ]
  },
  {
   "cell_type": "code",
   "execution_count": 144,
   "metadata": {},
   "outputs": [],
   "source": [
    "# take half of the data for computational efficiency by stating frac=0.5\n",
    "# create replicability by random_state=42\n",
    "tweets = df.sample(frac=0.5, random_state=42)"
   ]
  },
  {
   "cell_type": "code",
   "execution_count": 145,
   "metadata": {},
   "outputs": [
    {
     "data": {
      "text/plain": [
       "Positive    7140\n",
       "Negative    6013\n",
       "Neutral     3093\n",
       "Name: Sentiment, dtype: int64"
      ]
     },
     "execution_count": 145,
     "metadata": {},
     "output_type": "execute_result"
    }
   ],
   "source": [
    "# check if they are still correctly stratified\n",
    "tweets.Sentiment.value_counts()"
   ]
  },
  {
   "cell_type": "code",
   "execution_count": 146,
   "metadata": {},
   "outputs": [],
   "source": [
    "# set the value_counts equal to each other again\n",
    "min_number = np.min(tweets.Sentiment.value_counts())\n",
    "tweets = tweets.groupby('Sentiment', group_keys=False).apply(lambda x: x.sample(min_number))"
   ]
  },
  {
   "cell_type": "code",
   "execution_count": 147,
   "metadata": {},
   "outputs": [
    {
     "data": {
      "text/plain": [
       "Positive    3093\n",
       "Negative    3093\n",
       "Neutral     3093\n",
       "Name: Sentiment, dtype: int64"
      ]
     },
     "execution_count": 147,
     "metadata": {},
     "output_type": "execute_result"
    }
   ],
   "source": [
    "# check to see if it worked\n",
    "tweets.Sentiment.value_counts()"
   ]
  },
  {
   "cell_type": "code",
   "execution_count": 148,
   "metadata": {},
   "outputs": [],
   "source": [
    "# divide subset of data into train and test part\n",
    "from sklearn.model_selection import train_test_split\n",
    "\n",
    "X = tweets[\"OriginalTweet\"].values # input feature\n",
    "y = tweets[\"Sentiment\"].values # label"
   ]
  },
  {
   "cell_type": "code",
   "execution_count": 149,
   "metadata": {},
   "outputs": [],
   "source": [
    "X_train, X_test, y_train, y_test = train_test_split(X, y, \n",
    "                                                    test_size = 0.2, # 20% test data\n",
    "                                                    random_state = 42, # replicable results\n",
    "                                                    shuffle = True, # shuffle\n",
    "                                                    stratify = y) # stratify"
   ]
  },
  {
   "cell_type": "code",
   "execution_count": 150,
   "metadata": {},
   "outputs": [],
   "source": [
    "# split up train part into a validation set\n",
    "X_train, X_val, y_train, y_val = train_test_split(X_train, y_train, \n",
    "                                                 test_size = 0.25,\n",
    "                                                 random_state = 42,\n",
    "                                                 shuffle = True, \n",
    "                                                 stratify = y_train)"
   ]
  },
  {
   "cell_type": "code",
   "execution_count": 151,
   "metadata": {},
   "outputs": [
    {
     "data": {
      "text/plain": [
       "((5567,), (1856,), (1856,), (5567,), (1856,), (1856,))"
      ]
     },
     "execution_count": 151,
     "metadata": {},
     "output_type": "execute_result"
    }
   ],
   "source": [
    "# check the shapes of the train and test data)\n",
    "X_train.shape, X_test.shape, X_val.shape, y_train.shape, y_val.shape, y_test.shape"
   ]
  },
  {
   "cell_type": "markdown",
   "metadata": {},
   "source": [
    "We now have: \n",
    "- X_train: originally 80% of input instances from our total dataset. This is what we will use to train the model on the input.\n",
    "    - X_val: 25% of our input training part. This is what we will use to test our model's ability to generalize to unseen datapoints.\n",
    "- y_train: originally 80% of output labels from our total dataset. This is what we will use to train the model on the desired output.\n",
    "    - y_val: 25% of our output training part. This is what we will use to compare the predictions of the model to the desired output.\n",
    "- X_test: 20% of the input instances from our total dataset. This is the part of the data that we will keep apart until the very end, to test our final (best-performing) model on its performance to generalize to unseen data.\n",
    "- y_test: 20% of the output instances from our total dataset. We will keep this part of the data separated until the very end, to compare the model's predictions on X_test to the actual desired output.\n",
    "\n",
    "After we have trained each of the models, we will test its performance with a test set. If we would only have a train and a test set, the test set will eventually become part of the training set if we try it out multiple times and the scores might not be reliable (too optimistic) anymore. Therefore, it is useful to create a validation set. We take 25% of the training set to create a validation set. This is the set that will be used to test each of the models' performance right after training. Only at the end, we will use our test set to assess our best performing model's ability to generalize to unseen data."
   ]
  },
  {
   "cell_type": "markdown",
   "metadata": {},
   "source": [
    "# Pipeline 1. CountVectorizer and SGDClassifier\n",
    "This pipeline includes CountVectorizer with max_features set to 10,000 and the NLTK word tokenizer, as well as the Stochastic Gradient Descent classifier with its default parameters, a log loss function and a random_state. The other default parameters include alpha set to 0.0001, max_iter set to 1000 and l2 penalty. Judging by the classification report, this pipeline performed relatively poorly, obtaining a macro average f1-score of 0.62.  The boxplot of the cross_val_score shows us that the mean macro average f1-score for the cross-validation is around 0.62. Both the classification report and the confusion matrix seem to point toward a slightly better performance on the “Neutral” class."
   ]
  },
  {
   "cell_type": "code",
   "execution_count": 170,
   "metadata": {},
   "outputs": [
    {
     "data": {
      "text/plain": [
       "{'analyzer': 'word',\n",
       " 'binary': False,\n",
       " 'decode_error': 'strict',\n",
       " 'dtype': numpy.int64,\n",
       " 'encoding': 'utf-8',\n",
       " 'input': 'content',\n",
       " 'lowercase': True,\n",
       " 'max_df': 1.0,\n",
       " 'max_features': None,\n",
       " 'min_df': 1,\n",
       " 'ngram_range': (1, 1),\n",
       " 'preprocessor': None,\n",
       " 'stop_words': None,\n",
       " 'strip_accents': None,\n",
       " 'token_pattern': '(?u)\\\\b\\\\w\\\\w+\\\\b',\n",
       " 'tokenizer': None,\n",
       " 'vocabulary': None}"
      ]
     },
     "execution_count": 170,
     "metadata": {},
     "output_type": "execute_result"
    }
   ],
   "source": [
    "# default parameters of CountVectorizer that we might want to optimize\n",
    "CountVectorizer().get_params()"
   ]
  },
  {
   "cell_type": "code",
   "execution_count": 171,
   "metadata": {},
   "outputs": [
    {
     "data": {
      "text/plain": [
       "{'alpha': 0.0001,\n",
       " 'average': False,\n",
       " 'class_weight': None,\n",
       " 'early_stopping': False,\n",
       " 'epsilon': 0.1,\n",
       " 'eta0': 0.0,\n",
       " 'fit_intercept': True,\n",
       " 'l1_ratio': 0.15,\n",
       " 'learning_rate': 'optimal',\n",
       " 'loss': 'hinge',\n",
       " 'max_iter': 1000,\n",
       " 'n_iter_no_change': 5,\n",
       " 'n_jobs': None,\n",
       " 'penalty': 'l2',\n",
       " 'power_t': 0.5,\n",
       " 'random_state': None,\n",
       " 'shuffle': True,\n",
       " 'tol': 0.001,\n",
       " 'validation_fraction': 0.1,\n",
       " 'verbose': 0,\n",
       " 'warm_start': False}"
      ]
     },
     "execution_count": 171,
     "metadata": {},
     "output_type": "execute_result"
    }
   ],
   "source": [
    "# default parameters of SGDClassifier that we might want to optimize.\n",
    "SGDClassifier().get_params()"
   ]
  },
  {
   "cell_type": "code",
   "execution_count": 172,
   "metadata": {},
   "outputs": [],
   "source": [
    "# instantiate a CountVectorizer\n",
    "cvect = CountVectorizer(max_features=10000, # 10,000 most frequent words\n",
    "                        tokenizer = nltk__word_tokenizer) # word tokenizer imported from NLTK\n",
    "                          \n",
    "\n",
    "# instantiate an SGDClassifier with default parameters and log loss function\n",
    "sgdclf = SGDClassifier(loss = 'log', random_state=42)\n",
    "\n",
    "# Instantiate the pipeline\n",
    "pipeline1 = make_pipeline(cvect, sgdclf)"
   ]
  },
  {
   "cell_type": "code",
   "execution_count": 192,
   "metadata": {},
   "outputs": [],
   "source": [
    "#pipeline1.get_params()"
   ]
  },
  {
   "cell_type": "code",
   "execution_count": 174,
   "metadata": {},
   "outputs": [
    {
     "data": {
      "text/plain": [
       "Pipeline(steps=[('countvectorizer',\n",
       "                 CountVectorizer(max_features=10000,\n",
       "                                 tokenizer=<function word_tokenize at 0x7fb13d672dc0>)),\n",
       "                ('sgdclassifier', SGDClassifier(loss='log', random_state=42))])"
      ]
     },
     "execution_count": 174,
     "metadata": {},
     "output_type": "execute_result"
    }
   ],
   "source": [
    "# fit the training data to the pipeline\n",
    "pipeline1.fit(X_train, y_train)"
   ]
  },
  {
   "cell_type": "code",
   "execution_count": 175,
   "metadata": {},
   "outputs": [],
   "source": [
    "# fit the test input to the pipeline to predict the classes on unseen data\n",
    "y_pred1 = pipeline1.predict(X_val)"
   ]
  },
  {
   "cell_type": "code",
   "execution_count": 176,
   "metadata": {},
   "outputs": [
    {
     "name": "stdout",
     "output_type": "stream",
     "text": [
      "              precision    recall  f1-score   support\n",
      "\n",
      "    Negative       0.62      0.65      0.63       619\n",
      "     Neutral       0.60      0.56      0.58       619\n",
      "    Positive       0.64      0.64      0.64       618\n",
      "\n",
      "    accuracy                           0.62      1856\n",
      "   macro avg       0.62      0.62      0.62      1856\n",
      "weighted avg       0.62      0.62      0.62      1856\n",
      "\n"
     ]
    }
   ],
   "source": [
    "print(classification_report(y_val, y_pred1))"
   ]
  },
  {
   "cell_type": "code",
   "execution_count": 35,
   "metadata": {},
   "outputs": [
    {
     "name": "stdout",
     "output_type": "stream",
     "text": [
      "CPU times: user 48.6 ms, sys: 6.53 ms, total: 55.2 ms\n",
      "Wall time: 3.01 s\n"
     ]
    }
   ],
   "source": [
    "%time scores = cross_val_score(estimator=pipeline1, X=X_train, y=y_train, cv=10, scoring='f1_macro', n_jobs=-1)\n"
   ]
  },
  {
   "cell_type": "code",
   "execution_count": 177,
   "metadata": {},
   "outputs": [
    {
     "data": {
      "text/plain": [
       "<AxesSubplot:>"
      ]
     },
     "execution_count": 177,
     "metadata": {},
     "output_type": "execute_result"
    },
    {
     "data": {
      "image/png": "[encoded data removed]",
      "text/plain": [
       "<Figure size 432x288 with 1 Axes>"
      ]
     },
     "metadata": {
      "needs_background": "light"
     },
     "output_type": "display_data"
    }
   ],
   "source": [
    "pd.DataFrame(scores).boxplot()"
   ]
  },
  {
   "cell_type": "code",
   "execution_count": 37,
   "metadata": {},
   "outputs": [
    {
     "data": {
      "image/png": "[encoded data removed]",
      "text/plain": [
       "<Figure size 432x288 with 2 Axes>"
      ]
     },
     "metadata": {
      "needs_background": "light"
     },
     "output_type": "display_data"
    }
   ],
   "source": [
    "fig, ax = plt.subplots()\n",
    "plot_confusion_matrix(pipeline1, \n",
    "                      X_val,\n",
    "                      y_val,\n",
    "                      labels=pipeline1.classes_, \n",
    "                      ax = ax)\n",
    "plt.show()"
   ]
  },
  {
   "cell_type": "markdown",
   "metadata": {},
   "source": [
    "# Pipeline 2. CountVectorizer and Support Vector Machines\n",
    "This pipeline includes the CountVectorizer with max_features set to 10,000 and the NLTK word tokenizer, as well as the Support Vector Machines classifier with its default parameters. These include C set to 1.0, gamma set to ‘scale’, an RBF-kernel (Radial Basis Function) and max_iter set to -1 (no limit). The classification report indicates that this pipeline’s performance is relatively unsatisfying, reaching a macro average f1-score of 0.62. Furthermore, the cross_val_score boxplot estimates the mean macro average f1-score for the cross-validation slightly beneath 0.60. Both the classification report and the confusion matrix show a slightly better performance on the “Neutral” class."
   ]
  },
  {
   "cell_type": "code",
   "execution_count": 99,
   "metadata": {},
   "outputs": [
    {
     "data": {
      "text/plain": [
       "{'C': 1.0,\n",
       " 'break_ties': False,\n",
       " 'cache_size': 200,\n",
       " 'class_weight': None,\n",
       " 'coef0': 0.0,\n",
       " 'decision_function_shape': 'ovr',\n",
       " 'degree': 3,\n",
       " 'gamma': 'scale',\n",
       " 'kernel': 'rbf',\n",
       " 'max_iter': -1,\n",
       " 'probability': False,\n",
       " 'random_state': None,\n",
       " 'shrinking': True,\n",
       " 'tol': 0.001,\n",
       " 'verbose': False}"
      ]
     },
     "execution_count": 99,
     "metadata": {},
     "output_type": "execute_result"
    }
   ],
   "source": [
    "SVC().get_params()"
   ]
  },
  {
   "cell_type": "code",
   "execution_count": 39,
   "metadata": {},
   "outputs": [],
   "source": [
    "cvect = CountVectorizer(max_features = 10000, \n",
    "                          tokenizer = nltk__word_tokenizer)\n",
    "\n",
    "svm = SVC(random_state=42)\n",
    "\n",
    "pipeline2 = make_pipeline(cvect, svm)"
   ]
  },
  {
   "cell_type": "code",
   "execution_count": 40,
   "metadata": {},
   "outputs": [
    {
     "data": {
      "text/plain": [
       "Pipeline(steps=[('countvectorizer',\n",
       "                 CountVectorizer(max_features=10000,\n",
       "                                 tokenizer=<function word_tokenize at 0x7fb13d672dc0>)),\n",
       "                ('svc', SVC(random_state=42))])"
      ]
     },
     "execution_count": 40,
     "metadata": {},
     "output_type": "execute_result"
    }
   ],
   "source": [
    "pipeline2.fit(X_train, y_train)"
   ]
  },
  {
   "cell_type": "code",
   "execution_count": 41,
   "metadata": {},
   "outputs": [],
   "source": [
    "y_pred2 = pipeline2.predict(X_val)"
   ]
  },
  {
   "cell_type": "code",
   "execution_count": 42,
   "metadata": {},
   "outputs": [
    {
     "name": "stdout",
     "output_type": "stream",
     "text": [
      "              precision    recall  f1-score   support\n",
      "\n",
      "    Negative       0.63      0.57      0.60       619\n",
      "     Neutral       0.61      0.70      0.65       619\n",
      "    Positive       0.63      0.59      0.61       618\n",
      "\n",
      "    accuracy                           0.62      1856\n",
      "   macro avg       0.62      0.62      0.62      1856\n",
      "weighted avg       0.62      0.62      0.62      1856\n",
      "\n"
     ]
    }
   ],
   "source": [
    "print(classification_report(y_val, y_pred2))"
   ]
  },
  {
   "cell_type": "code",
   "execution_count": 45,
   "metadata": {},
   "outputs": [
    {
     "name": "stdout",
     "output_type": "stream",
     "text": [
      "CPU times: user 59.1 ms, sys: 23.1 ms, total: 82.2 ms\n",
      "Wall time: 13.6 s\n"
     ]
    }
   ],
   "source": [
    "%time scores2 = cross_val_score(estimator=pipeline2, X=X_train, y=y_train, cv=10, scoring='f1_macro', n_jobs=-1)"
   ]
  },
  {
   "cell_type": "code",
   "execution_count": 46,
   "metadata": {},
   "outputs": [
    {
     "data": {
      "text/plain": [
       "<AxesSubplot:>"
      ]
     },
     "execution_count": 46,
     "metadata": {},
     "output_type": "execute_result"
    },
    {
     "data": {
      "image/png": "[encoded data removed]",
      "text/plain": [
       "<Figure size 432x288 with 1 Axes>"
      ]
     },
     "metadata": {
      "needs_background": "light"
     },
     "output_type": "display_data"
    }
   ],
   "source": [
    "pd.DataFrame(scores2).boxplot()"
   ]
  },
  {
   "cell_type": "code",
   "execution_count": 47,
   "metadata": {},
   "outputs": [
    {
     "data": {
      "image/png": "[encoded data removed]",
      "text/plain": [
       "<Figure size 432x288 with 2 Axes>"
      ]
     },
     "metadata": {
      "needs_background": "light"
     },
     "output_type": "display_data"
    }
   ],
   "source": [
    "fig, ax = plt.subplots()\n",
    "plot_confusion_matrix(pipeline2, \n",
    "                      X_val,\n",
    "                      y_val,\n",
    "                      labels=pipeline2.classes_, \n",
    "                      ax = ax)\n",
    "plt.show()"
   ]
  },
  {
   "cell_type": "markdown",
   "metadata": {},
   "source": [
    "# Model 3. Pipeline for CountVectorizer and Naive Bayes Classifier\n",
    "This pipeline combines the CountVectorizer with max_features set to 10,000 and the NLTK word tokenizer and a multinomial Naïve Bayes classifier with its default parameters, which has alpha set to 1.0. This pipeline reaches a macro average f1-score of 0.63 in the classification report, which indicates that it performs slightly better than the second pipeline, without outperforming the first one. The cross_val_score boxplot indicates that the mean macro average f1-score for the cross-validation is slightly above 0.60. The classification report as well as the confusion matrix show a slightly better performance on the “Negative” class."
   ]
  },
  {
   "cell_type": "code",
   "execution_count": 50,
   "metadata": {},
   "outputs": [],
   "source": [
    "cvect = CountVectorizer(max_features = 10000, \n",
    "                          tokenizer = nltk__word_tokenizer)\n",
    "\n",
    "nbc = naive_bayes.MultinomialNB()\n",
    "\n",
    "pipeline3 = make_pipeline(cvect, nbc)"
   ]
  },
  {
   "cell_type": "code",
   "execution_count": 100,
   "metadata": {},
   "outputs": [
    {
     "data": {
      "text/plain": [
       "{'alpha': 1.0, 'class_prior': None, 'fit_prior': True}"
      ]
     },
     "execution_count": 100,
     "metadata": {},
     "output_type": "execute_result"
    }
   ],
   "source": [
    "naive_bayes.MultinomialNB().get_params()"
   ]
  },
  {
   "cell_type": "code",
   "execution_count": 51,
   "metadata": {},
   "outputs": [
    {
     "data": {
      "text/plain": [
       "Pipeline(steps=[('countvectorizer',\n",
       "                 CountVectorizer(max_features=10000,\n",
       "                                 tokenizer=<function word_tokenize at 0x7fb13d672dc0>)),\n",
       "                ('multinomialnb', MultinomialNB())])"
      ]
     },
     "execution_count": 51,
     "metadata": {},
     "output_type": "execute_result"
    }
   ],
   "source": [
    "pipeline3.fit(X_train, y_train)"
   ]
  },
  {
   "cell_type": "code",
   "execution_count": 53,
   "metadata": {},
   "outputs": [],
   "source": [
    "y_pred3 = pipeline3.predict(X_val)"
   ]
  },
  {
   "cell_type": "code",
   "execution_count": 54,
   "metadata": {},
   "outputs": [
    {
     "name": "stdout",
     "output_type": "stream",
     "text": [
      "              precision    recall  f1-score   support\n",
      "\n",
      "    Negative       0.64      0.68      0.66       619\n",
      "     Neutral       0.66      0.57      0.61       619\n",
      "    Positive       0.59      0.64      0.61       618\n",
      "\n",
      "    accuracy                           0.63      1856\n",
      "   macro avg       0.63      0.63      0.63      1856\n",
      "weighted avg       0.63      0.63      0.63      1856\n",
      "\n"
     ]
    }
   ],
   "source": [
    "print(classification_report(y_val, y_pred3))"
   ]
  },
  {
   "cell_type": "code",
   "execution_count": 56,
   "metadata": {},
   "outputs": [
    {
     "name": "stdout",
     "output_type": "stream",
     "text": [
      "CPU times: user 45.6 ms, sys: 8.44 ms, total: 54.1 ms\n",
      "Wall time: 2.53 s\n"
     ]
    }
   ],
   "source": [
    "%time scores3 = cross_val_score(estimator=pipeline3, X=X_train, y=y_train, cv=10, scoring='f1_macro', n_jobs=-1)\n"
   ]
  },
  {
   "cell_type": "code",
   "execution_count": 57,
   "metadata": {},
   "outputs": [
    {
     "data": {
      "text/plain": [
       "<AxesSubplot:>"
      ]
     },
     "execution_count": 57,
     "metadata": {},
     "output_type": "execute_result"
    },
    {
     "data": {
      "image/png": "[encoded data removed]",
      "text/plain": [
       "<Figure size 432x288 with 1 Axes>"
      ]
     },
     "metadata": {
      "needs_background": "light"
     },
     "output_type": "display_data"
    }
   ],
   "source": [
    "pd.DataFrame(scores3).boxplot()"
   ]
  },
  {
   "cell_type": "code",
   "execution_count": 58,
   "metadata": {},
   "outputs": [
    {
     "data": {
      "image/png": "[encoded data removed]",
      "text/plain": [
       "<Figure size 432x288 with 2 Axes>"
      ]
     },
     "metadata": {
      "needs_background": "light"
     },
     "output_type": "display_data"
    }
   ],
   "source": [
    "fig, ax = plt.subplots()\n",
    "plot_confusion_matrix(pipeline3, \n",
    "                      X_val,\n",
    "                      y_val,\n",
    "                      labels=pipeline3.classes_, \n",
    "                      ax = ax)\n",
    "plt.show()"
   ]
  },
  {
   "cell_type": "markdown",
   "metadata": {},
   "source": [
    "# Pipeline 4. TF-IDF Vectorizer and SGDClassifier\n",
    "This pipeline includes the Tf-Idf Vectorizer with max_features set to 10,000 and the NLTK word tokenizer, as well as the Stochastic Gradient Descent classifier with its default parameters, log loss function and a random_state. The default parameters of the SGDClassifier include alpha set to 0.0001, max_iter set to 1000 and l2 penalty. The classification report points toward a macro average f1 score of 0.68, while the cross_val_score boxplot estimates a mean macro average f1-score for the cross-validation. It seems that there is a more equal distribution across the predictions for each of the classes in this pipeline."
   ]
  },
  {
   "cell_type": "code",
   "execution_count": 106,
   "metadata": {},
   "outputs": [
    {
     "data": {
      "text/plain": [
       "{'analyzer': 'word',\n",
       " 'binary': False,\n",
       " 'decode_error': 'strict',\n",
       " 'dtype': numpy.float64,\n",
       " 'encoding': 'utf-8',\n",
       " 'input': 'content',\n",
       " 'lowercase': True,\n",
       " 'max_df': 1.0,\n",
       " 'max_features': None,\n",
       " 'min_df': 1,\n",
       " 'ngram_range': (1, 1),\n",
       " 'norm': 'l2',\n",
       " 'preprocessor': None,\n",
       " 'smooth_idf': True,\n",
       " 'stop_words': None,\n",
       " 'strip_accents': None,\n",
       " 'sublinear_tf': False,\n",
       " 'token_pattern': '(?u)\\\\b\\\\w\\\\w+\\\\b',\n",
       " 'tokenizer': None,\n",
       " 'use_idf': True,\n",
       " 'vocabulary': None}"
      ]
     },
     "execution_count": 106,
     "metadata": {},
     "output_type": "execute_result"
    }
   ],
   "source": [
    "TfidfVectorizer().get_params()"
   ]
  },
  {
   "cell_type": "code",
   "execution_count": 107,
   "metadata": {},
   "outputs": [
    {
     "data": {
      "text/plain": [
       "{'alpha': 0.0001,\n",
       " 'average': False,\n",
       " 'class_weight': None,\n",
       " 'early_stopping': False,\n",
       " 'epsilon': 0.1,\n",
       " 'eta0': 0.0,\n",
       " 'fit_intercept': True,\n",
       " 'l1_ratio': 0.15,\n",
       " 'learning_rate': 'optimal',\n",
       " 'loss': 'hinge',\n",
       " 'max_iter': 1000,\n",
       " 'n_iter_no_change': 5,\n",
       " 'n_jobs': None,\n",
       " 'penalty': 'l2',\n",
       " 'power_t': 0.5,\n",
       " 'random_state': None,\n",
       " 'shuffle': True,\n",
       " 'tol': 0.001,\n",
       " 'validation_fraction': 0.1,\n",
       " 'verbose': 0,\n",
       " 'warm_start': False}"
      ]
     },
     "execution_count": 107,
     "metadata": {},
     "output_type": "execute_result"
    }
   ],
   "source": [
    "SGDClassifier().get_params()"
   ]
  },
  {
   "cell_type": "code",
   "execution_count": 178,
   "metadata": {},
   "outputs": [],
   "source": [
    "tvect = TfidfVectorizer(max_features=10000, \n",
    "                          tokenizer = nltk__word_tokenizer)\n",
    "\n",
    "# sgdclassifier with default parameters and log loss function\n",
    "sgdclf = SGDClassifier(loss = 'log', random_state = 42) \n",
    "\n",
    "pipeline4 = make_pipeline(tvect, sgdclf)"
   ]
  },
  {
   "cell_type": "code",
   "execution_count": 179,
   "metadata": {},
   "outputs": [
    {
     "data": {
      "text/plain": [
       "Pipeline(steps=[('tfidfvectorizer',\n",
       "                 TfidfVectorizer(max_features=10000,\n",
       "                                 tokenizer=<function word_tokenize at 0x7fb13d672dc0>)),\n",
       "                ('sgdclassifier', SGDClassifier(loss='log', random_state=42))])"
      ]
     },
     "execution_count": 179,
     "metadata": {},
     "output_type": "execute_result"
    }
   ],
   "source": [
    "pipeline4.fit(X_train, y_train)"
   ]
  },
  {
   "cell_type": "code",
   "execution_count": 180,
   "metadata": {},
   "outputs": [],
   "source": [
    "y_pred4 = pipeline4.predict(X_val)"
   ]
  },
  {
   "cell_type": "code",
   "execution_count": 181,
   "metadata": {},
   "outputs": [
    {
     "name": "stdout",
     "output_type": "stream",
     "text": [
      "              precision    recall  f1-score   support\n",
      "\n",
      "    Negative       0.70      0.62      0.66       619\n",
      "     Neutral       0.65      0.75      0.69       619\n",
      "    Positive       0.69      0.66      0.67       618\n",
      "\n",
      "    accuracy                           0.68      1856\n",
      "   macro avg       0.68      0.68      0.68      1856\n",
      "weighted avg       0.68      0.68      0.68      1856\n",
      "\n"
     ]
    }
   ],
   "source": [
    "print(classification_report(y_val, y_pred4))"
   ]
  },
  {
   "cell_type": "code",
   "execution_count": 182,
   "metadata": {},
   "outputs": [
    {
     "name": "stdout",
     "output_type": "stream",
     "text": [
      "CPU times: user 87.1 ms, sys: 93.4 ms, total: 180 ms\n",
      "Wall time: 4.24 s\n"
     ]
    }
   ],
   "source": [
    "%time scores4 = cross_val_score(estimator=pipeline4, X=X_train, y=y_train, cv=10, scoring='f1_macro', n_jobs=-1)\n"
   ]
  },
  {
   "cell_type": "code",
   "execution_count": 183,
   "metadata": {},
   "outputs": [
    {
     "data": {
      "text/plain": [
       "<AxesSubplot:>"
      ]
     },
     "execution_count": 183,
     "metadata": {},
     "output_type": "execute_result"
    },
    {
     "data": {
      "image/png": "[encoded data removed]",
      "text/plain": [
       "<Figure size 432x288 with 1 Axes>"
      ]
     },
     "metadata": {
      "needs_background": "light"
     },
     "output_type": "display_data"
    }
   ],
   "source": [
    "pd.DataFrame(scores4).boxplot()"
   ]
  },
  {
   "cell_type": "code",
   "execution_count": 72,
   "metadata": {},
   "outputs": [
    {
     "data": {
      "image/png": "[encoded data removed]",
      "text/plain": [
       "<Figure size 432x288 with 2 Axes>"
      ]
     },
     "metadata": {
      "needs_background": "light"
     },
     "output_type": "display_data"
    }
   ],
   "source": [
    "fig, ax = plt.subplots()\n",
    "plot_confusion_matrix(pipeline4, \n",
    "                      X_val,\n",
    "                      y_val,\n",
    "                      labels=pipeline4.classes_, \n",
    "                      ax = ax)\n",
    "plt.show()"
   ]
  },
  {
   "cell_type": "markdown",
   "metadata": {},
   "source": [
    "# Pipeline 5. TF-IDF Vectorizer and Support Vector Machine\n",
    "In this pipeline, we combine the Tf-Idf Vectorizer with max_features set to 10,000 and the NLTK word tokenizer, as well as the Support Vector Machines classifier with its default parameters, which include C set to 1.0, gamma set to ‘scale’, an RBF-kernel (Radial Basis Function) and max_iter set to -1 (no limit). Reaching a macro average f1-score of 0.66, this model is rather mediocre. The boxplot for the cross-validation confirms this by indicating a mean macro average f1-score of around 0.64. The confusion matrix indicates that the model performs slightly better on the “Neutral” class."
   ]
  },
  {
   "cell_type": "code",
   "execution_count": 73,
   "metadata": {},
   "outputs": [
    {
     "data": {
      "text/plain": [
       "{'analyzer': 'word',\n",
       " 'binary': False,\n",
       " 'decode_error': 'strict',\n",
       " 'dtype': numpy.float64,\n",
       " 'encoding': 'utf-8',\n",
       " 'input': 'content',\n",
       " 'lowercase': True,\n",
       " 'max_df': 1.0,\n",
       " 'max_features': None,\n",
       " 'min_df': 1,\n",
       " 'ngram_range': (1, 1),\n",
       " 'norm': 'l2',\n",
       " 'preprocessor': None,\n",
       " 'smooth_idf': True,\n",
       " 'stop_words': None,\n",
       " 'strip_accents': None,\n",
       " 'sublinear_tf': False,\n",
       " 'token_pattern': '(?u)\\\\b\\\\w\\\\w+\\\\b',\n",
       " 'tokenizer': None,\n",
       " 'use_idf': True,\n",
       " 'vocabulary': None}"
      ]
     },
     "execution_count": 73,
     "metadata": {},
     "output_type": "execute_result"
    }
   ],
   "source": [
    "TfidfVectorizer().get_params()"
   ]
  },
  {
   "cell_type": "code",
   "execution_count": 74,
   "metadata": {},
   "outputs": [],
   "source": [
    "tfidf = TfidfVectorizer(max_features = 10000, \n",
    "                        tokenizer = nltk__word_tokenizer)\n",
    "\n",
    "svm = SVC(random_state=42) # with default parameters: rbf, C=1.0, gamma='scale'\n",
    "\n",
    "pipeline5 = make_pipeline(tfidf, svm)"
   ]
  },
  {
   "cell_type": "code",
   "execution_count": 75,
   "metadata": {},
   "outputs": [
    {
     "data": {
      "text/plain": [
       "Pipeline(steps=[('tfidfvectorizer',\n",
       "                 TfidfVectorizer(max_features=10000,\n",
       "                                 tokenizer=<function word_tokenize at 0x7fb13d672dc0>)),\n",
       "                ('svc', SVC(random_state=42))])"
      ]
     },
     "execution_count": 75,
     "metadata": {},
     "output_type": "execute_result"
    }
   ],
   "source": [
    "pipeline5.fit(X_train, y_train)"
   ]
  },
  {
   "cell_type": "code",
   "execution_count": 76,
   "metadata": {},
   "outputs": [],
   "source": [
    "y_pred5 = pipeline5.predict(X_val)"
   ]
  },
  {
   "cell_type": "code",
   "execution_count": 77,
   "metadata": {},
   "outputs": [
    {
     "name": "stdout",
     "output_type": "stream",
     "text": [
      "              precision    recall  f1-score   support\n",
      "\n",
      "    Negative       0.66      0.65      0.66       619\n",
      "     Neutral       0.66      0.68      0.67       619\n",
      "    Positive       0.68      0.66      0.67       618\n",
      "\n",
      "    accuracy                           0.66      1856\n",
      "   macro avg       0.67      0.66      0.66      1856\n",
      "weighted avg       0.67      0.66      0.66      1856\n",
      "\n"
     ]
    }
   ],
   "source": [
    "print(classification_report(y_val, y_pred5))"
   ]
  },
  {
   "cell_type": "code",
   "execution_count": 79,
   "metadata": {},
   "outputs": [
    {
     "name": "stdout",
     "output_type": "stream",
     "text": [
      "CPU times: user 45.2 ms, sys: 5.17 ms, total: 50.3 ms\n",
      "Wall time: 15.8 s\n"
     ]
    }
   ],
   "source": [
    "%time scores5 = cross_val_score(estimator=pipeline5, X=X_train, y=y_train, cv=10, scoring='f1_macro', n_jobs=-1)"
   ]
  },
  {
   "cell_type": "code",
   "execution_count": 80,
   "metadata": {},
   "outputs": [
    {
     "data": {
      "text/plain": [
       "<AxesSubplot:>"
      ]
     },
     "execution_count": 80,
     "metadata": {},
     "output_type": "execute_result"
    },
    {
     "data": {
      "image/png": "[encoded data removed]",
      "text/plain": [
       "<Figure size 432x288 with 1 Axes>"
      ]
     },
     "metadata": {
      "needs_background": "light"
     },
     "output_type": "display_data"
    }
   ],
   "source": [
    "pd.DataFrame(scores5).boxplot()"
   ]
  },
  {
   "cell_type": "code",
   "execution_count": 81,
   "metadata": {},
   "outputs": [
    {
     "data": {
      "image/png": "[encoded data removed]",
      "text/plain": [
       "<Figure size 432x288 with 2 Axes>"
      ]
     },
     "metadata": {
      "needs_background": "light"
     },
     "output_type": "display_data"
    }
   ],
   "source": [
    "fig, ax = plt.subplots()\n",
    "plot_confusion_matrix(pipeline5, \n",
    "                      X_val,\n",
    "                      y_val,\n",
    "                      labels=pipeline5.classes_, \n",
    "                      ax = ax)\n",
    "plt.show()"
   ]
  },
  {
   "cell_type": "markdown",
   "metadata": {},
   "source": [
    "# Pipeline 6. TF-IDF Vectorizer and multinomial Naive Bayes Classifier\n",
    "In this pipeline, we include the Tf-Idf Vectorizer with max_features set to 10,000 and the NLTK word tokenizer, together with a multinomial Naïve Bayes classifier with its default parameters. This classifier does not support the use of random_state (replicability), so it is not instantiated. Judging by the classification report, this pipeline also covers mediocre ground, reaching a macro average f1-score of 0.63. Even though this does not outperform the pipeline with CountVectorizer and multinomial Naïve Bayes classifier, the cross-validation boxplot for this pipeline indicates a mean macro average f1-score of around 0.63 (compared to 0.60 for the pipeline with CountVectorizer and NBC). The confusion matrix indicates that this pipeline slightly underperforms on the “Neutral” class."
   ]
  },
  {
   "cell_type": "code",
   "execution_count": 82,
   "metadata": {},
   "outputs": [
    {
     "data": {
      "text/plain": [
       "{'alpha': 1.0, 'class_prior': None, 'fit_prior': True}"
      ]
     },
     "execution_count": 82,
     "metadata": {},
     "output_type": "execute_result"
    }
   ],
   "source": [
    "naive_bayes.MultinomialNB().get_params()"
   ]
  },
  {
   "cell_type": "code",
   "execution_count": 83,
   "metadata": {},
   "outputs": [],
   "source": [
    "tvect = TfidfVectorizer(max_features=10000, \n",
    "                          tokenizer = nltk__word_tokenizer)\n",
    "\n",
    "nbc = naive_bayes.MultinomialNB()\n",
    "\n",
    "pipeline6 = make_pipeline(tvect, nbc)"
   ]
  },
  {
   "cell_type": "code",
   "execution_count": 84,
   "metadata": {},
   "outputs": [
    {
     "data": {
      "text/plain": [
       "Pipeline(steps=[('tfidfvectorizer',\n",
       "                 TfidfVectorizer(max_features=10000,\n",
       "                                 tokenizer=<function word_tokenize at 0x7fb13d672dc0>)),\n",
       "                ('multinomialnb', MultinomialNB())])"
      ]
     },
     "execution_count": 84,
     "metadata": {},
     "output_type": "execute_result"
    }
   ],
   "source": [
    "pipeline6.fit(X_train, y_train)"
   ]
  },
  {
   "cell_type": "code",
   "execution_count": 85,
   "metadata": {},
   "outputs": [],
   "source": [
    "y_pred6 = pipeline6.predict(X_val)"
   ]
  },
  {
   "cell_type": "code",
   "execution_count": 86,
   "metadata": {},
   "outputs": [
    {
     "name": "stdout",
     "output_type": "stream",
     "text": [
      "              precision    recall  f1-score   support\n",
      "\n",
      "    Negative       0.64      0.70      0.67       619\n",
      "     Neutral       0.71      0.50      0.59       619\n",
      "    Positive       0.59      0.71      0.64       618\n",
      "\n",
      "    accuracy                           0.64      1856\n",
      "   macro avg       0.65      0.64      0.63      1856\n",
      "weighted avg       0.65      0.64      0.63      1856\n",
      "\n"
     ]
    }
   ],
   "source": [
    "print(classification_report(y_val, y_pred6))"
   ]
  },
  {
   "cell_type": "code",
   "execution_count": 92,
   "metadata": {},
   "outputs": [
    {
     "name": "stdout",
     "output_type": "stream",
     "text": [
      "CPU times: user 45.8 ms, sys: 6.39 ms, total: 52.2 ms\n",
      "Wall time: 2.99 s\n"
     ]
    }
   ],
   "source": [
    "%time scores6 = cross_val_score(estimator=pipeline6, X=X_train, y=y_train, cv=10, scoring='f1_macro', n_jobs=-1)"
   ]
  },
  {
   "cell_type": "code",
   "execution_count": 93,
   "metadata": {},
   "outputs": [
    {
     "data": {
      "text/plain": [
       "<AxesSubplot:>"
      ]
     },
     "execution_count": 93,
     "metadata": {},
     "output_type": "execute_result"
    },
    {
     "data": {
      "image/png": "[encoded data removed]",
      "text/plain": [
       "<Figure size 432x288 with 1 Axes>"
      ]
     },
     "metadata": {
      "needs_background": "light"
     },
     "output_type": "display_data"
    }
   ],
   "source": [
    "pd.DataFrame(scores6).boxplot()"
   ]
  },
  {
   "cell_type": "code",
   "execution_count": 94,
   "metadata": {},
   "outputs": [
    {
     "data": {
      "image/png": "[encoded data removed]",
      "text/plain": [
       "<Figure size 432x288 with 2 Axes>"
      ]
     },
     "metadata": {
      "needs_background": "light"
     },
     "output_type": "display_data"
    }
   ],
   "source": [
    "fig, ax = plt.subplots()\n",
    "plot_confusion_matrix(pipeline6, \n",
    "                      X_val,\n",
    "                      y_val,\n",
    "                      labels=pipeline6.classes_, \n",
    "                      ax = ax)\n",
    "plt.show()"
   ]
  },
  {
   "cell_type": "markdown",
   "metadata": {},
   "source": [
    "# Pipeline 7. Final assessment of pipeline 4 on the test set\n",
    "\n",
    "In this part, we retrain pipeline 4 on the training data set and assess its performance onto the test set that has been kept apart until now. Pipeline 4 was the best performing model, reaching a macro average f1-score of 0.68, containing the Tf-Idf Vectorizer and the Stochastic Gradient Descent classifier. The pipeline seems to perform slightly worse on the unseen test set, reaching a macro average f1-score of 0.67, which is also confirmed by the mean cross-validation macro average f1-score in the boxplot. As was the case with pipeline 4, this pipeline also slightly performs better on the “Neutral” class."
   ]
  },
  {
   "cell_type": "code",
   "execution_count": 185,
   "metadata": {},
   "outputs": [
    {
     "data": {
      "text/plain": [
       "{'memory': None,\n",
       " 'steps': [('tfidfvectorizer',\n",
       "   TfidfVectorizer(max_features=10000,\n",
       "                   tokenizer=<function word_tokenize at 0x7fb13d672dc0>)),\n",
       "  ('sgdclassifier', SGDClassifier(loss='log', random_state=42))],\n",
       " 'verbose': False,\n",
       " 'tfidfvectorizer': TfidfVectorizer(max_features=10000,\n",
       "                 tokenizer=<function word_tokenize at 0x7fb13d672dc0>),\n",
       " 'sgdclassifier': SGDClassifier(loss='log', random_state=42),\n",
       " 'tfidfvectorizer__analyzer': 'word',\n",
       " 'tfidfvectorizer__binary': False,\n",
       " 'tfidfvectorizer__decode_error': 'strict',\n",
       " 'tfidfvectorizer__dtype': numpy.float64,\n",
       " 'tfidfvectorizer__encoding': 'utf-8',\n",
       " 'tfidfvectorizer__input': 'content',\n",
       " 'tfidfvectorizer__lowercase': True,\n",
       " 'tfidfvectorizer__max_df': 1.0,\n",
       " 'tfidfvectorizer__max_features': 10000,\n",
       " 'tfidfvectorizer__min_df': 1,\n",
       " 'tfidfvectorizer__ngram_range': (1, 1),\n",
       " 'tfidfvectorizer__norm': 'l2',\n",
       " 'tfidfvectorizer__preprocessor': None,\n",
       " 'tfidfvectorizer__smooth_idf': True,\n",
       " 'tfidfvectorizer__stop_words': None,\n",
       " 'tfidfvectorizer__strip_accents': None,\n",
       " 'tfidfvectorizer__sublinear_tf': False,\n",
       " 'tfidfvectorizer__token_pattern': '(?u)\\\\b\\\\w\\\\w+\\\\b',\n",
       " 'tfidfvectorizer__tokenizer': <function nltk.tokenize.word_tokenize(text, language='english', preserve_line=False)>,\n",
       " 'tfidfvectorizer__use_idf': True,\n",
       " 'tfidfvectorizer__vocabulary': None,\n",
       " 'sgdclassifier__alpha': 0.0001,\n",
       " 'sgdclassifier__average': False,\n",
       " 'sgdclassifier__class_weight': None,\n",
       " 'sgdclassifier__early_stopping': False,\n",
       " 'sgdclassifier__epsilon': 0.1,\n",
       " 'sgdclassifier__eta0': 0.0,\n",
       " 'sgdclassifier__fit_intercept': True,\n",
       " 'sgdclassifier__l1_ratio': 0.15,\n",
       " 'sgdclassifier__learning_rate': 'optimal',\n",
       " 'sgdclassifier__loss': 'log',\n",
       " 'sgdclassifier__max_iter': 1000,\n",
       " 'sgdclassifier__n_iter_no_change': 5,\n",
       " 'sgdclassifier__n_jobs': None,\n",
       " 'sgdclassifier__penalty': 'l2',\n",
       " 'sgdclassifier__power_t': 0.5,\n",
       " 'sgdclassifier__random_state': 42,\n",
       " 'sgdclassifier__shuffle': True,\n",
       " 'sgdclassifier__tol': 0.001,\n",
       " 'sgdclassifier__validation_fraction': 0.1,\n",
       " 'sgdclassifier__verbose': 0,\n",
       " 'sgdclassifier__warm_start': False}"
      ]
     },
     "execution_count": 185,
     "metadata": {},
     "output_type": "execute_result"
    }
   ],
   "source": [
    "pipeline4.get_params()"
   ]
  },
  {
   "cell_type": "code",
   "execution_count": 186,
   "metadata": {},
   "outputs": [
    {
     "data": {
      "text/plain": [
       "Pipeline(steps=[('tfidfvectorizer',\n",
       "                 TfidfVectorizer(max_features=10000,\n",
       "                                 tokenizer=<function word_tokenize at 0x7fb13d672dc0>)),\n",
       "                ('sgdclassifier', SGDClassifier(loss='log', random_state=42))])"
      ]
     },
     "execution_count": 186,
     "metadata": {},
     "output_type": "execute_result"
    }
   ],
   "source": [
    "pipeline4.fit(X_train, y_train)"
   ]
  },
  {
   "cell_type": "code",
   "execution_count": 187,
   "metadata": {},
   "outputs": [],
   "source": [
    "y_pred7 = pipeline4.predict(X_test)"
   ]
  },
  {
   "cell_type": "code",
   "execution_count": 188,
   "metadata": {},
   "outputs": [
    {
     "name": "stdout",
     "output_type": "stream",
     "text": [
      "              precision    recall  f1-score   support\n",
      "\n",
      "    Negative       0.70      0.64      0.67       618\n",
      "     Neutral       0.63      0.72      0.67       619\n",
      "    Positive       0.69      0.65      0.67       619\n",
      "\n",
      "    accuracy                           0.67      1856\n",
      "   macro avg       0.67      0.67      0.67      1856\n",
      "weighted avg       0.67      0.67      0.67      1856\n",
      "\n"
     ]
    }
   ],
   "source": [
    "print(classification_report(y_test, y_pred7))"
   ]
  },
  {
   "cell_type": "code",
   "execution_count": 189,
   "metadata": {},
   "outputs": [
    {
     "name": "stdout",
     "output_type": "stream",
     "text": [
      "CPU times: user 44.4 ms, sys: 5.8 ms, total: 50.2 ms\n",
      "Wall time: 3.08 s\n"
     ]
    }
   ],
   "source": [
    "%time scores7 = cross_val_score(estimator=pipeline4, X=X_train, y=y_train, cv=10, scoring='f1_macro', n_jobs=-1)"
   ]
  },
  {
   "cell_type": "code",
   "execution_count": 190,
   "metadata": {},
   "outputs": [
    {
     "data": {
      "text/plain": [
       "<AxesSubplot:>"
      ]
     },
     "execution_count": 190,
     "metadata": {},
     "output_type": "execute_result"
    },
    {
     "data": {
      "image/png": "[encoded data removed]",
      "text/plain": [
       "<Figure size 432x288 with 1 Axes>"
      ]
     },
     "metadata": {
      "needs_background": "light"
     },
     "output_type": "display_data"
    }
   ],
   "source": [
    "pd.DataFrame(scores7).boxplot()"
   ]
  },
  {
   "cell_type": "code",
   "execution_count": 191,
   "metadata": {},
   "outputs": [
    {
     "data": {
      "image/png": "[encoded data removed]",
      "text/plain": [
       "<Figure size 432x288 with 2 Axes>"
      ]
     },
     "metadata": {
      "needs_background": "light"
     },
     "output_type": "display_data"
    }
   ],
   "source": [
    "fig, ax = plt.subplots()\n",
    "plot_confusion_matrix(pipeline4, \n",
    "                      X_test,\n",
    "                      y_test,\n",
    "                      labels=pipeline4.classes_, \n",
    "                      ax = ax)\n",
    "plt.show()"
   ]
  },
  {
   "cell_type": "markdown",
   "metadata": {},
   "source": [
    "# Conclusion\n",
    "In this paper, we investigated six pipelines that combined each of the selected vectorizers (CountVectorizer and Tf-Idf Vectorizer) with each of the selected classifiers (Stochastic Gradient Descent Classifier, Support Vector Machine and multinomial Naïve Bayes classifier). Even though all of the performances are comparable and within a similar range of 0.60 to 0.68 in macro average f1-score, pipeline 4 was the best performing one. This pipeline consisted of the Tf-Idf Vectorizer (with max_features set to 10,000 and the NLTK word tokenizer) and the Stochastic Gradient Descent classifier (with log loss function and its other default parameters). When we fit this pipeline on the training set and used it to predict on the unseen test set, it reached a macro average f1-score of 0.67. The poorest performance came from pipeline 3, containing the CountVectorizer (with max_features set to 10,000 and the NLTK word tokenizer) and the multinomial Naïve Bayes classifier with its default parameters, reaching a macro average f1-score of 0.60. \n",
    "As stated above, there were some important limitations to this project. First of all, we merged the original five class labels into three class labels: “Positive”, “Neutral” and “Negative”. Secondly, we only used half of the data set for computational efficiency. \n",
    "In conclusion, pipeline 4 was the best performing pipeline, reaching a macro average f1-score of 0.68 during model selection and 0.67 during the assessment on the test set. Pipeline 3 had the lowest performance, reaching a macro average f1-score of 0.60. \n",
    "For this project, we only used the textual content in the “OriginalTweet” column to predict class labels. For future research, it might be interesting to include “Location” or “TweetAt” to see how these could potentially influence the “Sentiment” classification. \n"
   ]
  }
 ],
 "metadata": {
  "kernelspec": {
   "display_name": "Python 3",
   "language": "python",
   "name": "python3"
  },
  "language_info": {
   "codemirror_mode": {
    "name": "ipython",
    "version": 3
   },
   "file_extension": ".py",
   "mimetype": "text/x-python",
   "name": "python",
   "nbconvert_exporter": "python",
   "pygments_lexer": "ipython3",
   "version": "3.8.5"
  }
 },
 "nbformat": 4,
 "nbformat_minor": 4
}
